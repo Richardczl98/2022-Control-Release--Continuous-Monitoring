{
 "cells": [
  {
   "attachments": {},
   "cell_type": "markdown",
   "metadata": {},
   "source": [
    "# Import necessary packages"
   ]
  },
  {
   "cell_type": "code",
   "execution_count": 51,
   "metadata": {},
   "outputs": [],
   "source": [
    "import os\n",
    "import sys\n",
    "import math\n",
    "import numpy as np\n",
    "import pandas as pd\n",
    "from tqdm import tqdm\n",
    "import datetime\n",
    "import matplotlib.pyplot as plt\n",
    "import matplotlib.dates as mdates\n",
    "from pathlib import PurePath\n",
    "import warnings\n",
    "warnings.filterwarnings(\"ignore\")"
   ]
  },
  {
   "attachments": {},
   "cell_type": "markdown",
   "metadata": {},
   "source": [
    "# Set inputs for plot module"
   ]
  },
  {
   "cell_type": "code",
   "execution_count": 52,
   "metadata": {},
   "outputs": [
    {
     "name": "stdout",
     "output_type": "stream",
     "text": [
      "Input parameters:\n",
      "threshold =  2\n",
      "ignore_duration =  60\n",
      "short_stack =  0\n"
     ]
    }
   ],
   "source": [
    "# threshold = 1  # use match results computed by 1 times radius\n",
    "threshold = 2    # use match results computed by 2 times radius\n",
    "# threshold = 4  # use match results computed by 4 times radius  \n",
    "\n",
    "# ignore_duration = 30    # use match results computed by ignore events which duration is less than 30 seconds\n",
    "ignore_duration = 60  # use match results computed by ignore events which duration is less than 60 seconds\n",
    "# ignore_duration = 120 # use match results computed by ignore events which duration is less than 120 seconds\n",
    "\n",
    "short_stack = 0 # use match results computed by short stack\n",
    "# short_stack = 1 # use match results computed by all experimental dates\n",
    "\n",
    "print(\"Input parameters:\")\n",
    "print(\"threshold = \", threshold)\n",
    "print(\"ignore_duration = \", ignore_duration)\n",
    "print(\"short_stack = \", short_stack)"
   ]
  },
  {
   "attachments": {},
   "cell_type": "markdown",
   "metadata": {},
   "source": [
    "# Load Data\n",
    "\n",
    "The module's data consists of Stanford Defined Events, Team Defined Events, and their respective classifications."
   ]
  },
  {
   "cell_type": "code",
   "execution_count": 53,
   "metadata": {},
   "outputs": [
    {
     "name": "stdout",
     "output_type": "stream",
     "text": [
      "Processing Andium...\n",
      "\tStanford events: 574\n",
      "\tTeam events: 244\n",
      "\tTime-based events: 4492800\n",
      "Processing Canary...\n",
      "\tStanford events: 112\n",
      "\tTeam events: 38\n",
      "\tTime-based events: 4492800\n",
      "Processing Ecoteco...\n",
      "\tStanford events: 230\n",
      "\tTeam events: 1050\n",
      "\tTime-based events: 4492800\n",
      "Processing Kuva...\n",
      "\tStanford events: 503\n",
      "\tTeam events: 393\n",
      "\tTime-based events: 4492800\n",
      "Processing Oiler...\n",
      "\tStanford events: 305\n",
      "\tTeam events: 263\n",
      "\tTime-based events: 4492800\n",
      "Processing Qube...\n",
      "\tStanford events: 298\n",
      "\tTeam events: 218\n",
      "\tTime-based events: 4492800\n",
      "Processing Sensirion...\n",
      "\tStanford events: 321\n",
      "\tTeam events: 118\n",
      "\tTime-based events: 4492800\n"
     ]
    }
   ],
   "source": [
    "def get_total_events(events_PN, is_true_event=False):\n",
    "    \"\"\"\n",
    "    Get the toal events from the match results, including positive, negative and D events.\n",
    "    Args:\n",
    "        events_PN: the events with positive and negative classes\n",
    "    Returns:\n",
    "        the events with positive, negative and D classes\n",
    "    \"\"\"\n",
    "    start_column = \"EventStart\"\n",
    "    end_column = \"EventEnd\"\n",
    "    class_column = \"Eventclass\"\n",
    "\n",
    "    events_date = events_PN[start_column].apply(lambda x: x.date())\n",
    "    events_PN_aNA = pd.DataFrame(columns=events_PN.columns)\n",
    "\n",
    "    for date in events_date.unique():\n",
    "        tmp_df = events_PN.loc[events_date == date, :]\n",
    "        tmp_df = tmp_df.sort_values(by=[start_column, end_column]).reset_index(drop=True)\n",
    "        if tmp_df.shape[0] == 0:\n",
    "            continue\n",
    "        else:\n",
    "            if tmp_df.loc[0, start_column] > pd.to_datetime(date):\n",
    "                m = events_PN_aNA.shape[0]\n",
    "                events_PN_aNA.loc[m, start_column] = pd.to_datetime(date)\n",
    "                events_PN_aNA.loc[m, end_column] = tmp_df.loc[0, start_column] - datetime.timedelta(seconds=1)\n",
    "                events_PN_aNA.loc[m, class_column] = str(\"NA\")\n",
    "                events_PN_aNA.loc[m, \"label\"] = str(\"NA\")\n",
    "            for i in range(1, tmp_df.shape[0]):\n",
    "                if tmp_df.loc[i, start_column] - tmp_df.loc[i-1, end_column] > datetime.timedelta(seconds=1):\n",
    "                    m = events_PN_aNA.shape[0]\n",
    "                    events_PN_aNA.loc[m, start_column] = tmp_df.loc[i-1, end_column] + datetime.timedelta(seconds=1)\n",
    "                    events_PN_aNA.loc[m, end_column] = tmp_df.loc[i, start_column] - datetime.timedelta(seconds=1)\n",
    "                    events_PN_aNA.loc[m, class_column] = str(\"NA\")\n",
    "                    events_PN_aNA.loc[m, \"label\"] = str(\"NA\")\n",
    "\n",
    "            if tmp_df.loc[tmp_df.shape[0]-1, end_column] < pd.to_datetime(date) + datetime.timedelta(days=1) - datetime.timedelta(seconds=1):\n",
    "                m = events_PN_aNA.shape[0]\n",
    "                events_PN_aNA.loc[m, start_column] = tmp_df.loc[tmp_df.shape[0]-1, end_column] + datetime.timedelta(seconds=1)\n",
    "                events_PN_aNA.loc[m, end_column] = pd.to_datetime(date) + datetime.timedelta(days=1) - datetime.timedelta(seconds=1)\n",
    "                events_PN_aNA.loc[m, class_column] = str(\"NA\")\n",
    "                events_PN_aNA.loc[m, \"label\"] = str(\"NA\")\n",
    "    \n",
    "    # combine the events_PN and events_PN_aNA\n",
    "    events_PN = pd.concat([events_PN, events_PN_aNA], axis=0).reset_index(drop=True)\n",
    "\n",
    "    # sort the events_PN by start time\n",
    "    events_PN = events_PN.sort_values(by=[start_column, end_column]).reset_index(drop=True)\n",
    "\n",
    "    return events_PN\n",
    "\n",
    "\n",
    "def get_events(root_path, sensor_name, threshold, ignore_duration, short_stack):\n",
    "\n",
    "    if short_stack:\n",
    "        path_pre_string = \"ss_\"\n",
    "    else:\n",
    "        path_pre_string = \"\"\n",
    "\n",
    "    # construct the path of the match results\n",
    "    match_path = PurePath(root_path, \n",
    "                              path_pre_string + \"{}xradius_{}xseconds_{}_match_events.csv\".format(threshold, ignore_duration, sensor_name))\n",
    "    \n",
    "    # read the match results\n",
    "    match_data = pd.read_csv(match_path)\n",
    "    match_data[\"EventStart\"] = pd.to_datetime(match_data[\"EventStart\"])\n",
    "    match_data[\"EventEnd\"] = pd.to_datetime(match_data[\"EventEnd\"])\n",
    "\n",
    "    return match_data\n",
    "\n",
    "def get_timebased_events(root_path, sensor_name, threshold, ignore_duration, short_stack):\n",
    "\n",
    "    if short_stack:\n",
    "        path_pre_string = \"ss_\"\n",
    "    else:\n",
    "        path_pre_string = \"\"\n",
    "\n",
    "    # construct the path of the match results\n",
    "    match_path = PurePath(root_path, \n",
    "                              path_pre_string + \"{}xradius_{}xseconds_{}_match_events.csv\".format(threshold, ignore_duration, sensor_name))\n",
    "    # read the match results\n",
    "    match_data = pd.read_csv(match_path)\n",
    "    match_data[\"Datetime (UTC)\"] = pd.to_datetime(match_data[\"Datetime (UTC)\"])\n",
    "    match_data[\"EmissionDate\"] = match_data[\"Datetime (UTC)\"].apply(lambda x: pd.to_datetime(x).date())\n",
    "    match_data = match_data.fillna(str(\"NA\"))\n",
    "\n",
    "    return match_data\n",
    "\n",
    "# set the root path of the match results\n",
    "stanford_root_path = PurePath(\"../../results/03_DetectionAnalysis/Test-case Matching Data/Stanford Defined Events\")\n",
    "team_root_path = PurePath(\"../../results/03_DetectionAnalysis/Test-case Matching Data/Team Defined Events\")\n",
    "time_root_path = PurePath(\"../../results/03_DetectionAnalysis/Test-case Matching Data/Time-based Events\")\n",
    "\n",
    "# set the sensor names\n",
    "sensor_names = [\"Andium\", \"Canary\", \"Ecoteco\", \"Kuva\", \"Oiler\", \"Qube\", \"Sensirion\"]\n",
    "\n",
    "# get the match results\n",
    "stanford_events_dict = {}\n",
    "team_events_dict = {}\n",
    "time_events_dict = {}\n",
    "for sensor_name in sensor_names:\n",
    "    print(\"Processing {}...\".format(sensor_name))\n",
    "    stanford_events_dict[sensor_name] = get_events(stanford_root_path, sensor_name, threshold, ignore_duration, short_stack)\n",
    "    stanford_events_dict[sensor_name] = get_total_events(stanford_events_dict[sensor_name], is_true_event=True)\n",
    "    print(\"\\tStanford events: {}\".format(stanford_events_dict[sensor_name].shape[0]))\n",
    "    team_events_dict[sensor_name] = get_events(team_root_path, sensor_name, threshold, ignore_duration, short_stack)\n",
    "    team_events_dict[sensor_name] = get_total_events(team_events_dict[sensor_name], is_true_event=False)\n",
    "    print(\"\\tTeam events: {}\".format(team_events_dict[sensor_name].shape[0]))\n",
    "    # specially, load Time-based match results\n",
    "    time_events_dict[sensor_name] = get_timebased_events(time_root_path, sensor_name, threshold, ignore_duration, short_stack)\n",
    "    print(\"\\tTime-based events: {}\".format(time_events_dict[sensor_name].shape[0]))"
   ]
  },
  {
   "attachments": {},
   "cell_type": "markdown",
   "metadata": {},
   "source": [
    "# Plot charts"
   ]
  },
  {
   "cell_type": "code",
   "execution_count": 54,
   "metadata": {},
   "outputs": [
    {
     "name": "stdout",
     "output_type": "stream",
     "text": [
      "Plotting compariso figures...\n"
     ]
    },
    {
     "name": "stderr",
     "output_type": "stream",
     "text": [
      "Andium    :   0%|          | 0/52 [00:00<?, ?it/s]"
     ]
    },
    {
     "name": "stdout",
     "output_type": "stream",
     "text": [
      "2022-10-10 00:00:00 Andium\n",
      "14945\n",
      "9\n",
      "5\n"
     ]
    },
    {
     "name": "stderr",
     "output_type": "stream",
     "text": [
      "Andium    :   4%|▍         | 2/52 [00:01<00:32,  1.52it/s]"
     ]
    },
    {
     "name": "stdout",
     "output_type": "stream",
     "text": [
      "2022-10-11 00:00:00 Andium\n",
      "73882\n",
      "11\n",
      "8\n"
     ]
    },
    {
     "name": "stderr",
     "output_type": "stream",
     "text": [
      "Andium    :   6%|▌         | 3/52 [00:02<00:41,  1.18it/s]"
     ]
    },
    {
     "name": "stdout",
     "output_type": "stream",
     "text": [
      "2022-10-12 00:00:00 Andium\n",
      "73310\n",
      "14\n",
      "9\n"
     ]
    },
    {
     "name": "stderr",
     "output_type": "stream",
     "text": [
      "Andium    :   8%|▊         | 4/52 [00:03<00:45,  1.05it/s]"
     ]
    },
    {
     "name": "stdout",
     "output_type": "stream",
     "text": [
      "2022-10-13 00:00:00 Andium\n",
      "65860\n",
      "7\n",
      "4\n"
     ]
    },
    {
     "name": "stderr",
     "output_type": "stream",
     "text": [
      "Andium    :  10%|▉         | 5/52 [00:04<00:42,  1.10it/s]"
     ]
    },
    {
     "name": "stdout",
     "output_type": "stream",
     "text": [
      "2022-10-14 00:00:00 Andium\n"
     ]
    },
    {
     "name": "stderr",
     "output_type": "stream",
     "text": [
      "Andium    :  12%|█▏        | 6/52 [00:04<00:31,  1.48it/s]"
     ]
    },
    {
     "name": "stdout",
     "output_type": "stream",
     "text": [
      "0\n",
      "0\n",
      "0\n",
      "2022-10-15 00:00:00 Andium\n",
      "86400\n",
      "1\n",
      "1\n"
     ]
    },
    {
     "name": "stderr",
     "output_type": "stream",
     "text": [
      "Andium    :  13%|█▎        | 7/52 [00:05<00:36,  1.24it/s]"
     ]
    },
    {
     "name": "stdout",
     "output_type": "stream",
     "text": [
      "2022-10-16 00:00:00 Andium\n",
      "86400\n",
      "1\n",
      "1\n"
     ]
    },
    {
     "name": "stderr",
     "output_type": "stream",
     "text": [
      "Andium    :  15%|█▌        | 8/52 [00:06<00:39,  1.11it/s]"
     ]
    },
    {
     "name": "stdout",
     "output_type": "stream",
     "text": [
      "2022-10-17 00:00:00 Andium\n",
      "69324\n",
      "5\n",
      "7\n"
     ]
    },
    {
     "name": "stderr",
     "output_type": "stream",
     "text": [
      "Andium    :  17%|█▋        | 9/52 [00:07<00:38,  1.13it/s]"
     ]
    },
    {
     "name": "stdout",
     "output_type": "stream",
     "text": [
      "2022-10-18 00:00:00 Andium\n"
     ]
    },
    {
     "name": "stderr",
     "output_type": "stream",
     "text": [
      "Andium    :  21%|██        | 11/52 [00:08<00:21,  1.88it/s]"
     ]
    },
    {
     "name": "stdout",
     "output_type": "stream",
     "text": [
      "0\n",
      "0\n",
      "0\n",
      "2022-10-19 00:00:00 Andium\n",
      "0\n",
      "0\n",
      "0\n",
      "2022-10-20 00:00:00 Andium\n"
     ]
    },
    {
     "name": "stderr",
     "output_type": "stream",
     "text": [
      "Andium    :  23%|██▎       | 12/52 [00:08<00:17,  2.31it/s]"
     ]
    },
    {
     "name": "stdout",
     "output_type": "stream",
     "text": [
      "0\n",
      "0\n",
      "0\n",
      "2022-10-21 00:00:00 Andium\n"
     ]
    },
    {
     "name": "stderr",
     "output_type": "stream",
     "text": [
      "Andium    :  25%|██▌       | 13/52 [00:08<00:14,  2.75it/s]"
     ]
    },
    {
     "name": "stdout",
     "output_type": "stream",
     "text": [
      "0\n",
      "0\n",
      "0\n",
      "2022-10-22 00:00:00 Andium\n",
      "0\n",
      "0\n",
      "0\n",
      "2022-10-23 00:00:00 Andium\n"
     ]
    },
    {
     "name": "stderr",
     "output_type": "stream",
     "text": [
      "Andium    :  27%|██▋       | 14/52 [00:08<00:11,  3.18it/s]"
     ]
    },
    {
     "name": "stdout",
     "output_type": "stream",
     "text": [
      "86400\n",
      "1\n",
      "1\n"
     ]
    },
    {
     "name": "stderr",
     "output_type": "stream",
     "text": [
      "Andium    :  29%|██▉       | 15/52 [00:09<00:20,  1.83it/s]"
     ]
    },
    {
     "name": "stdout",
     "output_type": "stream",
     "text": [
      "2022-10-24 00:00:00 Andium\n",
      "68539\n",
      "18\n",
      "13\n"
     ]
    },
    {
     "name": "stderr",
     "output_type": "stream",
     "text": [
      "Andium    :  31%|███       | 16/52 [00:10<00:24,  1.50it/s]"
     ]
    },
    {
     "name": "stdout",
     "output_type": "stream",
     "text": [
      "2022-10-25 00:00:00 Andium\n",
      "78553\n",
      "44\n",
      "9\n"
     ]
    },
    {
     "name": "stderr",
     "output_type": "stream",
     "text": [
      "Andium    :  33%|███▎      | 17/52 [00:11<00:26,  1.33it/s]"
     ]
    },
    {
     "name": "stdout",
     "output_type": "stream",
     "text": [
      "2022-10-26 00:00:00 Andium\n",
      "79559\n",
      "31\n",
      "7\n"
     ]
    },
    {
     "name": "stderr",
     "output_type": "stream",
     "text": [
      "Andium    :  35%|███▍      | 18/52 [00:12<00:27,  1.26it/s]"
     ]
    },
    {
     "name": "stdout",
     "output_type": "stream",
     "text": [
      "2022-10-27 00:00:00 Andium\n",
      "80260\n",
      "22\n",
      "1\n"
     ]
    },
    {
     "name": "stderr",
     "output_type": "stream",
     "text": [
      "Andium    :  37%|███▋      | 19/52 [00:13<00:27,  1.22it/s]"
     ]
    },
    {
     "name": "stdout",
     "output_type": "stream",
     "text": [
      "2022-10-28 00:00:00 Andium\n",
      "80377\n",
      "73\n",
      "11\n"
     ]
    },
    {
     "name": "stderr",
     "output_type": "stream",
     "text": [
      "Andium    :  38%|███▊      | 20/52 [00:14<00:27,  1.16it/s]"
     ]
    },
    {
     "name": "stdout",
     "output_type": "stream",
     "text": [
      "2022-10-29 00:00:00 Andium\n",
      "82052\n",
      "29\n",
      "5\n"
     ]
    },
    {
     "name": "stderr",
     "output_type": "stream",
     "text": [
      "Andium    :  40%|████      | 21/52 [00:15<00:27,  1.15it/s]"
     ]
    },
    {
     "name": "stdout",
     "output_type": "stream",
     "text": [
      "2022-10-30 00:00:00 Andium\n",
      "86384\n",
      "11\n",
      "7\n"
     ]
    },
    {
     "name": "stderr",
     "output_type": "stream",
     "text": [
      "Andium    :  42%|████▏     | 22/52 [00:16<00:25,  1.18it/s]"
     ]
    },
    {
     "name": "stdout",
     "output_type": "stream",
     "text": [
      "2022-10-31 00:00:00 Andium\n",
      "82977\n",
      "64\n",
      "23\n"
     ]
    },
    {
     "name": "stderr",
     "output_type": "stream",
     "text": [
      "Andium    :  44%|████▍     | 23/52 [00:16<00:25,  1.15it/s]"
     ]
    },
    {
     "name": "stdout",
     "output_type": "stream",
     "text": [
      "2022-11-01 00:00:00 Andium\n",
      "84147\n",
      "10\n",
      "7\n"
     ]
    },
    {
     "name": "stderr",
     "output_type": "stream",
     "text": [
      "Andium    :  46%|████▌     | 24/52 [00:17<00:23,  1.17it/s]"
     ]
    },
    {
     "name": "stdout",
     "output_type": "stream",
     "text": [
      "2022-11-02 00:00:00 Andium\n"
     ]
    },
    {
     "name": "stderr",
     "output_type": "stream",
     "text": [
      "Andium    :  48%|████▊     | 25/52 [00:18<00:22,  1.19it/s]"
     ]
    },
    {
     "name": "stdout",
     "output_type": "stream",
     "text": [
      "82427\n",
      "7\n",
      "16\n",
      "2022-11-03 00:00:00 Andium\n",
      "83093\n",
      "9\n",
      "4\n"
     ]
    },
    {
     "name": "stderr",
     "output_type": "stream",
     "text": [
      "Andium    :  50%|█████     | 26/52 [00:19<00:21,  1.21it/s]"
     ]
    },
    {
     "name": "stdout",
     "output_type": "stream",
     "text": [
      "2022-11-04 00:00:00 Andium\n",
      "81343\n",
      "11\n",
      "11\n"
     ]
    },
    {
     "name": "stderr",
     "output_type": "stream",
     "text": [
      "Andium    :  52%|█████▏    | 27/52 [00:20<00:20,  1.19it/s]"
     ]
    },
    {
     "name": "stdout",
     "output_type": "stream",
     "text": [
      "2022-11-05 00:00:00 Andium\n",
      "86400\n",
      "1\n",
      "1\n"
     ]
    },
    {
     "name": "stderr",
     "output_type": "stream",
     "text": [
      "Andium    :  54%|█████▍    | 28/52 [00:21<00:21,  1.10it/s]"
     ]
    },
    {
     "name": "stdout",
     "output_type": "stream",
     "text": [
      "2022-11-06 00:00:00 Andium\n",
      "86400\n",
      "1\n",
      "1\n"
     ]
    },
    {
     "name": "stderr",
     "output_type": "stream",
     "text": [
      "Andium    :  56%|█████▌    | 29/52 [00:22<00:22,  1.04it/s]"
     ]
    },
    {
     "name": "stdout",
     "output_type": "stream",
     "text": [
      "2022-11-07 00:00:00 Andium\n",
      "81023\n",
      "11\n",
      "7\n"
     ]
    },
    {
     "name": "stderr",
     "output_type": "stream",
     "text": [
      "Andium    :  58%|█████▊    | 30/52 [00:23<00:20,  1.07it/s]"
     ]
    },
    {
     "name": "stdout",
     "output_type": "stream",
     "text": [
      "2022-11-08 00:00:00 Andium\n",
      "85014\n",
      "16\n",
      "5\n"
     ]
    },
    {
     "name": "stderr",
     "output_type": "stream",
     "text": [
      "Andium    :  60%|█████▉    | 31/52 [00:24<00:19,  1.05it/s]"
     ]
    },
    {
     "name": "stdout",
     "output_type": "stream",
     "text": [
      "2022-11-09 00:00:00 Andium\n",
      "86400\n",
      "1\n",
      "1\n"
     ]
    },
    {
     "name": "stderr",
     "output_type": "stream",
     "text": [
      "Andium    :  62%|██████▏   | 32/52 [00:25<00:19,  1.01it/s]"
     ]
    },
    {
     "name": "stdout",
     "output_type": "stream",
     "text": [
      "2022-11-10 00:00:00 Andium\n",
      "83467\n",
      "17\n",
      "12\n"
     ]
    },
    {
     "name": "stderr",
     "output_type": "stream",
     "text": [
      "Andium    :  63%|██████▎   | 33/52 [00:26<00:18,  1.04it/s]"
     ]
    },
    {
     "name": "stdout",
     "output_type": "stream",
     "text": [
      "2022-11-11 00:00:00 Andium\n",
      "83986\n",
      "19\n",
      "15\n"
     ]
    },
    {
     "name": "stderr",
     "output_type": "stream",
     "text": [
      "Andium    :  65%|██████▌   | 34/52 [00:27<00:16,  1.06it/s]"
     ]
    },
    {
     "name": "stdout",
     "output_type": "stream",
     "text": [
      "2022-11-12 00:00:00 Andium\n",
      "86400\n",
      "1\n",
      "1\n"
     ]
    },
    {
     "name": "stderr",
     "output_type": "stream",
     "text": [
      "Andium    :  67%|██████▋   | 35/52 [00:28<00:17,  1.02s/it]"
     ]
    },
    {
     "name": "stdout",
     "output_type": "stream",
     "text": [
      "2022-11-13 00:00:00 Andium\n",
      "86400\n",
      "1\n",
      "1\n"
     ]
    },
    {
     "name": "stderr",
     "output_type": "stream",
     "text": [
      "Andium    :  69%|██████▉   | 36/52 [00:29<00:16,  1.05s/it]"
     ]
    },
    {
     "name": "stdout",
     "output_type": "stream",
     "text": [
      "2022-11-14 00:00:00 Andium\n",
      "83180\n",
      "41\n",
      "17\n"
     ]
    },
    {
     "name": "stderr",
     "output_type": "stream",
     "text": [
      "Andium    :  71%|███████   | 37/52 [00:30<00:15,  1.01s/it]"
     ]
    },
    {
     "name": "stdout",
     "output_type": "stream",
     "text": [
      "2022-11-15 00:00:00 Andium\n",
      "85657\n",
      "13\n",
      "3\n"
     ]
    },
    {
     "name": "stderr",
     "output_type": "stream",
     "text": [
      "Andium    :  73%|███████▎  | 38/52 [00:31<00:13,  1.03it/s]"
     ]
    },
    {
     "name": "stdout",
     "output_type": "stream",
     "text": [
      "2022-11-16 00:00:00 Andium\n",
      "86355\n",
      "12\n",
      "3\n"
     ]
    },
    {
     "name": "stderr",
     "output_type": "stream",
     "text": [
      "Andium    :  75%|███████▌  | 39/52 [00:32<00:12,  1.03it/s]"
     ]
    },
    {
     "name": "stdout",
     "output_type": "stream",
     "text": [
      "2022-11-17 00:00:00 Andium\n",
      "86279\n",
      "10\n",
      "3\n"
     ]
    },
    {
     "name": "stderr",
     "output_type": "stream",
     "text": [
      "Andium    :  77%|███████▋  | 40/52 [00:33<00:11,  1.06it/s]"
     ]
    },
    {
     "name": "stdout",
     "output_type": "stream",
     "text": [
      "2022-11-18 00:00:00 Andium\n",
      "85969\n",
      "9\n",
      "3\n"
     ]
    },
    {
     "name": "stderr",
     "output_type": "stream",
     "text": [
      "Andium    :  79%|███████▉  | 41/52 [00:33<00:10,  1.09it/s]"
     ]
    },
    {
     "name": "stdout",
     "output_type": "stream",
     "text": [
      "2022-11-19 00:00:00 Andium\n",
      "86400\n",
      "1\n",
      "1\n"
     ]
    },
    {
     "name": "stderr",
     "output_type": "stream",
     "text": [
      "Andium    :  81%|████████  | 42/52 [00:35<00:09,  1.04it/s]"
     ]
    },
    {
     "name": "stdout",
     "output_type": "stream",
     "text": [
      "2022-11-20 00:00:00 Andium\n",
      "86400\n",
      "1\n",
      "1\n"
     ]
    },
    {
     "name": "stderr",
     "output_type": "stream",
     "text": [
      "Andium    :  83%|████████▎ | 43/52 [00:36<00:09,  1.00s/it]"
     ]
    },
    {
     "name": "stdout",
     "output_type": "stream",
     "text": [
      "2022-11-21 00:00:00 Andium\n",
      "84518\n",
      "17\n",
      "5\n"
     ]
    },
    {
     "name": "stderr",
     "output_type": "stream",
     "text": [
      "Andium    :  85%|████████▍ | 44/52 [00:37<00:08,  1.02s/it]"
     ]
    },
    {
     "name": "stdout",
     "output_type": "stream",
     "text": [
      "2022-11-22 00:00:00 Andium\n",
      "86063\n",
      "17\n",
      "9\n"
     ]
    },
    {
     "name": "stderr",
     "output_type": "stream",
     "text": [
      "Andium    :  87%|████████▋ | 45/52 [00:38<00:06,  1.02it/s]"
     ]
    },
    {
     "name": "stdout",
     "output_type": "stream",
     "text": [
      "2022-11-23 00:00:00 Andium\n",
      "66437\n",
      "7\n",
      "5\n"
     ]
    },
    {
     "name": "stderr",
     "output_type": "stream",
     "text": [
      "Andium    :  88%|████████▊ | 46/52 [00:38<00:05,  1.07it/s]"
     ]
    },
    {
     "name": "stdout",
     "output_type": "stream",
     "text": [
      "2022-11-24 00:00:00 Andium\n"
     ]
    },
    {
     "name": "stderr",
     "output_type": "stream",
     "text": [
      "Andium    :  90%|█████████ | 47/52 [00:39<00:03,  1.40it/s]"
     ]
    },
    {
     "name": "stdout",
     "output_type": "stream",
     "text": [
      "0\n",
      "0\n",
      "0\n",
      "2022-11-25 00:00:00 Andium\n"
     ]
    },
    {
     "name": "stderr",
     "output_type": "stream",
     "text": [
      "Andium    :  92%|█████████▏| 48/52 [00:39<00:02,  1.79it/s]"
     ]
    },
    {
     "name": "stdout",
     "output_type": "stream",
     "text": [
      "0\n",
      "0\n",
      "0\n",
      "2022-11-26 00:00:00 Andium\n"
     ]
    },
    {
     "name": "stderr",
     "output_type": "stream",
     "text": [
      "Andium    :  94%|█████████▍| 49/52 [00:39<00:01,  2.21it/s]"
     ]
    },
    {
     "name": "stdout",
     "output_type": "stream",
     "text": [
      "0\n",
      "0\n",
      "0\n",
      "2022-11-27 00:00:00 Andium\n"
     ]
    },
    {
     "name": "stderr",
     "output_type": "stream",
     "text": [
      "Andium    :  96%|█████████▌| 50/52 [00:39<00:00,  2.65it/s]"
     ]
    },
    {
     "name": "stdout",
     "output_type": "stream",
     "text": [
      "0\n",
      "0\n",
      "0\n",
      "2022-11-28 00:00:00 Andium\n"
     ]
    },
    {
     "name": "stderr",
     "output_type": "stream",
     "text": [
      "Andium    :  98%|█████████▊| 51/52 [00:39<00:00,  3.07it/s]"
     ]
    },
    {
     "name": "stdout",
     "output_type": "stream",
     "text": [
      "0\n",
      "0\n",
      "0\n",
      "2022-11-29 00:00:00 Andium\n"
     ]
    },
    {
     "name": "stderr",
     "output_type": "stream",
     "text": [
      "Andium    : 100%|██████████| 52/52 [00:40<00:00,  3.38it/s]"
     ]
    },
    {
     "name": "stdout",
     "output_type": "stream",
     "text": [
      "0\n",
      "0\n",
      "0\n",
      "2022-11-30 00:00:00 Andium\n"
     ]
    },
    {
     "name": "stderr",
     "output_type": "stream",
     "text": [
      "Andium    : 100%|██████████| 52/52 [00:40<00:00,  1.29it/s]\n"
     ]
    },
    {
     "name": "stdout",
     "output_type": "stream",
     "text": [
      "0\n",
      "0\n",
      "0\n"
     ]
    },
    {
     "name": "stderr",
     "output_type": "stream",
     "text": [
      "Canary    :   0%|          | 0/52 [00:00<?, ?it/s]"
     ]
    },
    {
     "name": "stdout",
     "output_type": "stream",
     "text": [
      "2022-10-10 00:00:00 Canary\n"
     ]
    },
    {
     "name": "stderr",
     "output_type": "stream",
     "text": [
      "Canary    :   4%|▍         | 2/52 [00:00<00:15,  3.30it/s]"
     ]
    },
    {
     "name": "stdout",
     "output_type": "stream",
     "text": [
      "0\n",
      "0\n",
      "0\n",
      "2022-10-11 00:00:00 Canary\n"
     ]
    },
    {
     "name": "stderr",
     "output_type": "stream",
     "text": [
      "Canary    :   6%|▌         | 3/52 [00:00<00:12,  3.82it/s]"
     ]
    },
    {
     "name": "stdout",
     "output_type": "stream",
     "text": [
      "0\n",
      "0\n",
      "0\n",
      "2022-10-12 00:00:00 Canary\n"
     ]
    },
    {
     "name": "stderr",
     "output_type": "stream",
     "text": [
      "Canary    :   8%|▊         | 4/52 [00:01<00:11,  4.17it/s]"
     ]
    },
    {
     "name": "stdout",
     "output_type": "stream",
     "text": [
      "0\n",
      "0\n",
      "0\n",
      "2022-10-13 00:00:00 Canary\n"
     ]
    },
    {
     "name": "stderr",
     "output_type": "stream",
     "text": [
      "Canary    :  10%|▉         | 5/52 [00:01<00:10,  4.41it/s]"
     ]
    },
    {
     "name": "stdout",
     "output_type": "stream",
     "text": [
      "0\n",
      "0\n",
      "0\n",
      "2022-10-14 00:00:00 Canary\n"
     ]
    },
    {
     "name": "stderr",
     "output_type": "stream",
     "text": [
      "Canary    :  12%|█▏        | 6/52 [00:01<00:10,  4.57it/s]"
     ]
    },
    {
     "name": "stdout",
     "output_type": "stream",
     "text": [
      "0\n",
      "0\n",
      "0\n",
      "2022-10-15 00:00:00 Canary\n"
     ]
    },
    {
     "name": "stderr",
     "output_type": "stream",
     "text": [
      "Canary    :  13%|█▎        | 7/52 [00:01<00:09,  4.68it/s]"
     ]
    },
    {
     "name": "stdout",
     "output_type": "stream",
     "text": [
      "0\n",
      "0\n",
      "0\n",
      "2022-10-16 00:00:00 Canary\n"
     ]
    },
    {
     "name": "stderr",
     "output_type": "stream",
     "text": [
      "Canary    :  15%|█▌        | 8/52 [00:01<00:09,  4.76it/s]"
     ]
    },
    {
     "name": "stdout",
     "output_type": "stream",
     "text": [
      "0\n",
      "0\n",
      "0\n",
      "2022-10-17 00:00:00 Canary\n"
     ]
    },
    {
     "name": "stderr",
     "output_type": "stream",
     "text": [
      "Canary    :  17%|█▋        | 9/52 [00:02<00:08,  4.81it/s]"
     ]
    },
    {
     "name": "stdout",
     "output_type": "stream",
     "text": [
      "0\n",
      "0\n",
      "0\n",
      "2022-10-18 00:00:00 Canary\n"
     ]
    },
    {
     "name": "stderr",
     "output_type": "stream",
     "text": [
      "Canary    :  19%|█▉        | 10/52 [00:02<00:08,  4.82it/s]"
     ]
    },
    {
     "name": "stdout",
     "output_type": "stream",
     "text": [
      "0\n",
      "0\n",
      "0\n",
      "2022-10-19 00:00:00 Canary\n"
     ]
    },
    {
     "name": "stderr",
     "output_type": "stream",
     "text": [
      "Canary    :  21%|██        | 11/52 [00:02<00:08,  4.86it/s]"
     ]
    },
    {
     "name": "stdout",
     "output_type": "stream",
     "text": [
      "0\n",
      "0\n",
      "0\n",
      "2022-10-20 00:00:00 Canary\n"
     ]
    },
    {
     "name": "stderr",
     "output_type": "stream",
     "text": [
      "Canary    :  23%|██▎       | 12/52 [00:02<00:08,  4.89it/s]"
     ]
    },
    {
     "name": "stdout",
     "output_type": "stream",
     "text": [
      "0\n",
      "0\n",
      "0\n",
      "2022-10-21 00:00:00 Canary\n"
     ]
    },
    {
     "name": "stderr",
     "output_type": "stream",
     "text": [
      "Canary    :  25%|██▌       | 13/52 [00:02<00:07,  4.89it/s]"
     ]
    },
    {
     "name": "stdout",
     "output_type": "stream",
     "text": [
      "0\n",
      "0\n",
      "0\n",
      "2022-10-22 00:00:00 Canary\n"
     ]
    },
    {
     "name": "stderr",
     "output_type": "stream",
     "text": [
      "Canary    :  27%|██▋       | 14/52 [00:03<00:07,  4.91it/s]"
     ]
    },
    {
     "name": "stdout",
     "output_type": "stream",
     "text": [
      "0\n",
      "0\n",
      "0\n",
      "2022-10-23 00:00:00 Canary\n"
     ]
    },
    {
     "name": "stderr",
     "output_type": "stream",
     "text": [
      "Canary    :  29%|██▉       | 15/52 [00:03<00:07,  4.91it/s]"
     ]
    },
    {
     "name": "stdout",
     "output_type": "stream",
     "text": [
      "0\n",
      "0\n",
      "0\n",
      "2022-10-24 00:00:00 Canary\n"
     ]
    },
    {
     "name": "stderr",
     "output_type": "stream",
     "text": [
      "Canary    :  31%|███       | 16/52 [00:03<00:07,  4.92it/s]"
     ]
    },
    {
     "name": "stdout",
     "output_type": "stream",
     "text": [
      "0\n",
      "0\n",
      "0\n",
      "2022-10-25 00:00:00 Canary\n"
     ]
    },
    {
     "name": "stderr",
     "output_type": "stream",
     "text": [
      "Canary    :  33%|███▎      | 17/52 [00:03<00:07,  4.93it/s]"
     ]
    },
    {
     "name": "stdout",
     "output_type": "stream",
     "text": [
      "0\n",
      "0\n",
      "0\n",
      "2022-10-26 00:00:00 Canary\n"
     ]
    },
    {
     "name": "stderr",
     "output_type": "stream",
     "text": [
      "Canary    :  35%|███▍      | 18/52 [00:03<00:06,  4.92it/s]"
     ]
    },
    {
     "name": "stdout",
     "output_type": "stream",
     "text": [
      "0\n",
      "0\n",
      "0\n",
      "2022-10-27 00:00:00 Canary\n"
     ]
    },
    {
     "name": "stderr",
     "output_type": "stream",
     "text": [
      "Canary    :  37%|███▋      | 19/52 [00:04<00:06,  4.93it/s]"
     ]
    },
    {
     "name": "stdout",
     "output_type": "stream",
     "text": [
      "0\n",
      "0\n",
      "0\n",
      "2022-10-28 00:00:00 Canary\n"
     ]
    },
    {
     "name": "stderr",
     "output_type": "stream",
     "text": [
      "Canary    :  38%|███▊      | 20/52 [00:04<00:06,  4.93it/s]"
     ]
    },
    {
     "name": "stdout",
     "output_type": "stream",
     "text": [
      "0\n",
      "0\n",
      "0\n",
      "2022-10-29 00:00:00 Canary\n"
     ]
    },
    {
     "name": "stderr",
     "output_type": "stream",
     "text": [
      "Canary    :  40%|████      | 21/52 [00:04<00:06,  4.94it/s]"
     ]
    },
    {
     "name": "stdout",
     "output_type": "stream",
     "text": [
      "0\n",
      "0\n",
      "0\n",
      "2022-10-30 00:00:00 Canary\n"
     ]
    },
    {
     "name": "stderr",
     "output_type": "stream",
     "text": [
      "Canary    :  42%|████▏     | 22/52 [00:04<00:06,  4.93it/s]"
     ]
    },
    {
     "name": "stdout",
     "output_type": "stream",
     "text": [
      "0\n",
      "0\n",
      "0\n",
      "2022-10-31 00:00:00 Canary\n",
      "83365\n",
      "13\n",
      "3\n"
     ]
    },
    {
     "name": "stderr",
     "output_type": "stream",
     "text": [
      "Canary    :  44%|████▍     | 23/52 [00:05<00:11,  2.49it/s]"
     ]
    },
    {
     "name": "stdout",
     "output_type": "stream",
     "text": [
      "2022-11-01 00:00:00 Canary\n"
     ]
    },
    {
     "name": "stderr",
     "output_type": "stream",
     "text": [
      "Canary    :  46%|████▌     | 24/52 [00:05<00:09,  2.91it/s]"
     ]
    },
    {
     "name": "stdout",
     "output_type": "stream",
     "text": [
      "0\n",
      "0\n",
      "0\n",
      "2022-11-02 00:00:00 Canary\n"
     ]
    },
    {
     "name": "stderr",
     "output_type": "stream",
     "text": [
      "Canary    :  48%|████▊     | 25/52 [00:06<00:08,  3.32it/s]"
     ]
    },
    {
     "name": "stdout",
     "output_type": "stream",
     "text": [
      "0\n",
      "0\n",
      "0\n",
      "2022-11-03 00:00:00 Canary\n",
      "0\n",
      "0\n",
      "0\n",
      "2022-11-04 00:00:00 Canary\n"
     ]
    },
    {
     "name": "stderr",
     "output_type": "stream",
     "text": [
      "Canary    :  52%|█████▏    | 27/52 [00:06<00:06,  3.99it/s]"
     ]
    },
    {
     "name": "stdout",
     "output_type": "stream",
     "text": [
      "0\n",
      "0\n",
      "0\n",
      "2022-11-05 00:00:00 Canary\n"
     ]
    },
    {
     "name": "stderr",
     "output_type": "stream",
     "text": [
      "Canary    :  54%|█████▍    | 28/52 [00:06<00:05,  4.23it/s]"
     ]
    },
    {
     "name": "stdout",
     "output_type": "stream",
     "text": [
      "0\n",
      "0\n",
      "0\n",
      "2022-11-06 00:00:00 Canary\n"
     ]
    },
    {
     "name": "stderr",
     "output_type": "stream",
     "text": [
      "Canary    :  56%|█████▌    | 29/52 [00:06<00:05,  4.41it/s]"
     ]
    },
    {
     "name": "stdout",
     "output_type": "stream",
     "text": [
      "0\n",
      "0\n",
      "0\n",
      "2022-11-07 00:00:00 Canary\n"
     ]
    },
    {
     "name": "stderr",
     "output_type": "stream",
     "text": [
      "Canary    :  58%|█████▊    | 30/52 [00:06<00:04,  4.54it/s]"
     ]
    },
    {
     "name": "stdout",
     "output_type": "stream",
     "text": [
      "0\n",
      "0\n",
      "0\n",
      "2022-11-08 00:00:00 Canary\n"
     ]
    },
    {
     "name": "stderr",
     "output_type": "stream",
     "text": [
      "Canary    :  60%|█████▉    | 31/52 [00:07<00:04,  4.65it/s]"
     ]
    },
    {
     "name": "stdout",
     "output_type": "stream",
     "text": [
      "0\n",
      "0\n",
      "0\n",
      "2022-11-09 00:00:00 Canary\n"
     ]
    },
    {
     "name": "stderr",
     "output_type": "stream",
     "text": [
      "Canary    :  62%|██████▏   | 32/52 [00:07<00:04,  4.73it/s]"
     ]
    },
    {
     "name": "stdout",
     "output_type": "stream",
     "text": [
      "0\n",
      "0\n",
      "0\n",
      "2022-11-10 00:00:00 Canary\n"
     ]
    },
    {
     "name": "stderr",
     "output_type": "stream",
     "text": [
      "Canary    :  63%|██████▎   | 33/52 [00:07<00:03,  4.79it/s]"
     ]
    },
    {
     "name": "stdout",
     "output_type": "stream",
     "text": [
      "0\n",
      "0\n",
      "0\n",
      "2022-11-11 00:00:00 Canary\n"
     ]
    },
    {
     "name": "stderr",
     "output_type": "stream",
     "text": [
      "Canary    :  65%|██████▌   | 34/52 [00:07<00:03,  4.84it/s]"
     ]
    },
    {
     "name": "stdout",
     "output_type": "stream",
     "text": [
      "0\n",
      "0\n",
      "0\n",
      "2022-11-12 00:00:00 Canary\n"
     ]
    },
    {
     "name": "stderr",
     "output_type": "stream",
     "text": [
      "Canary    :  67%|██████▋   | 35/52 [00:07<00:03,  4.87it/s]"
     ]
    },
    {
     "name": "stdout",
     "output_type": "stream",
     "text": [
      "0\n",
      "0\n",
      "0\n",
      "2022-11-13 00:00:00 Canary\n"
     ]
    },
    {
     "name": "stderr",
     "output_type": "stream",
     "text": [
      "Canary    :  69%|██████▉   | 36/52 [00:08<00:03,  4.89it/s]"
     ]
    },
    {
     "name": "stdout",
     "output_type": "stream",
     "text": [
      "0\n",
      "0\n",
      "0\n",
      "2022-11-14 00:00:00 Canary\n"
     ]
    },
    {
     "name": "stderr",
     "output_type": "stream",
     "text": [
      "Canary    :  71%|███████   | 37/52 [00:08<00:03,  4.91it/s]"
     ]
    },
    {
     "name": "stdout",
     "output_type": "stream",
     "text": [
      "0\n",
      "0\n",
      "0\n",
      "2022-11-15 00:00:00 Canary\n",
      "85719\n",
      "9\n",
      "3\n"
     ]
    },
    {
     "name": "stderr",
     "output_type": "stream",
     "text": [
      "Canary    :  73%|███████▎  | 38/52 [00:09<00:05,  2.46it/s]"
     ]
    },
    {
     "name": "stdout",
     "output_type": "stream",
     "text": [
      "2022-11-16 00:00:00 Canary\n",
      "86335\n",
      "12\n",
      "3\n"
     ]
    },
    {
     "name": "stderr",
     "output_type": "stream",
     "text": [
      "Canary    :  75%|███████▌  | 39/52 [00:10<00:07,  1.71it/s]"
     ]
    },
    {
     "name": "stdout",
     "output_type": "stream",
     "text": [
      "2022-11-17 00:00:00 Canary\n",
      "86239\n",
      "9\n",
      "3\n"
     ]
    },
    {
     "name": "stderr",
     "output_type": "stream",
     "text": [
      "Canary    :  77%|███████▋  | 40/52 [00:11<00:08,  1.49it/s]"
     ]
    },
    {
     "name": "stdout",
     "output_type": "stream",
     "text": [
      "2022-11-18 00:00:00 Canary\n",
      "86089\n",
      "5\n",
      "3\n"
     ]
    },
    {
     "name": "stderr",
     "output_type": "stream",
     "text": [
      "Canary    :  79%|███████▉  | 41/52 [00:11<00:07,  1.39it/s]"
     ]
    },
    {
     "name": "stdout",
     "output_type": "stream",
     "text": [
      "2022-11-19 00:00:00 Canary\n",
      "86400\n",
      "1\n",
      "1\n"
     ]
    },
    {
     "name": "stderr",
     "output_type": "stream",
     "text": [
      "Canary    :  81%|████████  | 42/52 [00:13<00:08,  1.21it/s]"
     ]
    },
    {
     "name": "stdout",
     "output_type": "stream",
     "text": [
      "2022-11-20 00:00:00 Canary\n",
      "86400\n",
      "1\n",
      "1\n"
     ]
    },
    {
     "name": "stderr",
     "output_type": "stream",
     "text": [
      "Canary    :  83%|████████▎ | 43/52 [00:14<00:08,  1.10it/s]"
     ]
    },
    {
     "name": "stdout",
     "output_type": "stream",
     "text": [
      "2022-11-21 00:00:00 Canary\n",
      "84563\n",
      "15\n",
      "3\n"
     ]
    },
    {
     "name": "stderr",
     "output_type": "stream",
     "text": [
      "Canary    :  85%|████████▍ | 44/52 [00:15<00:07,  1.10it/s]"
     ]
    },
    {
     "name": "stdout",
     "output_type": "stream",
     "text": [
      "2022-11-22 00:00:00 Canary\n",
      "86052\n",
      "14\n",
      "5\n"
     ]
    },
    {
     "name": "stderr",
     "output_type": "stream",
     "text": [
      "Canary    :  87%|████████▋ | 45/52 [00:16<00:07,  1.01s/it]"
     ]
    },
    {
     "name": "stdout",
     "output_type": "stream",
     "text": [
      "2022-11-23 00:00:00 Canary\n",
      "85385\n",
      "13\n",
      "3\n"
     ]
    },
    {
     "name": "stderr",
     "output_type": "stream",
     "text": [
      "Canary    :  88%|████████▊ | 46/52 [00:17<00:05,  1.03it/s]"
     ]
    },
    {
     "name": "stdout",
     "output_type": "stream",
     "text": [
      "2022-11-24 00:00:00 Canary\n",
      "86400\n",
      "1\n",
      "1\n"
     ]
    },
    {
     "name": "stderr",
     "output_type": "stream",
     "text": [
      "Canary    :  90%|█████████ | 47/52 [00:18<00:05,  1.01s/it]"
     ]
    },
    {
     "name": "stdout",
     "output_type": "stream",
     "text": [
      "2022-11-25 00:00:00 Canary\n",
      "86400\n",
      "1\n",
      "1\n"
     ]
    },
    {
     "name": "stderr",
     "output_type": "stream",
     "text": [
      "Canary    :  92%|█████████▏| 48/52 [00:19<00:04,  1.03s/it]"
     ]
    },
    {
     "name": "stdout",
     "output_type": "stream",
     "text": [
      "2022-11-26 00:00:00 Canary\n",
      "86400\n",
      "1\n",
      "1\n"
     ]
    },
    {
     "name": "stderr",
     "output_type": "stream",
     "text": [
      "Canary    :  94%|█████████▍| 49/52 [00:20<00:03,  1.05s/it]"
     ]
    },
    {
     "name": "stdout",
     "output_type": "stream",
     "text": [
      "2022-11-27 00:00:00 Canary\n",
      "86400\n",
      "1\n",
      "1\n"
     ]
    },
    {
     "name": "stderr",
     "output_type": "stream",
     "text": [
      "Canary    :  96%|█████████▌| 50/52 [00:21<00:02,  1.06s/it]"
     ]
    },
    {
     "name": "stdout",
     "output_type": "stream",
     "text": [
      "2022-11-28 00:00:00 Canary\n",
      "86058\n",
      "10\n",
      "3\n"
     ]
    },
    {
     "name": "stderr",
     "output_type": "stream",
     "text": [
      "Canary    :  98%|█████████▊| 51/52 [00:22<00:00,  1.00it/s]"
     ]
    },
    {
     "name": "stdout",
     "output_type": "stream",
     "text": [
      "2022-11-29 00:00:00 Canary\n",
      "66542\n",
      "6\n",
      "3\n"
     ]
    },
    {
     "name": "stderr",
     "output_type": "stream",
     "text": [
      "Canary    : 100%|██████████| 52/52 [00:23<00:00,  1.01it/s]"
     ]
    },
    {
     "name": "stdout",
     "output_type": "stream",
     "text": [
      "2022-11-30 00:00:00 Canary\n"
     ]
    },
    {
     "name": "stderr",
     "output_type": "stream",
     "text": [
      "Canary    : 100%|██████████| 52/52 [00:23<00:00,  2.21it/s]\n"
     ]
    },
    {
     "name": "stdout",
     "output_type": "stream",
     "text": [
      "0\n",
      "0\n",
      "0\n"
     ]
    },
    {
     "name": "stderr",
     "output_type": "stream",
     "text": [
      "Ecoteco   :   0%|          | 0/52 [00:00<?, ?it/s]"
     ]
    },
    {
     "name": "stdout",
     "output_type": "stream",
     "text": [
      "2022-10-10 00:00:00 Ecoteco\n"
     ]
    },
    {
     "name": "stderr",
     "output_type": "stream",
     "text": [
      "Ecoteco   :   4%|▍         | 2/52 [00:00<00:15,  3.17it/s]"
     ]
    },
    {
     "name": "stdout",
     "output_type": "stream",
     "text": [
      "0\n",
      "0\n",
      "0\n",
      "2022-10-11 00:00:00 Ecoteco\n"
     ]
    },
    {
     "name": "stderr",
     "output_type": "stream",
     "text": [
      "Ecoteco   :   6%|▌         | 3/52 [00:00<00:13,  3.71it/s]"
     ]
    },
    {
     "name": "stdout",
     "output_type": "stream",
     "text": [
      "0\n",
      "0\n",
      "0\n",
      "2022-10-12 00:00:00 Ecoteco\n"
     ]
    },
    {
     "name": "stderr",
     "output_type": "stream",
     "text": [
      "Ecoteco   :   8%|▊         | 4/52 [00:01<00:11,  4.07it/s]"
     ]
    },
    {
     "name": "stdout",
     "output_type": "stream",
     "text": [
      "0\n",
      "0\n",
      "0\n",
      "2022-10-13 00:00:00 Ecoteco\n"
     ]
    },
    {
     "name": "stderr",
     "output_type": "stream",
     "text": [
      "Ecoteco   :  10%|▉         | 5/52 [00:01<00:10,  4.30it/s]"
     ]
    },
    {
     "name": "stdout",
     "output_type": "stream",
     "text": [
      "0\n",
      "0\n",
      "0\n",
      "2022-10-14 00:00:00 Ecoteco\n"
     ]
    },
    {
     "name": "stderr",
     "output_type": "stream",
     "text": [
      "Ecoteco   :  12%|█▏        | 6/52 [00:01<00:10,  4.48it/s]"
     ]
    },
    {
     "name": "stdout",
     "output_type": "stream",
     "text": [
      "0\n",
      "0\n",
      "0\n",
      "2022-10-15 00:00:00 Ecoteco\n"
     ]
    },
    {
     "name": "stderr",
     "output_type": "stream",
     "text": [
      "Ecoteco   :  13%|█▎        | 7/52 [00:01<00:09,  4.62it/s]"
     ]
    },
    {
     "name": "stdout",
     "output_type": "stream",
     "text": [
      "0\n",
      "0\n",
      "0\n",
      "2022-10-16 00:00:00 Ecoteco\n"
     ]
    },
    {
     "name": "stderr",
     "output_type": "stream",
     "text": [
      "Ecoteco   :  15%|█▌        | 8/52 [00:01<00:09,  4.71it/s]"
     ]
    },
    {
     "name": "stdout",
     "output_type": "stream",
     "text": [
      "0\n",
      "0\n",
      "0\n",
      "2022-10-17 00:00:00 Ecoteco\n"
     ]
    },
    {
     "name": "stderr",
     "output_type": "stream",
     "text": [
      "Ecoteco   :  17%|█▋        | 9/52 [00:02<00:09,  4.77it/s]"
     ]
    },
    {
     "name": "stdout",
     "output_type": "stream",
     "text": [
      "0\n",
      "0\n",
      "0\n",
      "2022-10-18 00:00:00 Ecoteco\n"
     ]
    },
    {
     "name": "stderr",
     "output_type": "stream",
     "text": [
      "Ecoteco   :  19%|█▉        | 10/52 [00:02<00:08,  4.81it/s]"
     ]
    },
    {
     "name": "stdout",
     "output_type": "stream",
     "text": [
      "0\n",
      "0\n",
      "0\n",
      "2022-10-19 00:00:00 Ecoteco\n"
     ]
    },
    {
     "name": "stderr",
     "output_type": "stream",
     "text": [
      "Ecoteco   :  21%|██        | 11/52 [00:02<00:08,  4.84it/s]"
     ]
    },
    {
     "name": "stdout",
     "output_type": "stream",
     "text": [
      "0\n",
      "0\n",
      "0\n",
      "2022-10-20 00:00:00 Ecoteco\n"
     ]
    },
    {
     "name": "stderr",
     "output_type": "stream",
     "text": [
      "Ecoteco   :  23%|██▎       | 12/52 [00:02<00:08,  4.86it/s]"
     ]
    },
    {
     "name": "stdout",
     "output_type": "stream",
     "text": [
      "0\n",
      "0\n",
      "0\n",
      "2022-10-21 00:00:00 Ecoteco\n"
     ]
    },
    {
     "name": "stderr",
     "output_type": "stream",
     "text": [
      "Ecoteco   :  25%|██▌       | 13/52 [00:02<00:07,  4.89it/s]"
     ]
    },
    {
     "name": "stdout",
     "output_type": "stream",
     "text": [
      "0\n",
      "0\n",
      "0\n",
      "2022-10-22 00:00:00 Ecoteco\n"
     ]
    },
    {
     "name": "stderr",
     "output_type": "stream",
     "text": [
      "Ecoteco   :  27%|██▋       | 14/52 [00:03<00:07,  4.90it/s]"
     ]
    },
    {
     "name": "stdout",
     "output_type": "stream",
     "text": [
      "0\n",
      "0\n",
      "0\n",
      "2022-10-23 00:00:00 Ecoteco\n"
     ]
    },
    {
     "name": "stderr",
     "output_type": "stream",
     "text": [
      "Ecoteco   :  29%|██▉       | 15/52 [00:03<00:07,  4.91it/s]"
     ]
    },
    {
     "name": "stdout",
     "output_type": "stream",
     "text": [
      "0\n",
      "0\n",
      "0\n",
      "2022-10-24 00:00:00 Ecoteco\n"
     ]
    },
    {
     "name": "stderr",
     "output_type": "stream",
     "text": [
      "Ecoteco   :  31%|███       | 16/52 [00:03<00:07,  4.91it/s]"
     ]
    },
    {
     "name": "stdout",
     "output_type": "stream",
     "text": [
      "0\n",
      "0\n",
      "0\n",
      "2022-10-25 00:00:00 Ecoteco\n"
     ]
    },
    {
     "name": "stderr",
     "output_type": "stream",
     "text": [
      "Ecoteco   :  33%|███▎      | 17/52 [00:03<00:07,  4.91it/s]"
     ]
    },
    {
     "name": "stdout",
     "output_type": "stream",
     "text": [
      "0\n",
      "0\n",
      "0\n",
      "2022-10-26 00:00:00 Ecoteco\n"
     ]
    },
    {
     "name": "stderr",
     "output_type": "stream",
     "text": [
      "Ecoteco   :  35%|███▍      | 18/52 [00:03<00:06,  4.91it/s]"
     ]
    },
    {
     "name": "stdout",
     "output_type": "stream",
     "text": [
      "0\n",
      "0\n",
      "0\n",
      "2022-10-27 00:00:00 Ecoteco\n"
     ]
    },
    {
     "name": "stderr",
     "output_type": "stream",
     "text": [
      "Ecoteco   :  37%|███▋      | 19/52 [00:04<00:06,  4.92it/s]"
     ]
    },
    {
     "name": "stdout",
     "output_type": "stream",
     "text": [
      "0\n",
      "0\n",
      "0\n",
      "2022-10-28 00:00:00 Ecoteco\n",
      "22943\n",
      "21\n",
      "172\n"
     ]
    },
    {
     "name": "stderr",
     "output_type": "stream",
     "text": [
      "Ecoteco   :  38%|███▊      | 20/52 [00:05<00:15,  2.09it/s]"
     ]
    },
    {
     "name": "stdout",
     "output_type": "stream",
     "text": [
      "2022-10-29 00:00:00 Ecoteco\n",
      "82261\n",
      "7\n",
      "109\n"
     ]
    },
    {
     "name": "stderr",
     "output_type": "stream",
     "text": [
      "Ecoteco   :  40%|████      | 21/52 [00:06<00:21,  1.42it/s]"
     ]
    },
    {
     "name": "stdout",
     "output_type": "stream",
     "text": [
      "2022-10-30 00:00:00 Ecoteco\n",
      "86400\n",
      "7\n",
      "1\n"
     ]
    },
    {
     "name": "stderr",
     "output_type": "stream",
     "text": [
      "Ecoteco   :  42%|████▏     | 22/52 [00:07<00:21,  1.38it/s]"
     ]
    },
    {
     "name": "stdout",
     "output_type": "stream",
     "text": [
      "2022-10-31 00:00:00 Ecoteco\n",
      "83365\n",
      "13\n",
      "53\n"
     ]
    },
    {
     "name": "stderr",
     "output_type": "stream",
     "text": [
      "Ecoteco   :  44%|████▍     | 23/52 [00:08<00:22,  1.27it/s]"
     ]
    },
    {
     "name": "stdout",
     "output_type": "stream",
     "text": [
      "2022-11-01 00:00:00 Ecoteco\n",
      "84214\n",
      "7\n",
      "5\n"
     ]
    },
    {
     "name": "stderr",
     "output_type": "stream",
     "text": [
      "Ecoteco   :  46%|████▌     | 24/52 [00:08<00:22,  1.26it/s]"
     ]
    },
    {
     "name": "stdout",
     "output_type": "stream",
     "text": [
      "2022-11-02 00:00:00 Ecoteco\n",
      "82522\n",
      "5\n",
      "13\n"
     ]
    },
    {
     "name": "stderr",
     "output_type": "stream",
     "text": [
      "Ecoteco   :  48%|████▊     | 25/52 [00:09<00:23,  1.16it/s]"
     ]
    },
    {
     "name": "stdout",
     "output_type": "stream",
     "text": [
      "2022-11-03 00:00:00 Ecoteco\n",
      "83144\n",
      "5\n",
      "14\n"
     ]
    },
    {
     "name": "stderr",
     "output_type": "stream",
     "text": [
      "Ecoteco   :  50%|█████     | 26/52 [00:10<00:21,  1.19it/s]"
     ]
    },
    {
     "name": "stdout",
     "output_type": "stream",
     "text": [
      "2022-11-04 00:00:00 Ecoteco\n",
      "81477\n",
      "5\n",
      "83\n"
     ]
    },
    {
     "name": "stderr",
     "output_type": "stream",
     "text": [
      "Ecoteco   :  52%|█████▏    | 27/52 [00:11<00:21,  1.14it/s]"
     ]
    },
    {
     "name": "stdout",
     "output_type": "stream",
     "text": [
      "2022-11-05 00:00:00 Ecoteco\n",
      "86400\n",
      "1\n",
      "1\n"
     ]
    },
    {
     "name": "stderr",
     "output_type": "stream",
     "text": [
      "Ecoteco   :  54%|█████▍    | 28/52 [00:12<00:22,  1.06it/s]"
     ]
    },
    {
     "name": "stdout",
     "output_type": "stream",
     "text": [
      "2022-11-06 00:00:00 Ecoteco\n",
      "86400\n",
      "1\n",
      "15\n"
     ]
    },
    {
     "name": "stderr",
     "output_type": "stream",
     "text": [
      "Ecoteco   :  56%|█████▌    | 29/52 [00:13<00:22,  1.01it/s]"
     ]
    },
    {
     "name": "stdout",
     "output_type": "stream",
     "text": [
      "2022-11-07 00:00:00 Ecoteco\n",
      "81056\n",
      "11\n",
      "63\n"
     ]
    },
    {
     "name": "stderr",
     "output_type": "stream",
     "text": [
      "Ecoteco   :  58%|█████▊    | 30/52 [00:15<00:23,  1.06s/it]"
     ]
    },
    {
     "name": "stdout",
     "output_type": "stream",
     "text": [
      "2022-11-08 00:00:00 Ecoteco\n",
      "85100\n",
      "6\n",
      "29\n"
     ]
    },
    {
     "name": "stderr",
     "output_type": "stream",
     "text": [
      "Ecoteco   :  60%|█████▉    | 31/52 [00:16<00:21,  1.02s/it]"
     ]
    },
    {
     "name": "stdout",
     "output_type": "stream",
     "text": [
      "2022-11-09 00:00:00 Ecoteco\n",
      "86400\n",
      "1\n",
      "1\n"
     ]
    },
    {
     "name": "stderr",
     "output_type": "stream",
     "text": [
      "Ecoteco   :  62%|██████▏   | 32/52 [00:17<00:20,  1.04s/it]"
     ]
    },
    {
     "name": "stdout",
     "output_type": "stream",
     "text": [
      "2022-11-10 00:00:00 Ecoteco\n",
      "83504\n",
      "13\n",
      "3\n"
     ]
    },
    {
     "name": "stderr",
     "output_type": "stream",
     "text": [
      "Ecoteco   :  63%|██████▎   | 33/52 [00:18<00:19,  1.05s/it]"
     ]
    },
    {
     "name": "stdout",
     "output_type": "stream",
     "text": [
      "2022-11-11 00:00:00 Ecoteco\n",
      "84094\n",
      "15\n",
      "11\n"
     ]
    },
    {
     "name": "stderr",
     "output_type": "stream",
     "text": [
      "Ecoteco   :  65%|██████▌   | 34/52 [00:19<00:18,  1.01s/it]"
     ]
    },
    {
     "name": "stdout",
     "output_type": "stream",
     "text": [
      "2022-11-12 00:00:00 Ecoteco\n",
      "86400\n",
      "1\n",
      "1\n"
     ]
    },
    {
     "name": "stderr",
     "output_type": "stream",
     "text": [
      "Ecoteco   :  67%|██████▋   | 35/52 [00:20<00:17,  1.04s/it]"
     ]
    },
    {
     "name": "stdout",
     "output_type": "stream",
     "text": [
      "2022-11-13 00:00:00 Ecoteco\n",
      "86400\n",
      "1\n",
      "1\n"
     ]
    },
    {
     "name": "stderr",
     "output_type": "stream",
     "text": [
      "Ecoteco   :  69%|██████▉   | 36/52 [00:21<00:16,  1.06s/it]"
     ]
    },
    {
     "name": "stdout",
     "output_type": "stream",
     "text": [
      "2022-11-14 00:00:00 Ecoteco\n",
      "84715\n",
      "19\n",
      "43\n"
     ]
    },
    {
     "name": "stderr",
     "output_type": "stream",
     "text": [
      "Ecoteco   :  71%|███████   | 37/52 [00:22<00:15,  1.03s/it]"
     ]
    },
    {
     "name": "stdout",
     "output_type": "stream",
     "text": [
      "2022-11-15 00:00:00 Ecoteco\n",
      "85719\n",
      "9\n",
      "25\n"
     ]
    },
    {
     "name": "stderr",
     "output_type": "stream",
     "text": [
      "Ecoteco   :  73%|███████▎  | 38/52 [00:23<00:14,  1.01s/it]"
     ]
    },
    {
     "name": "stdout",
     "output_type": "stream",
     "text": [
      "2022-11-16 00:00:00 Ecoteco\n",
      "86335\n",
      "12\n",
      "1\n"
     ]
    },
    {
     "name": "stderr",
     "output_type": "stream",
     "text": [
      "Ecoteco   :  75%|███████▌  | 39/52 [00:24<00:12,  1.03it/s]"
     ]
    },
    {
     "name": "stdout",
     "output_type": "stream",
     "text": [
      "2022-11-17 00:00:00 Ecoteco\n",
      "86239\n",
      "9\n",
      "51\n"
     ]
    },
    {
     "name": "stderr",
     "output_type": "stream",
     "text": [
      "Ecoteco   :  77%|███████▋  | 40/52 [00:25<00:11,  1.01it/s]"
     ]
    },
    {
     "name": "stdout",
     "output_type": "stream",
     "text": [
      "2022-11-18 00:00:00 Ecoteco\n",
      "86089\n",
      "5\n",
      "9\n"
     ]
    },
    {
     "name": "stderr",
     "output_type": "stream",
     "text": [
      "Ecoteco   :  79%|███████▉  | 41/52 [00:26<00:12,  1.10s/it]"
     ]
    },
    {
     "name": "stdout",
     "output_type": "stream",
     "text": [
      "2022-11-19 00:00:00 Ecoteco\n",
      "86400\n",
      "1\n",
      "1\n"
     ]
    },
    {
     "name": "stderr",
     "output_type": "stream",
     "text": [
      "Ecoteco   :  81%|████████  | 42/52 [00:27<00:11,  1.11s/it]"
     ]
    },
    {
     "name": "stdout",
     "output_type": "stream",
     "text": [
      "2022-11-20 00:00:00 Ecoteco\n",
      "86400\n",
      "1\n",
      "1\n"
     ]
    },
    {
     "name": "stderr",
     "output_type": "stream",
     "text": [
      "Ecoteco   :  83%|████████▎ | 43/52 [00:28<00:09,  1.11s/it]"
     ]
    },
    {
     "name": "stdout",
     "output_type": "stream",
     "text": [
      "2022-11-21 00:00:00 Ecoteco\n",
      "84563\n",
      "15\n",
      "205\n"
     ]
    },
    {
     "name": "stderr",
     "output_type": "stream",
     "text": [
      "Ecoteco   :  85%|████████▍ | 44/52 [00:30<00:09,  1.16s/it]"
     ]
    },
    {
     "name": "stdout",
     "output_type": "stream",
     "text": [
      "2022-11-22 00:00:00 Ecoteco\n",
      "86052\n",
      "14\n",
      "57\n"
     ]
    },
    {
     "name": "stderr",
     "output_type": "stream",
     "text": [
      "Ecoteco   :  87%|████████▋ | 45/52 [00:31<00:08,  1.16s/it]"
     ]
    },
    {
     "name": "stdout",
     "output_type": "stream",
     "text": [
      "2022-11-23 00:00:00 Ecoteco\n",
      "85385\n",
      "13\n",
      "47\n"
     ]
    },
    {
     "name": "stderr",
     "output_type": "stream",
     "text": [
      "Ecoteco   :  88%|████████▊ | 46/52 [00:32<00:06,  1.11s/it]"
     ]
    },
    {
     "name": "stdout",
     "output_type": "stream",
     "text": [
      "2022-11-24 00:00:00 Ecoteco\n",
      "86400\n",
      "1\n",
      "1\n"
     ]
    },
    {
     "name": "stderr",
     "output_type": "stream",
     "text": [
      "Ecoteco   :  90%|█████████ | 47/52 [00:33<00:05,  1.11s/it]"
     ]
    },
    {
     "name": "stdout",
     "output_type": "stream",
     "text": [
      "2022-11-25 00:00:00 Ecoteco\n",
      "86400\n",
      "1\n",
      "5\n"
     ]
    },
    {
     "name": "stderr",
     "output_type": "stream",
     "text": [
      "Ecoteco   :  92%|█████████▏| 48/52 [00:34<00:04,  1.11s/it]"
     ]
    },
    {
     "name": "stdout",
     "output_type": "stream",
     "text": [
      "2022-11-26 00:00:00 Ecoteco\n",
      "86400\n",
      "1\n",
      "23\n"
     ]
    },
    {
     "name": "stderr",
     "output_type": "stream",
     "text": [
      "Ecoteco   :  94%|█████████▍| 49/52 [00:35<00:03,  1.20s/it]"
     ]
    },
    {
     "name": "stdout",
     "output_type": "stream",
     "text": [
      "2022-11-27 00:00:00 Ecoteco\n",
      "86400\n",
      "1\n",
      "3\n"
     ]
    },
    {
     "name": "stderr",
     "output_type": "stream",
     "text": [
      "Ecoteco   :  96%|█████████▌| 50/52 [00:36<00:02,  1.17s/it]"
     ]
    },
    {
     "name": "stdout",
     "output_type": "stream",
     "text": [
      "2022-11-28 00:00:00 Ecoteco\n",
      "63582\n",
      "8\n",
      "3\n"
     ]
    },
    {
     "name": "stderr",
     "output_type": "stream",
     "text": [
      "Ecoteco   :  98%|█████████▊| 51/52 [00:37<00:01,  1.08s/it]"
     ]
    },
    {
     "name": "stdout",
     "output_type": "stream",
     "text": [
      "2022-11-29 00:00:00 Ecoteco\n"
     ]
    },
    {
     "name": "stderr",
     "output_type": "stream",
     "text": [
      "Ecoteco   : 100%|██████████| 52/52 [00:38<00:00,  1.22it/s]"
     ]
    },
    {
     "name": "stdout",
     "output_type": "stream",
     "text": [
      "0\n",
      "0\n",
      "0\n",
      "2022-11-30 00:00:00 Ecoteco\n"
     ]
    },
    {
     "name": "stderr",
     "output_type": "stream",
     "text": [
      "Ecoteco   : 100%|██████████| 52/52 [00:38<00:00,  1.36it/s]\n"
     ]
    },
    {
     "name": "stdout",
     "output_type": "stream",
     "text": [
      "0\n",
      "0\n",
      "0\n"
     ]
    },
    {
     "name": "stderr",
     "output_type": "stream",
     "text": [
      "Kuva      :   0%|          | 0/52 [00:00<?, ?it/s]"
     ]
    },
    {
     "name": "stdout",
     "output_type": "stream",
     "text": [
      "2022-10-10 00:00:00 Kuva\n",
      "14945\n",
      "9\n",
      "5\n"
     ]
    },
    {
     "name": "stderr",
     "output_type": "stream",
     "text": [
      "Kuva      :   4%|▍         | 2/52 [00:01<00:32,  1.54it/s]"
     ]
    },
    {
     "name": "stdout",
     "output_type": "stream",
     "text": [
      "2022-10-11 00:00:00 Kuva\n",
      "17271\n",
      "9\n",
      "11\n"
     ]
    },
    {
     "name": "stderr",
     "output_type": "stream",
     "text": [
      "Kuva      :   6%|▌         | 3/52 [00:02<00:36,  1.34it/s]"
     ]
    },
    {
     "name": "stdout",
     "output_type": "stream",
     "text": [
      "2022-10-12 00:00:00 Kuva\n",
      "20132\n",
      "12\n",
      "9\n"
     ]
    },
    {
     "name": "stderr",
     "output_type": "stream",
     "text": [
      "Kuva      :   8%|▊         | 4/52 [00:03<00:39,  1.22it/s]"
     ]
    },
    {
     "name": "stdout",
     "output_type": "stream",
     "text": [
      "2022-10-13 00:00:00 Kuva\n",
      "6579\n",
      "6\n",
      "5\n"
     ]
    },
    {
     "name": "stderr",
     "output_type": "stream",
     "text": [
      "Kuva      :  10%|▉         | 5/52 [00:03<00:39,  1.20it/s]"
     ]
    },
    {
     "name": "stdout",
     "output_type": "stream",
     "text": [
      "2022-10-14 00:00:00 Kuva\n"
     ]
    },
    {
     "name": "stderr",
     "output_type": "stream",
     "text": [
      "Kuva      :  12%|█▏        | 6/52 [00:04<00:28,  1.60it/s]"
     ]
    },
    {
     "name": "stdout",
     "output_type": "stream",
     "text": [
      "0\n",
      "0\n",
      "0\n",
      "2022-10-15 00:00:00 Kuva\n"
     ]
    },
    {
     "name": "stderr",
     "output_type": "stream",
     "text": [
      "Kuva      :  13%|█▎        | 7/52 [00:04<00:22,  2.04it/s]"
     ]
    },
    {
     "name": "stdout",
     "output_type": "stream",
     "text": [
      "25559\n",
      "0\n",
      "2\n",
      "2022-10-16 00:00:00 Kuva\n"
     ]
    },
    {
     "name": "stderr",
     "output_type": "stream",
     "text": [
      "Kuva      :  15%|█▌        | 8/52 [00:04<00:17,  2.50it/s]"
     ]
    },
    {
     "name": "stdout",
     "output_type": "stream",
     "text": [
      "18959\n",
      "0\n",
      "2\n",
      "2022-10-17 00:00:00 Kuva\n",
      "12203\n",
      "4\n",
      "9\n"
     ]
    },
    {
     "name": "stderr",
     "output_type": "stream",
     "text": [
      "Kuva      :  17%|█▋        | 9/52 [00:05<00:23,  1.82it/s]"
     ]
    },
    {
     "name": "stdout",
     "output_type": "stream",
     "text": [
      "2022-10-18 00:00:00 Kuva\n"
     ]
    },
    {
     "name": "stderr",
     "output_type": "stream",
     "text": [
      "Kuva      :  19%|█▉        | 10/52 [00:05<00:18,  2.25it/s]"
     ]
    },
    {
     "name": "stdout",
     "output_type": "stream",
     "text": [
      "0\n",
      "0\n",
      "0\n",
      "2022-10-19 00:00:00 Kuva\n"
     ]
    },
    {
     "name": "stderr",
     "output_type": "stream",
     "text": [
      "Kuva      :  21%|██        | 11/52 [00:05<00:15,  2.70it/s]"
     ]
    },
    {
     "name": "stdout",
     "output_type": "stream",
     "text": [
      "0\n",
      "0\n",
      "0\n",
      "2022-10-20 00:00:00 Kuva\n"
     ]
    },
    {
     "name": "stderr",
     "output_type": "stream",
     "text": [
      "Kuva      :  23%|██▎       | 12/52 [00:06<00:12,  3.13it/s]"
     ]
    },
    {
     "name": "stdout",
     "output_type": "stream",
     "text": [
      "0\n",
      "0\n",
      "0\n",
      "2022-10-21 00:00:00 Kuva\n"
     ]
    },
    {
     "name": "stderr",
     "output_type": "stream",
     "text": [
      "Kuva      :  25%|██▌       | 13/52 [00:06<00:11,  3.51it/s]"
     ]
    },
    {
     "name": "stdout",
     "output_type": "stream",
     "text": [
      "0\n",
      "0\n",
      "0\n",
      "2022-10-22 00:00:00 Kuva\n"
     ]
    },
    {
     "name": "stderr",
     "output_type": "stream",
     "text": [
      "Kuva      :  27%|██▋       | 14/52 [00:06<00:09,  3.84it/s]"
     ]
    },
    {
     "name": "stdout",
     "output_type": "stream",
     "text": [
      "0\n",
      "0\n",
      "0\n",
      "2022-10-23 00:00:00 Kuva\n"
     ]
    },
    {
     "name": "stderr",
     "output_type": "stream",
     "text": [
      "Kuva      :  29%|██▉       | 15/52 [00:06<00:08,  4.12it/s]"
     ]
    },
    {
     "name": "stdout",
     "output_type": "stream",
     "text": [
      "25799\n",
      "0\n",
      "2\n",
      "2022-10-24 00:00:00 Kuva\n",
      "6352\n",
      "5\n",
      "7\n"
     ]
    },
    {
     "name": "stderr",
     "output_type": "stream",
     "text": [
      "Kuva      :  31%|███       | 16/52 [00:07<00:15,  2.30it/s]"
     ]
    },
    {
     "name": "stdout",
     "output_type": "stream",
     "text": [
      "2022-10-25 00:00:00 Kuva\n",
      "28152\n",
      "43\n",
      "14\n"
     ]
    },
    {
     "name": "stderr",
     "output_type": "stream",
     "text": [
      "Kuva      :  33%|███▎      | 17/52 [00:08<00:20,  1.68it/s]"
     ]
    },
    {
     "name": "stdout",
     "output_type": "stream",
     "text": [
      "2022-10-26 00:00:00 Kuva\n",
      "19791\n",
      "30\n",
      "12\n"
     ]
    },
    {
     "name": "stderr",
     "output_type": "stream",
     "text": [
      "Kuva      :  35%|███▍      | 18/52 [00:09<00:23,  1.45it/s]"
     ]
    },
    {
     "name": "stdout",
     "output_type": "stream",
     "text": [
      "2022-10-27 00:00:00 Kuva\n",
      "22729\n",
      "21\n",
      "16\n"
     ]
    },
    {
     "name": "stderr",
     "output_type": "stream",
     "text": [
      "Kuva      :  37%|███▋      | 19/52 [00:10<00:27,  1.19it/s]"
     ]
    },
    {
     "name": "stdout",
     "output_type": "stream",
     "text": [
      "2022-10-28 00:00:00 Kuva\n",
      "25176\n",
      "72\n",
      "22\n"
     ]
    },
    {
     "name": "stderr",
     "output_type": "stream",
     "text": [
      "Kuva      :  38%|███▊      | 20/52 [00:11<00:28,  1.13it/s]"
     ]
    },
    {
     "name": "stdout",
     "output_type": "stream",
     "text": [
      "2022-10-29 00:00:00 Kuva\n",
      "26791\n",
      "28\n",
      "8\n"
     ]
    },
    {
     "name": "stderr",
     "output_type": "stream",
     "text": [
      "Kuva      :  40%|████      | 21/52 [00:12<00:27,  1.12it/s]"
     ]
    },
    {
     "name": "stdout",
     "output_type": "stream",
     "text": [
      "2022-10-30 00:00:00 Kuva\n",
      "29383\n",
      "11\n",
      "6\n"
     ]
    },
    {
     "name": "stderr",
     "output_type": "stream",
     "text": [
      "Kuva      :  42%|████▏     | 22/52 [00:13<00:25,  1.16it/s]"
     ]
    },
    {
     "name": "stdout",
     "output_type": "stream",
     "text": [
      "2022-10-31 00:00:00 Kuva\n",
      "27056\n",
      "63\n",
      "20\n"
     ]
    },
    {
     "name": "stderr",
     "output_type": "stream",
     "text": [
      "Kuva      :  44%|████▍     | 23/52 [00:14<00:26,  1.11it/s]"
     ]
    },
    {
     "name": "stdout",
     "output_type": "stream",
     "text": [
      "2022-11-01 00:00:00 Kuva\n",
      "21051\n",
      "9\n",
      "7\n"
     ]
    },
    {
     "name": "stderr",
     "output_type": "stream",
     "text": [
      "Kuva      :  46%|████▌     | 24/52 [00:15<00:24,  1.14it/s]"
     ]
    },
    {
     "name": "stdout",
     "output_type": "stream",
     "text": [
      "2022-11-02 00:00:00 Kuva\n",
      "23625\n",
      "6\n",
      "5\n"
     ]
    },
    {
     "name": "stderr",
     "output_type": "stream",
     "text": [
      "Kuva      :  48%|████▊     | 25/52 [00:15<00:23,  1.17it/s]"
     ]
    },
    {
     "name": "stdout",
     "output_type": "stream",
     "text": [
      "2022-11-03 00:00:00 Kuva\n",
      "19732\n",
      "8\n",
      "4\n"
     ]
    },
    {
     "name": "stderr",
     "output_type": "stream",
     "text": [
      "Kuva      :  50%|█████     | 26/52 [00:16<00:21,  1.20it/s]"
     ]
    },
    {
     "name": "stdout",
     "output_type": "stream",
     "text": [
      "2022-11-04 00:00:00 Kuva\n",
      "28542\n",
      "10\n",
      "6\n"
     ]
    },
    {
     "name": "stderr",
     "output_type": "stream",
     "text": [
      "Kuva      :  52%|█████▏    | 27/52 [00:17<00:21,  1.18it/s]"
     ]
    },
    {
     "name": "stdout",
     "output_type": "stream",
     "text": [
      "2022-11-05 00:00:00 Kuva\n"
     ]
    },
    {
     "name": "stderr",
     "output_type": "stream",
     "text": [
      "Kuva      :  54%|█████▍    | 28/52 [00:17<00:15,  1.52it/s]"
     ]
    },
    {
     "name": "stdout",
     "output_type": "stream",
     "text": [
      "0\n",
      "0\n",
      "0\n",
      "2022-11-06 00:00:00 Kuva\n",
      "86400\n",
      "1\n",
      "1\n"
     ]
    },
    {
     "name": "stderr",
     "output_type": "stream",
     "text": [
      "Kuva      :  56%|█████▌    | 29/52 [00:18<00:18,  1.27it/s]"
     ]
    },
    {
     "name": "stdout",
     "output_type": "stream",
     "text": [
      "2022-11-07 00:00:00 Kuva\n",
      "24802\n",
      "10\n",
      "22\n"
     ]
    },
    {
     "name": "stderr",
     "output_type": "stream",
     "text": [
      "Kuva      :  58%|█████▊    | 30/52 [00:19<00:18,  1.20it/s]"
     ]
    },
    {
     "name": "stdout",
     "output_type": "stream",
     "text": [
      "2022-11-08 00:00:00 Kuva\n",
      "32093\n",
      "15\n",
      "19\n"
     ]
    },
    {
     "name": "stderr",
     "output_type": "stream",
     "text": [
      "Kuva      :  60%|█████▉    | 31/52 [00:20<00:18,  1.15it/s]"
     ]
    },
    {
     "name": "stdout",
     "output_type": "stream",
     "text": [
      "2022-11-09 00:00:00 Kuva\n"
     ]
    },
    {
     "name": "stderr",
     "output_type": "stream",
     "text": [
      "Kuva      :  62%|██████▏   | 32/52 [00:21<00:13,  1.49it/s]"
     ]
    },
    {
     "name": "stdout",
     "output_type": "stream",
     "text": [
      "29819\n",
      "0\n",
      "2\n",
      "2022-11-10 00:00:00 Kuva\n",
      "22266\n",
      "16\n",
      "18\n"
     ]
    },
    {
     "name": "stderr",
     "output_type": "stream",
     "text": [
      "Kuva      :  63%|██████▎   | 33/52 [00:22<00:15,  1.19it/s]"
     ]
    },
    {
     "name": "stdout",
     "output_type": "stream",
     "text": [
      "2022-11-11 00:00:00 Kuva\n",
      "22725\n",
      "18\n",
      "16\n"
     ]
    },
    {
     "name": "stderr",
     "output_type": "stream",
     "text": [
      "Kuva      :  65%|██████▌   | 34/52 [00:23<00:15,  1.16it/s]"
     ]
    },
    {
     "name": "stdout",
     "output_type": "stream",
     "text": [
      "2022-11-12 00:00:00 Kuva\n"
     ]
    },
    {
     "name": "stderr",
     "output_type": "stream",
     "text": [
      "Kuva      :  67%|██████▋   | 35/52 [00:23<00:11,  1.50it/s]"
     ]
    },
    {
     "name": "stdout",
     "output_type": "stream",
     "text": [
      "0\n",
      "0\n",
      "0\n",
      "2022-11-13 00:00:00 Kuva\n"
     ]
    },
    {
     "name": "stderr",
     "output_type": "stream",
     "text": [
      "Kuva      :  69%|██████▉   | 36/52 [00:23<00:08,  1.90it/s]"
     ]
    },
    {
     "name": "stdout",
     "output_type": "stream",
     "text": [
      "22199\n",
      "0\n",
      "2\n",
      "2022-11-14 00:00:00 Kuva\n",
      "22085\n",
      "17\n",
      "12\n"
     ]
    },
    {
     "name": "stderr",
     "output_type": "stream",
     "text": [
      "Kuva      :  71%|███████   | 37/52 [00:24<00:09,  1.55it/s]"
     ]
    },
    {
     "name": "stdout",
     "output_type": "stream",
     "text": [
      "2022-11-15 00:00:00 Kuva\n",
      "27156\n",
      "12\n",
      "22\n"
     ]
    },
    {
     "name": "stderr",
     "output_type": "stream",
     "text": [
      "Kuva      :  73%|███████▎  | 38/52 [00:25<00:10,  1.38it/s]"
     ]
    },
    {
     "name": "stdout",
     "output_type": "stream",
     "text": [
      "2022-11-16 00:00:00 Kuva\n",
      "28754\n",
      "11\n",
      "10\n"
     ]
    },
    {
     "name": "stderr",
     "output_type": "stream",
     "text": [
      "Kuva      :  75%|███████▌  | 39/52 [00:26<00:09,  1.30it/s]"
     ]
    },
    {
     "name": "stdout",
     "output_type": "stream",
     "text": [
      "2022-11-17 00:00:00 Kuva\n",
      "28438\n",
      "10\n",
      "24\n"
     ]
    },
    {
     "name": "stderr",
     "output_type": "stream",
     "text": [
      "Kuva      :  77%|███████▋  | 40/52 [00:27<00:09,  1.24it/s]"
     ]
    },
    {
     "name": "stdout",
     "output_type": "stream",
     "text": [
      "2022-11-18 00:00:00 Kuva\n",
      "24276\n",
      "6\n",
      "5\n"
     ]
    },
    {
     "name": "stderr",
     "output_type": "stream",
     "text": [
      "Kuva      :  79%|███████▉  | 41/52 [00:28<00:08,  1.24it/s]"
     ]
    },
    {
     "name": "stdout",
     "output_type": "stream",
     "text": [
      "2022-11-19 00:00:00 Kuva\n"
     ]
    },
    {
     "name": "stderr",
     "output_type": "stream",
     "text": [
      "Kuva      :  81%|████████  | 42/52 [00:28<00:06,  1.60it/s]"
     ]
    },
    {
     "name": "stdout",
     "output_type": "stream",
     "text": [
      "25499\n",
      "0\n",
      "2\n",
      "2022-11-20 00:00:00 Kuva\n"
     ]
    },
    {
     "name": "stderr",
     "output_type": "stream",
     "text": [
      "Kuva      :  83%|████████▎ | 43/52 [00:28<00:04,  2.00it/s]"
     ]
    },
    {
     "name": "stdout",
     "output_type": "stream",
     "text": [
      "29339\n",
      "0\n",
      "2\n",
      "2022-11-21 00:00:00 Kuva\n",
      "29365\n",
      "16\n",
      "31\n"
     ]
    },
    {
     "name": "stderr",
     "output_type": "stream",
     "text": [
      "Kuva      :  85%|████████▍ | 44/52 [00:29<00:05,  1.57it/s]"
     ]
    },
    {
     "name": "stdout",
     "output_type": "stream",
     "text": [
      "2022-11-22 00:00:00 Kuva\n",
      "18654\n",
      "14\n",
      "21\n"
     ]
    },
    {
     "name": "stderr",
     "output_type": "stream",
     "text": [
      "Kuva      :  87%|████████▋ | 45/52 [00:30<00:04,  1.40it/s]"
     ]
    },
    {
     "name": "stdout",
     "output_type": "stream",
     "text": [
      "2022-11-23 00:00:00 Kuva\n",
      "20445\n",
      "11\n",
      "12\n"
     ]
    },
    {
     "name": "stderr",
     "output_type": "stream",
     "text": [
      "Kuva      :  88%|████████▊ | 46/52 [00:31<00:04,  1.31it/s]"
     ]
    },
    {
     "name": "stdout",
     "output_type": "stream",
     "text": [
      "2022-11-24 00:00:00 Kuva\n"
     ]
    },
    {
     "name": "stderr",
     "output_type": "stream",
     "text": [
      "Kuva      :  90%|█████████ | 47/52 [00:31<00:02,  1.68it/s]"
     ]
    },
    {
     "name": "stdout",
     "output_type": "stream",
     "text": [
      "0\n",
      "0\n",
      "0\n",
      "2022-11-25 00:00:00 Kuva\n"
     ]
    },
    {
     "name": "stderr",
     "output_type": "stream",
     "text": [
      "Kuva      :  92%|█████████▏| 48/52 [00:31<00:01,  2.09it/s]"
     ]
    },
    {
     "name": "stdout",
     "output_type": "stream",
     "text": [
      "0\n",
      "0\n",
      "0\n",
      "2022-11-26 00:00:00 Kuva\n"
     ]
    },
    {
     "name": "stderr",
     "output_type": "stream",
     "text": [
      "Kuva      :  94%|█████████▍| 49/52 [00:31<00:01,  2.53it/s]"
     ]
    },
    {
     "name": "stdout",
     "output_type": "stream",
     "text": [
      "0\n",
      "0\n",
      "0\n",
      "2022-11-27 00:00:00 Kuva\n"
     ]
    },
    {
     "name": "stderr",
     "output_type": "stream",
     "text": [
      "Kuva      :  96%|█████████▌| 50/52 [00:31<00:00,  2.96it/s]"
     ]
    },
    {
     "name": "stdout",
     "output_type": "stream",
     "text": [
      "0\n",
      "0\n",
      "0\n",
      "2022-11-28 00:00:00 Kuva\n"
     ]
    },
    {
     "name": "stderr",
     "output_type": "stream",
     "text": [
      "Kuva      :  98%|█████████▊| 51/52 [00:32<00:00,  3.35it/s]"
     ]
    },
    {
     "name": "stdout",
     "output_type": "stream",
     "text": [
      "0\n",
      "0\n",
      "0\n",
      "2022-11-29 00:00:00 Kuva\n"
     ]
    },
    {
     "name": "stderr",
     "output_type": "stream",
     "text": [
      "Kuva      : 100%|██████████| 52/52 [00:32<00:00,  3.70it/s]"
     ]
    },
    {
     "name": "stdout",
     "output_type": "stream",
     "text": [
      "0\n",
      "0\n",
      "0\n",
      "2022-11-30 00:00:00 Kuva\n"
     ]
    },
    {
     "name": "stderr",
     "output_type": "stream",
     "text": [
      "Kuva      : 100%|██████████| 52/52 [00:32<00:00,  1.60it/s]\n"
     ]
    },
    {
     "name": "stdout",
     "output_type": "stream",
     "text": [
      "0\n",
      "0\n",
      "0\n"
     ]
    },
    {
     "name": "stderr",
     "output_type": "stream",
     "text": [
      "Oiler     :   0%|          | 0/52 [00:00<?, ?it/s]"
     ]
    },
    {
     "name": "stdout",
     "output_type": "stream",
     "text": [
      "2022-10-10 00:00:00 Oiler\n",
      "12745\n",
      "3\n",
      "9\n"
     ]
    },
    {
     "name": "stderr",
     "output_type": "stream",
     "text": [
      "Oiler     :   4%|▍         | 2/52 [00:01<00:32,  1.54it/s]"
     ]
    },
    {
     "name": "stdout",
     "output_type": "stream",
     "text": [
      "2022-10-11 00:00:00 Oiler\n",
      "73882\n",
      "11\n",
      "15\n"
     ]
    },
    {
     "name": "stderr",
     "output_type": "stream",
     "text": [
      "Oiler     :   6%|▌         | 3/52 [00:02<00:41,  1.17it/s]"
     ]
    },
    {
     "name": "stdout",
     "output_type": "stream",
     "text": [
      "2022-10-12 00:00:00 Oiler\n",
      "73310\n",
      "14\n",
      "20\n"
     ]
    },
    {
     "name": "stderr",
     "output_type": "stream",
     "text": [
      "Oiler     :   8%|▊         | 4/52 [00:03<00:46,  1.04it/s]"
     ]
    },
    {
     "name": "stdout",
     "output_type": "stream",
     "text": [
      "2022-10-13 00:00:00 Oiler\n",
      "65860\n",
      "7\n",
      "4\n"
     ]
    },
    {
     "name": "stderr",
     "output_type": "stream",
     "text": [
      "Oiler     :  10%|▉         | 5/52 [00:04<00:49,  1.06s/it]"
     ]
    },
    {
     "name": "stdout",
     "output_type": "stream",
     "text": [
      "2022-10-14 00:00:00 Oiler\n"
     ]
    },
    {
     "name": "stderr",
     "output_type": "stream",
     "text": [
      "Oiler     :  12%|█▏        | 6/52 [00:05<00:35,  1.29it/s]"
     ]
    },
    {
     "name": "stdout",
     "output_type": "stream",
     "text": [
      "0\n",
      "0\n",
      "0\n",
      "2022-10-15 00:00:00 Oiler\n"
     ]
    },
    {
     "name": "stderr",
     "output_type": "stream",
     "text": [
      "Oiler     :  13%|█▎        | 7/52 [00:05<00:26,  1.69it/s]"
     ]
    },
    {
     "name": "stdout",
     "output_type": "stream",
     "text": [
      "719\n",
      "0\n",
      "2\n",
      "2022-10-16 00:00:00 Oiler\n",
      "86400\n",
      "1\n",
      "1\n"
     ]
    },
    {
     "name": "stderr",
     "output_type": "stream",
     "text": [
      "Oiler     :  15%|█▌        | 8/52 [00:06<00:33,  1.33it/s]"
     ]
    },
    {
     "name": "stdout",
     "output_type": "stream",
     "text": [
      "2022-10-17 00:00:00 Oiler\n",
      "14910\n",
      "4\n",
      "9\n"
     ]
    },
    {
     "name": "stderr",
     "output_type": "stream",
     "text": [
      "Oiler     :  17%|█▋        | 9/52 [00:07<00:34,  1.24it/s]"
     ]
    },
    {
     "name": "stdout",
     "output_type": "stream",
     "text": [
      "2022-10-18 00:00:00 Oiler\n"
     ]
    },
    {
     "name": "stderr",
     "output_type": "stream",
     "text": [
      "Oiler     :  19%|█▉        | 10/52 [00:07<00:26,  1.61it/s]"
     ]
    },
    {
     "name": "stdout",
     "output_type": "stream",
     "text": [
      "0\n",
      "0\n",
      "0\n",
      "2022-10-19 00:00:00 Oiler\n"
     ]
    },
    {
     "name": "stderr",
     "output_type": "stream",
     "text": [
      "Oiler     :  21%|██        | 11/52 [00:07<00:20,  2.03it/s]"
     ]
    },
    {
     "name": "stdout",
     "output_type": "stream",
     "text": [
      "0\n",
      "0\n",
      "0\n",
      "2022-10-20 00:00:00 Oiler\n"
     ]
    },
    {
     "name": "stderr",
     "output_type": "stream",
     "text": [
      "Oiler     :  23%|██▎       | 12/52 [00:07<00:16,  2.47it/s]"
     ]
    },
    {
     "name": "stdout",
     "output_type": "stream",
     "text": [
      "0\n",
      "0\n",
      "0\n",
      "2022-10-21 00:00:00 Oiler\n"
     ]
    },
    {
     "name": "stderr",
     "output_type": "stream",
     "text": [
      "Oiler     :  25%|██▌       | 13/52 [00:08<00:13,  2.91it/s]"
     ]
    },
    {
     "name": "stdout",
     "output_type": "stream",
     "text": [
      "0\n",
      "0\n",
      "0\n",
      "2022-10-22 00:00:00 Oiler\n"
     ]
    },
    {
     "name": "stderr",
     "output_type": "stream",
     "text": [
      "Oiler     :  27%|██▋       | 14/52 [00:08<00:11,  3.32it/s]"
     ]
    },
    {
     "name": "stdout",
     "output_type": "stream",
     "text": [
      "0\n",
      "0\n",
      "0\n",
      "2022-10-23 00:00:00 Oiler\n",
      "86400\n",
      "1\n",
      "1\n"
     ]
    },
    {
     "name": "stderr",
     "output_type": "stream",
     "text": [
      "Oiler     :  29%|██▉       | 15/52 [00:09<00:19,  1.85it/s]"
     ]
    },
    {
     "name": "stdout",
     "output_type": "stream",
     "text": [
      "2022-10-24 00:00:00 Oiler\n",
      "15132\n",
      "17\n",
      "20\n"
     ]
    },
    {
     "name": "stderr",
     "output_type": "stream",
     "text": [
      "Oiler     :  31%|███       | 16/52 [00:10<00:23,  1.50it/s]"
     ]
    },
    {
     "name": "stdout",
     "output_type": "stream",
     "text": [
      "2022-10-25 00:00:00 Oiler\n",
      "62197\n",
      "3\n",
      "3\n"
     ]
    },
    {
     "name": "stderr",
     "output_type": "stream",
     "text": [
      "Oiler     :  33%|███▎      | 17/52 [00:11<00:25,  1.37it/s]"
     ]
    },
    {
     "name": "stdout",
     "output_type": "stream",
     "text": [
      "2022-10-26 00:00:00 Oiler\n",
      "79473\n",
      "31\n",
      "13\n"
     ]
    },
    {
     "name": "stderr",
     "output_type": "stream",
     "text": [
      "Oiler     :  35%|███▍      | 18/52 [00:12<00:27,  1.22it/s]"
     ]
    },
    {
     "name": "stdout",
     "output_type": "stream",
     "text": [
      "2022-10-27 00:00:00 Oiler\n",
      "80260\n",
      "22\n",
      "9\n"
     ]
    },
    {
     "name": "stderr",
     "output_type": "stream",
     "text": [
      "Oiler     :  37%|███▋      | 19/52 [00:13<00:27,  1.19it/s]"
     ]
    },
    {
     "name": "stdout",
     "output_type": "stream",
     "text": [
      "2022-10-28 00:00:00 Oiler\n",
      "80216\n",
      "73\n",
      "45\n"
     ]
    },
    {
     "name": "stderr",
     "output_type": "stream",
     "text": [
      "Oiler     :  38%|███▊      | 20/52 [00:14<00:28,  1.12it/s]"
     ]
    },
    {
     "name": "stdout",
     "output_type": "stream",
     "text": [
      "2022-10-29 00:00:00 Oiler\n",
      "81841\n",
      "29\n",
      "45\n"
     ]
    },
    {
     "name": "stderr",
     "output_type": "stream",
     "text": [
      "Oiler     :  40%|████      | 21/52 [00:15<00:28,  1.10it/s]"
     ]
    },
    {
     "name": "stdout",
     "output_type": "stream",
     "text": [
      "2022-10-30 00:00:00 Oiler\n"
     ]
    },
    {
     "name": "stderr",
     "output_type": "stream",
     "text": [
      "Oiler     :  42%|████▏     | 22/52 [00:15<00:20,  1.43it/s]"
     ]
    },
    {
     "name": "stdout",
     "output_type": "stream",
     "text": [
      "4348\n",
      "0\n",
      "2\n",
      "2022-10-31 00:00:00 Oiler\n",
      "32689\n",
      "63\n",
      "41\n"
     ]
    },
    {
     "name": "stderr",
     "output_type": "stream",
     "text": [
      "Oiler     :  44%|████▍     | 23/52 [00:16<00:22,  1.26it/s]"
     ]
    },
    {
     "name": "stdout",
     "output_type": "stream",
     "text": [
      "2022-11-01 00:00:00 Oiler\n",
      "84147\n",
      "10\n",
      "7\n"
     ]
    },
    {
     "name": "stderr",
     "output_type": "stream",
     "text": [
      "Oiler     :  46%|████▌     | 24/52 [00:17<00:22,  1.24it/s]"
     ]
    },
    {
     "name": "stdout",
     "output_type": "stream",
     "text": [
      "2022-11-02 00:00:00 Oiler\n",
      "82427\n",
      "7\n",
      "7\n"
     ]
    },
    {
     "name": "stderr",
     "output_type": "stream",
     "text": [
      "Oiler     :  48%|████▊     | 25/52 [00:17<00:21,  1.23it/s]"
     ]
    },
    {
     "name": "stdout",
     "output_type": "stream",
     "text": [
      "2022-11-03 00:00:00 Oiler\n",
      "64887\n",
      "9\n",
      "10\n"
     ]
    },
    {
     "name": "stderr",
     "output_type": "stream",
     "text": [
      "Oiler     :  50%|█████     | 26/52 [00:18<00:21,  1.23it/s]"
     ]
    },
    {
     "name": "stdout",
     "output_type": "stream",
     "text": [
      "2022-11-04 00:00:00 Oiler\n"
     ]
    },
    {
     "name": "stderr",
     "output_type": "stream",
     "text": [
      "Oiler     :  52%|█████▏    | 27/52 [00:18<00:15,  1.59it/s]"
     ]
    },
    {
     "name": "stdout",
     "output_type": "stream",
     "text": [
      "0\n",
      "0\n",
      "0\n",
      "2022-11-05 00:00:00 Oiler\n"
     ]
    },
    {
     "name": "stderr",
     "output_type": "stream",
     "text": [
      "Oiler     :  54%|█████▍    | 28/52 [00:19<00:12,  1.99it/s]"
     ]
    },
    {
     "name": "stdout",
     "output_type": "stream",
     "text": [
      "0\n",
      "0\n",
      "0\n",
      "2022-11-06 00:00:00 Oiler\n"
     ]
    },
    {
     "name": "stderr",
     "output_type": "stream",
     "text": [
      "Oiler     :  56%|█████▌    | 29/52 [00:19<00:09,  2.41it/s]"
     ]
    },
    {
     "name": "stdout",
     "output_type": "stream",
     "text": [
      "0\n",
      "0\n",
      "0\n",
      "2022-11-07 00:00:00 Oiler\n"
     ]
    },
    {
     "name": "stderr",
     "output_type": "stream",
     "text": [
      "Oiler     :  58%|█████▊    | 30/52 [00:19<00:07,  2.84it/s]"
     ]
    },
    {
     "name": "stdout",
     "output_type": "stream",
     "text": [
      "0\n",
      "0\n",
      "0\n",
      "2022-11-08 00:00:00 Oiler\n"
     ]
    },
    {
     "name": "stderr",
     "output_type": "stream",
     "text": [
      "Oiler     :  60%|█████▉    | 31/52 [00:19<00:06,  3.25it/s]"
     ]
    },
    {
     "name": "stdout",
     "output_type": "stream",
     "text": [
      "0\n",
      "0\n",
      "0\n",
      "2022-11-09 00:00:00 Oiler\n"
     ]
    },
    {
     "name": "stderr",
     "output_type": "stream",
     "text": [
      "Oiler     :  62%|██████▏   | 32/52 [00:20<00:05,  3.62it/s]"
     ]
    },
    {
     "name": "stdout",
     "output_type": "stream",
     "text": [
      "0\n",
      "0\n",
      "0\n",
      "2022-11-10 00:00:00 Oiler\n"
     ]
    },
    {
     "name": "stderr",
     "output_type": "stream",
     "text": [
      "Oiler     :  63%|██████▎   | 33/52 [00:20<00:04,  3.93it/s]"
     ]
    },
    {
     "name": "stdout",
     "output_type": "stream",
     "text": [
      "0\n",
      "0\n",
      "0\n",
      "2022-11-11 00:00:00 Oiler\n"
     ]
    },
    {
     "name": "stderr",
     "output_type": "stream",
     "text": [
      "Oiler     :  65%|██████▌   | 34/52 [00:20<00:04,  4.18it/s]"
     ]
    },
    {
     "name": "stdout",
     "output_type": "stream",
     "text": [
      "0\n",
      "0\n",
      "0\n",
      "2022-11-12 00:00:00 Oiler\n"
     ]
    },
    {
     "name": "stderr",
     "output_type": "stream",
     "text": [
      "Oiler     :  67%|██████▋   | 35/52 [00:20<00:03,  4.37it/s]"
     ]
    },
    {
     "name": "stdout",
     "output_type": "stream",
     "text": [
      "0\n",
      "0\n",
      "0\n",
      "2022-11-13 00:00:00 Oiler\n"
     ]
    },
    {
     "name": "stderr",
     "output_type": "stream",
     "text": [
      "Oiler     :  69%|██████▉   | 36/52 [00:20<00:03,  4.51it/s]"
     ]
    },
    {
     "name": "stdout",
     "output_type": "stream",
     "text": [
      "0\n",
      "0\n",
      "0\n",
      "2022-11-14 00:00:00 Oiler\n"
     ]
    },
    {
     "name": "stderr",
     "output_type": "stream",
     "text": [
      "Oiler     :  71%|███████   | 37/52 [00:21<00:03,  4.63it/s]"
     ]
    },
    {
     "name": "stdout",
     "output_type": "stream",
     "text": [
      "0\n",
      "0\n",
      "0\n",
      "2022-11-15 00:00:00 Oiler\n"
     ]
    },
    {
     "name": "stderr",
     "output_type": "stream",
     "text": [
      "Oiler     :  73%|███████▎  | 38/52 [00:21<00:03,  4.66it/s]"
     ]
    },
    {
     "name": "stdout",
     "output_type": "stream",
     "text": [
      "0\n",
      "0\n",
      "0\n",
      "2022-11-16 00:00:00 Oiler\n"
     ]
    },
    {
     "name": "stderr",
     "output_type": "stream",
     "text": [
      "Oiler     :  75%|███████▌  | 39/52 [00:21<00:02,  4.72it/s]"
     ]
    },
    {
     "name": "stdout",
     "output_type": "stream",
     "text": [
      "0\n",
      "0\n",
      "0\n",
      "2022-11-17 00:00:00 Oiler\n"
     ]
    },
    {
     "name": "stderr",
     "output_type": "stream",
     "text": [
      "Oiler     :  77%|███████▋  | 40/52 [00:21<00:02,  4.77it/s]"
     ]
    },
    {
     "name": "stdout",
     "output_type": "stream",
     "text": [
      "0\n",
      "0\n",
      "0\n",
      "2022-11-18 00:00:00 Oiler\n"
     ]
    },
    {
     "name": "stderr",
     "output_type": "stream",
     "text": [
      "Oiler     :  79%|███████▉  | 41/52 [00:21<00:02,  4.77it/s]"
     ]
    },
    {
     "name": "stdout",
     "output_type": "stream",
     "text": [
      "0\n",
      "0\n",
      "0\n",
      "2022-11-19 00:00:00 Oiler\n"
     ]
    },
    {
     "name": "stderr",
     "output_type": "stream",
     "text": [
      "Oiler     :  81%|████████  | 42/52 [00:22<00:02,  4.81it/s]"
     ]
    },
    {
     "name": "stdout",
     "output_type": "stream",
     "text": [
      "0\n",
      "0\n",
      "0\n",
      "2022-11-20 00:00:00 Oiler\n"
     ]
    },
    {
     "name": "stderr",
     "output_type": "stream",
     "text": [
      "Oiler     :  83%|████████▎ | 43/52 [00:22<00:01,  4.84it/s]"
     ]
    },
    {
     "name": "stdout",
     "output_type": "stream",
     "text": [
      "0\n",
      "0\n",
      "0\n",
      "2022-11-21 00:00:00 Oiler\n"
     ]
    },
    {
     "name": "stderr",
     "output_type": "stream",
     "text": [
      "Oiler     :  85%|████████▍ | 44/52 [00:22<00:01,  4.86it/s]"
     ]
    },
    {
     "name": "stdout",
     "output_type": "stream",
     "text": [
      "0\n",
      "0\n",
      "0\n",
      "2022-11-22 00:00:00 Oiler\n"
     ]
    },
    {
     "name": "stderr",
     "output_type": "stream",
     "text": [
      "Oiler     :  87%|████████▋ | 45/52 [00:22<00:01,  4.87it/s]"
     ]
    },
    {
     "name": "stdout",
     "output_type": "stream",
     "text": [
      "0\n",
      "0\n",
      "0\n",
      "2022-11-23 00:00:00 Oiler\n"
     ]
    },
    {
     "name": "stderr",
     "output_type": "stream",
     "text": [
      "Oiler     :  88%|████████▊ | 46/52 [00:22<00:01,  4.88it/s]"
     ]
    },
    {
     "name": "stdout",
     "output_type": "stream",
     "text": [
      "0\n",
      "0\n",
      "0\n",
      "2022-11-24 00:00:00 Oiler\n"
     ]
    },
    {
     "name": "stderr",
     "output_type": "stream",
     "text": [
      "Oiler     :  90%|█████████ | 47/52 [00:23<00:01,  4.89it/s]"
     ]
    },
    {
     "name": "stdout",
     "output_type": "stream",
     "text": [
      "0\n",
      "0\n",
      "0\n",
      "2022-11-25 00:00:00 Oiler\n"
     ]
    },
    {
     "name": "stderr",
     "output_type": "stream",
     "text": [
      "Oiler     :  92%|█████████▏| 48/52 [00:23<00:00,  4.89it/s]"
     ]
    },
    {
     "name": "stdout",
     "output_type": "stream",
     "text": [
      "0\n",
      "0\n",
      "0\n",
      "2022-11-26 00:00:00 Oiler\n"
     ]
    },
    {
     "name": "stderr",
     "output_type": "stream",
     "text": [
      "Oiler     :  94%|█████████▍| 49/52 [00:23<00:00,  4.90it/s]"
     ]
    },
    {
     "name": "stdout",
     "output_type": "stream",
     "text": [
      "0\n",
      "0\n",
      "0\n",
      "2022-11-27 00:00:00 Oiler\n"
     ]
    },
    {
     "name": "stderr",
     "output_type": "stream",
     "text": [
      "Oiler     :  96%|█████████▌| 50/52 [00:23<00:00,  4.90it/s]"
     ]
    },
    {
     "name": "stdout",
     "output_type": "stream",
     "text": [
      "0\n",
      "0\n",
      "0\n",
      "2022-11-28 00:00:00 Oiler\n"
     ]
    },
    {
     "name": "stderr",
     "output_type": "stream",
     "text": [
      "Oiler     :  98%|█████████▊| 51/52 [00:23<00:00,  4.90it/s]"
     ]
    },
    {
     "name": "stdout",
     "output_type": "stream",
     "text": [
      "0\n",
      "0\n",
      "0\n",
      "2022-11-29 00:00:00 Oiler\n"
     ]
    },
    {
     "name": "stderr",
     "output_type": "stream",
     "text": [
      "Oiler     : 100%|██████████| 52/52 [00:24<00:00,  4.90it/s]"
     ]
    },
    {
     "name": "stdout",
     "output_type": "stream",
     "text": [
      "0\n",
      "0\n",
      "0\n",
      "2022-11-30 00:00:00 Oiler\n"
     ]
    },
    {
     "name": "stderr",
     "output_type": "stream",
     "text": [
      "Oiler     : 100%|██████████| 52/52 [00:24<00:00,  2.14it/s]\n"
     ]
    },
    {
     "name": "stdout",
     "output_type": "stream",
     "text": [
      "0\n",
      "0\n",
      "0\n"
     ]
    },
    {
     "name": "stderr",
     "output_type": "stream",
     "text": [
      "Qube      :   0%|          | 0/52 [00:00<?, ?it/s]"
     ]
    },
    {
     "name": "stdout",
     "output_type": "stream",
     "text": [
      "2022-10-10 00:00:00 Qube\n",
      "16636\n",
      "5\n",
      "7\n"
     ]
    },
    {
     "name": "stderr",
     "output_type": "stream",
     "text": [
      "Qube      :   4%|▍         | 2/52 [00:01<00:44,  1.13it/s]"
     ]
    },
    {
     "name": "stdout",
     "output_type": "stream",
     "text": [
      "2022-10-11 00:00:00 Qube\n",
      "74058\n",
      "9\n",
      "6\n"
     ]
    },
    {
     "name": "stderr",
     "output_type": "stream",
     "text": [
      "Qube      :   6%|▌         | 3/52 [00:02<00:48,  1.02it/s]"
     ]
    },
    {
     "name": "stdout",
     "output_type": "stream",
     "text": [
      "2022-10-12 00:00:00 Qube\n",
      "73346\n",
      "9\n",
      "12\n"
     ]
    },
    {
     "name": "stderr",
     "output_type": "stream",
     "text": [
      "Qube      :   8%|▊         | 4/52 [00:04<00:49,  1.04s/it]"
     ]
    },
    {
     "name": "stdout",
     "output_type": "stream",
     "text": [
      "2022-10-13 00:00:00 Qube\n",
      "65890\n",
      "6\n",
      "3\n"
     ]
    },
    {
     "name": "stderr",
     "output_type": "stream",
     "text": [
      "Qube      :  10%|▉         | 5/52 [00:04<00:45,  1.03it/s]"
     ]
    },
    {
     "name": "stdout",
     "output_type": "stream",
     "text": [
      "2022-10-14 00:00:00 Qube\n"
     ]
    },
    {
     "name": "stderr",
     "output_type": "stream",
     "text": [
      "Qube      :  12%|█▏        | 6/52 [00:05<00:32,  1.40it/s]"
     ]
    },
    {
     "name": "stdout",
     "output_type": "stream",
     "text": [
      "0\n",
      "0\n",
      "0\n",
      "2022-10-15 00:00:00 Qube\n",
      "86400\n",
      "1\n",
      "1\n"
     ]
    },
    {
     "name": "stderr",
     "output_type": "stream",
     "text": [
      "Qube      :  13%|█▎        | 7/52 [00:06<00:37,  1.20it/s]"
     ]
    },
    {
     "name": "stdout",
     "output_type": "stream",
     "text": [
      "2022-10-16 00:00:00 Qube\n",
      "86400\n",
      "1\n",
      "1\n"
     ]
    },
    {
     "name": "stderr",
     "output_type": "stream",
     "text": [
      "Qube      :  15%|█▌        | 8/52 [00:07<00:40,  1.08it/s]"
     ]
    },
    {
     "name": "stdout",
     "output_type": "stream",
     "text": [
      "2022-10-17 00:00:00 Qube\n",
      "69324\n",
      "5\n",
      "6\n"
     ]
    },
    {
     "name": "stderr",
     "output_type": "stream",
     "text": [
      "Qube      :  17%|█▋        | 9/52 [00:08<00:39,  1.09it/s]"
     ]
    },
    {
     "name": "stdout",
     "output_type": "stream",
     "text": [
      "2022-10-18 00:00:00 Qube\n"
     ]
    },
    {
     "name": "stderr",
     "output_type": "stream",
     "text": [
      "Qube      :  19%|█▉        | 10/52 [00:08<00:29,  1.44it/s]"
     ]
    },
    {
     "name": "stdout",
     "output_type": "stream",
     "text": [
      "0\n",
      "0\n",
      "0\n",
      "2022-10-19 00:00:00 Qube\n"
     ]
    },
    {
     "name": "stderr",
     "output_type": "stream",
     "text": [
      "Qube      :  21%|██        | 11/52 [00:08<00:22,  1.83it/s]"
     ]
    },
    {
     "name": "stdout",
     "output_type": "stream",
     "text": [
      "0\n",
      "0\n",
      "0\n",
      "2022-10-20 00:00:00 Qube\n"
     ]
    },
    {
     "name": "stderr",
     "output_type": "stream",
     "text": [
      "Qube      :  23%|██▎       | 12/52 [00:08<00:17,  2.26it/s]"
     ]
    },
    {
     "name": "stdout",
     "output_type": "stream",
     "text": [
      "0\n",
      "0\n",
      "0\n",
      "2022-10-21 00:00:00 Qube\n"
     ]
    },
    {
     "name": "stderr",
     "output_type": "stream",
     "text": [
      "Qube      :  25%|██▌       | 13/52 [00:08<00:14,  2.70it/s]"
     ]
    },
    {
     "name": "stdout",
     "output_type": "stream",
     "text": [
      "0\n",
      "0\n",
      "0\n",
      "2022-10-22 00:00:00 Qube\n"
     ]
    },
    {
     "name": "stderr",
     "output_type": "stream",
     "text": [
      "Qube      :  27%|██▋       | 14/52 [00:09<00:12,  3.12it/s]"
     ]
    },
    {
     "name": "stdout",
     "output_type": "stream",
     "text": [
      "0\n",
      "0\n",
      "0\n",
      "2022-10-23 00:00:00 Qube\n",
      "86400\n",
      "1\n",
      "1\n"
     ]
    },
    {
     "name": "stderr",
     "output_type": "stream",
     "text": [
      "Qube      :  29%|██▉       | 15/52 [00:10<00:20,  1.81it/s]"
     ]
    },
    {
     "name": "stdout",
     "output_type": "stream",
     "text": [
      "2022-10-24 00:00:00 Qube\n",
      "68662\n",
      "8\n",
      "7\n"
     ]
    },
    {
     "name": "stderr",
     "output_type": "stream",
     "text": [
      "Qube      :  31%|███       | 16/52 [00:11<00:24,  1.48it/s]"
     ]
    },
    {
     "name": "stdout",
     "output_type": "stream",
     "text": [
      "2022-10-25 00:00:00 Qube\n",
      "78825\n",
      "12\n",
      "9\n"
     ]
    },
    {
     "name": "stderr",
     "output_type": "stream",
     "text": [
      "Qube      :  33%|███▎      | 17/52 [00:12<00:26,  1.33it/s]"
     ]
    },
    {
     "name": "stdout",
     "output_type": "stream",
     "text": [
      "2022-10-26 00:00:00 Qube\n",
      "79704\n",
      "10\n",
      "7\n"
     ]
    },
    {
     "name": "stderr",
     "output_type": "stream",
     "text": [
      "Qube      :  35%|███▍      | 18/52 [00:13<00:26,  1.27it/s]"
     ]
    },
    {
     "name": "stdout",
     "output_type": "stream",
     "text": [
      "2022-10-27 00:00:00 Qube\n",
      "80340\n",
      "12\n",
      "7\n"
     ]
    },
    {
     "name": "stderr",
     "output_type": "stream",
     "text": [
      "Qube      :  37%|███▋      | 19/52 [00:13<00:26,  1.23it/s]"
     ]
    },
    {
     "name": "stdout",
     "output_type": "stream",
     "text": [
      "2022-10-28 00:00:00 Qube\n",
      "80707\n",
      "22\n",
      "15\n"
     ]
    },
    {
     "name": "stderr",
     "output_type": "stream",
     "text": [
      "Qube      :  38%|███▊      | 20/52 [00:14<00:27,  1.17it/s]"
     ]
    },
    {
     "name": "stdout",
     "output_type": "stream",
     "text": [
      "2022-10-29 00:00:00 Qube\n",
      "82261\n",
      "7\n",
      "5\n"
     ]
    },
    {
     "name": "stderr",
     "output_type": "stream",
     "text": [
      "Qube      :  40%|████      | 21/52 [00:15<00:26,  1.16it/s]"
     ]
    },
    {
     "name": "stdout",
     "output_type": "stream",
     "text": [
      "2022-10-30 00:00:00 Qube\n",
      "86400\n",
      "7\n",
      "1\n"
     ]
    },
    {
     "name": "stderr",
     "output_type": "stream",
     "text": [
      "Qube      :  42%|████▏     | 22/52 [00:16<00:24,  1.20it/s]"
     ]
    },
    {
     "name": "stdout",
     "output_type": "stream",
     "text": [
      "2022-10-31 00:00:00 Qube\n",
      "83365\n",
      "13\n",
      "5\n"
     ]
    },
    {
     "name": "stderr",
     "output_type": "stream",
     "text": [
      "Qube      :  44%|████▍     | 23/52 [00:17<00:24,  1.18it/s]"
     ]
    },
    {
     "name": "stdout",
     "output_type": "stream",
     "text": [
      "2022-11-01 00:00:00 Qube\n",
      "84214\n",
      "7\n",
      "5\n"
     ]
    },
    {
     "name": "stderr",
     "output_type": "stream",
     "text": [
      "Qube      :  46%|████▌     | 24/52 [00:18<00:23,  1.19it/s]"
     ]
    },
    {
     "name": "stdout",
     "output_type": "stream",
     "text": [
      "2022-11-02 00:00:00 Qube\n",
      "82522\n",
      "5\n",
      "3\n"
     ]
    },
    {
     "name": "stderr",
     "output_type": "stream",
     "text": [
      "Qube      :  48%|████▊     | 25/52 [00:19<00:22,  1.20it/s]"
     ]
    },
    {
     "name": "stdout",
     "output_type": "stream",
     "text": [
      "2022-11-03 00:00:00 Qube\n",
      "83144\n",
      "5\n",
      "5\n"
     ]
    },
    {
     "name": "stderr",
     "output_type": "stream",
     "text": [
      "Qube      :  50%|█████     | 26/52 [00:19<00:21,  1.20it/s]"
     ]
    },
    {
     "name": "stdout",
     "output_type": "stream",
     "text": [
      "2022-11-04 00:00:00 Qube\n",
      "81477\n",
      "5\n",
      "7\n"
     ]
    },
    {
     "name": "stderr",
     "output_type": "stream",
     "text": [
      "Qube      :  52%|█████▏    | 27/52 [00:21<00:25,  1.00s/it]"
     ]
    },
    {
     "name": "stdout",
     "output_type": "stream",
     "text": [
      "2022-11-05 00:00:00 Qube\n",
      "86400\n",
      "1\n",
      "1\n"
     ]
    },
    {
     "name": "stderr",
     "output_type": "stream",
     "text": [
      "Qube      :  54%|█████▍    | 28/52 [00:22<00:24,  1.03s/it]"
     ]
    },
    {
     "name": "stdout",
     "output_type": "stream",
     "text": [
      "2022-11-06 00:00:00 Qube\n",
      "86400\n",
      "1\n",
      "1\n"
     ]
    },
    {
     "name": "stderr",
     "output_type": "stream",
     "text": [
      "Qube      :  56%|█████▌    | 29/52 [00:23<00:24,  1.05s/it]"
     ]
    },
    {
     "name": "stdout",
     "output_type": "stream",
     "text": [
      "2022-11-07 00:00:00 Qube\n",
      "81056\n",
      "11\n",
      "9\n"
     ]
    },
    {
     "name": "stderr",
     "output_type": "stream",
     "text": [
      "Qube      :  58%|█████▊    | 30/52 [00:24<00:22,  1.01s/it]"
     ]
    },
    {
     "name": "stdout",
     "output_type": "stream",
     "text": [
      "2022-11-08 00:00:00 Qube\n",
      "85100\n",
      "6\n",
      "6\n"
     ]
    },
    {
     "name": "stderr",
     "output_type": "stream",
     "text": [
      "Qube      :  60%|█████▉    | 31/52 [00:25<00:20,  1.02it/s]"
     ]
    },
    {
     "name": "stdout",
     "output_type": "stream",
     "text": [
      "2022-11-09 00:00:00 Qube\n",
      "86400\n",
      "1\n",
      "2\n"
     ]
    },
    {
     "name": "stderr",
     "output_type": "stream",
     "text": [
      "Qube      :  62%|██████▏   | 32/52 [00:26<00:20,  1.01s/it]"
     ]
    },
    {
     "name": "stdout",
     "output_type": "stream",
     "text": [
      "2022-11-10 00:00:00 Qube\n",
      "83504\n",
      "13\n",
      "13\n"
     ]
    },
    {
     "name": "stderr",
     "output_type": "stream",
     "text": [
      "Qube      :  63%|██████▎   | 33/52 [00:27<00:18,  1.03it/s]"
     ]
    },
    {
     "name": "stdout",
     "output_type": "stream",
     "text": [
      "2022-11-11 00:00:00 Qube\n",
      "84094\n",
      "15\n",
      "7\n"
     ]
    },
    {
     "name": "stderr",
     "output_type": "stream",
     "text": [
      "Qube      :  65%|██████▌   | 34/52 [00:28<00:17,  1.05it/s]"
     ]
    },
    {
     "name": "stdout",
     "output_type": "stream",
     "text": [
      "2022-11-12 00:00:00 Qube\n",
      "86400\n",
      "1\n",
      "1\n"
     ]
    },
    {
     "name": "stderr",
     "output_type": "stream",
     "text": [
      "Qube      :  67%|██████▋   | 35/52 [00:29<00:16,  1.01it/s]"
     ]
    },
    {
     "name": "stdout",
     "output_type": "stream",
     "text": [
      "2022-11-13 00:00:00 Qube\n",
      "86400\n",
      "1\n",
      "1\n"
     ]
    },
    {
     "name": "stderr",
     "output_type": "stream",
     "text": [
      "Qube      :  69%|██████▉   | 36/52 [00:30<00:16,  1.02s/it]"
     ]
    },
    {
     "name": "stdout",
     "output_type": "stream",
     "text": [
      "2022-11-14 00:00:00 Qube\n",
      "84715\n",
      "19\n",
      "5\n"
     ]
    },
    {
     "name": "stderr",
     "output_type": "stream",
     "text": [
      "Qube      :  71%|███████   | 37/52 [00:31<00:14,  1.01it/s]"
     ]
    },
    {
     "name": "stdout",
     "output_type": "stream",
     "text": [
      "2022-11-15 00:00:00 Qube\n",
      "85719\n",
      "9\n",
      "11\n"
     ]
    },
    {
     "name": "stderr",
     "output_type": "stream",
     "text": [
      "Qube      :  73%|███████▎  | 38/52 [00:32<00:13,  1.02it/s]"
     ]
    },
    {
     "name": "stdout",
     "output_type": "stream",
     "text": [
      "2022-11-16 00:00:00 Qube\n",
      "86335\n",
      "12\n",
      "3\n"
     ]
    },
    {
     "name": "stderr",
     "output_type": "stream",
     "text": [
      "Qube      :  75%|███████▌  | 39/52 [00:33<00:12,  1.06it/s]"
     ]
    },
    {
     "name": "stdout",
     "output_type": "stream",
     "text": [
      "2022-11-17 00:00:00 Qube\n",
      "86239\n",
      "9\n",
      "9\n"
     ]
    },
    {
     "name": "stderr",
     "output_type": "stream",
     "text": [
      "Qube      :  77%|███████▋  | 40/52 [00:33<00:11,  1.07it/s]"
     ]
    },
    {
     "name": "stdout",
     "output_type": "stream",
     "text": [
      "2022-11-18 00:00:00 Qube\n",
      "86089\n",
      "5\n",
      "3\n"
     ]
    },
    {
     "name": "stderr",
     "output_type": "stream",
     "text": [
      "Qube      :  79%|███████▉  | 41/52 [00:34<00:10,  1.10it/s]"
     ]
    },
    {
     "name": "stdout",
     "output_type": "stream",
     "text": [
      "2022-11-19 00:00:00 Qube\n",
      "86400\n",
      "1\n",
      "1\n"
     ]
    },
    {
     "name": "stderr",
     "output_type": "stream",
     "text": [
      "Qube      :  81%|████████  | 42/52 [00:35<00:09,  1.03it/s]"
     ]
    },
    {
     "name": "stdout",
     "output_type": "stream",
     "text": [
      "2022-11-20 00:00:00 Qube\n",
      "86400\n",
      "1\n",
      "1\n"
     ]
    },
    {
     "name": "stderr",
     "output_type": "stream",
     "text": [
      "Qube      :  83%|████████▎ | 43/52 [00:37<00:09,  1.01s/it]"
     ]
    },
    {
     "name": "stdout",
     "output_type": "stream",
     "text": [
      "2022-11-21 00:00:00 Qube\n",
      "84563\n",
      "15\n",
      "13\n"
     ]
    },
    {
     "name": "stderr",
     "output_type": "stream",
     "text": [
      "Qube      :  85%|████████▍ | 44/52 [00:37<00:07,  1.01it/s]"
     ]
    },
    {
     "name": "stdout",
     "output_type": "stream",
     "text": [
      "2022-11-22 00:00:00 Qube\n",
      "86052\n",
      "14\n",
      "7\n"
     ]
    },
    {
     "name": "stderr",
     "output_type": "stream",
     "text": [
      "Qube      :  87%|████████▋ | 45/52 [00:38<00:06,  1.04it/s]"
     ]
    },
    {
     "name": "stdout",
     "output_type": "stream",
     "text": [
      "2022-11-23 00:00:00 Qube\n",
      "78906\n",
      "13\n",
      "11\n"
     ]
    },
    {
     "name": "stderr",
     "output_type": "stream",
     "text": [
      "Qube      :  88%|████████▊ | 46/52 [00:40<00:06,  1.15s/it]"
     ]
    },
    {
     "name": "stdout",
     "output_type": "stream",
     "text": [
      "2022-11-24 00:00:00 Qube\n"
     ]
    },
    {
     "name": "stderr",
     "output_type": "stream",
     "text": [
      "Qube      :  90%|█████████ | 47/52 [00:40<00:04,  1.15it/s]"
     ]
    },
    {
     "name": "stdout",
     "output_type": "stream",
     "text": [
      "0\n",
      "0\n",
      "0\n",
      "2022-11-25 00:00:00 Qube\n"
     ]
    },
    {
     "name": "stderr",
     "output_type": "stream",
     "text": [
      "Qube      :  92%|█████████▏| 48/52 [00:40<00:02,  1.50it/s]"
     ]
    },
    {
     "name": "stdout",
     "output_type": "stream",
     "text": [
      "0\n",
      "0\n",
      "0\n",
      "2022-11-26 00:00:00 Qube\n"
     ]
    },
    {
     "name": "stderr",
     "output_type": "stream",
     "text": [
      "Qube      :  94%|█████████▍| 49/52 [00:41<00:01,  1.89it/s]"
     ]
    },
    {
     "name": "stdout",
     "output_type": "stream",
     "text": [
      "0\n",
      "0\n",
      "0\n",
      "2022-11-27 00:00:00 Qube\n"
     ]
    },
    {
     "name": "stderr",
     "output_type": "stream",
     "text": [
      "Qube      :  96%|█████████▌| 50/52 [00:41<00:00,  2.31it/s]"
     ]
    },
    {
     "name": "stdout",
     "output_type": "stream",
     "text": [
      "0\n",
      "0\n",
      "0\n",
      "2022-11-28 00:00:00 Qube\n"
     ]
    },
    {
     "name": "stderr",
     "output_type": "stream",
     "text": [
      "Qube      :  98%|█████████▊| 51/52 [00:41<00:00,  2.75it/s]"
     ]
    },
    {
     "name": "stdout",
     "output_type": "stream",
     "text": [
      "0\n",
      "0\n",
      "0\n",
      "2022-11-29 00:00:00 Qube\n"
     ]
    },
    {
     "name": "stderr",
     "output_type": "stream",
     "text": [
      "Qube      : 100%|██████████| 52/52 [00:41<00:00,  3.16it/s]"
     ]
    },
    {
     "name": "stdout",
     "output_type": "stream",
     "text": [
      "0\n",
      "0\n",
      "0\n",
      "2022-11-30 00:00:00 Qube\n"
     ]
    },
    {
     "name": "stderr",
     "output_type": "stream",
     "text": [
      "Qube      : 100%|██████████| 52/52 [00:41<00:00,  1.24it/s]\n"
     ]
    },
    {
     "name": "stdout",
     "output_type": "stream",
     "text": [
      "0\n",
      "0\n",
      "0\n"
     ]
    },
    {
     "name": "stderr",
     "output_type": "stream",
     "text": [
      "Sensirion :   0%|          | 0/52 [00:00<?, ?it/s]"
     ]
    },
    {
     "name": "stdout",
     "output_type": "stream",
     "text": [
      "2022-10-10 00:00:00 Sensirion\n",
      "16636\n",
      "5\n",
      "3\n"
     ]
    },
    {
     "name": "stderr",
     "output_type": "stream",
     "text": [
      "Sensirion :   4%|▍         | 2/52 [00:01<00:32,  1.52it/s]"
     ]
    },
    {
     "name": "stdout",
     "output_type": "stream",
     "text": [
      "2022-10-11 00:00:00 Sensirion\n",
      "74058\n",
      "9\n",
      "4\n"
     ]
    },
    {
     "name": "stderr",
     "output_type": "stream",
     "text": [
      "Sensirion :   6%|▌         | 3/52 [00:02<00:41,  1.17it/s]"
     ]
    },
    {
     "name": "stdout",
     "output_type": "stream",
     "text": [
      "2022-10-12 00:00:00 Sensirion\n",
      "73346\n",
      "9\n",
      "4\n"
     ]
    },
    {
     "name": "stderr",
     "output_type": "stream",
     "text": [
      "Sensirion :   8%|▊         | 4/52 [00:03<00:46,  1.04it/s]"
     ]
    },
    {
     "name": "stdout",
     "output_type": "stream",
     "text": [
      "2022-10-13 00:00:00 Sensirion\n",
      "65890\n",
      "6\n",
      "5\n"
     ]
    },
    {
     "name": "stderr",
     "output_type": "stream",
     "text": [
      "Sensirion :  10%|▉         | 5/52 [00:04<00:47,  1.01s/it]"
     ]
    },
    {
     "name": "stdout",
     "output_type": "stream",
     "text": [
      "2022-10-14 00:00:00 Sensirion\n"
     ]
    },
    {
     "name": "stderr",
     "output_type": "stream",
     "text": [
      "Sensirion :  12%|█▏        | 6/52 [00:04<00:34,  1.35it/s]"
     ]
    },
    {
     "name": "stdout",
     "output_type": "stream",
     "text": [
      "0\n",
      "0\n",
      "0\n",
      "2022-10-15 00:00:00 Sensirion\n",
      "86400\n",
      "1\n",
      "1\n"
     ]
    },
    {
     "name": "stderr",
     "output_type": "stream",
     "text": [
      "Sensirion :  13%|█▎        | 7/52 [00:06<00:39,  1.15it/s]"
     ]
    },
    {
     "name": "stdout",
     "output_type": "stream",
     "text": [
      "2022-10-16 00:00:00 Sensirion\n",
      "86400\n",
      "1\n",
      "1\n"
     ]
    },
    {
     "name": "stderr",
     "output_type": "stream",
     "text": [
      "Sensirion :  15%|█▌        | 8/52 [00:07<00:41,  1.06it/s]"
     ]
    },
    {
     "name": "stdout",
     "output_type": "stream",
     "text": [
      "2022-10-17 00:00:00 Sensirion\n",
      "69324\n",
      "5\n",
      "3\n"
     ]
    },
    {
     "name": "stderr",
     "output_type": "stream",
     "text": [
      "Sensirion :  17%|█▋        | 9/52 [00:08<00:39,  1.08it/s]"
     ]
    },
    {
     "name": "stdout",
     "output_type": "stream",
     "text": [
      "2022-10-18 00:00:00 Sensirion\n"
     ]
    },
    {
     "name": "stderr",
     "output_type": "stream",
     "text": [
      "Sensirion :  19%|█▉        | 10/52 [00:08<00:29,  1.42it/s]"
     ]
    },
    {
     "name": "stdout",
     "output_type": "stream",
     "text": [
      "0\n",
      "0\n",
      "0\n",
      "2022-10-19 00:00:00 Sensirion\n"
     ]
    },
    {
     "name": "stderr",
     "output_type": "stream",
     "text": [
      "Sensirion :  21%|██        | 11/52 [00:08<00:22,  1.80it/s]"
     ]
    },
    {
     "name": "stdout",
     "output_type": "stream",
     "text": [
      "0\n",
      "0\n",
      "0\n",
      "2022-10-20 00:00:00 Sensirion\n"
     ]
    },
    {
     "name": "stderr",
     "output_type": "stream",
     "text": [
      "Sensirion :  23%|██▎       | 12/52 [00:08<00:17,  2.23it/s]"
     ]
    },
    {
     "name": "stdout",
     "output_type": "stream",
     "text": [
      "0\n",
      "0\n",
      "0\n",
      "2022-10-21 00:00:00 Sensirion\n"
     ]
    },
    {
     "name": "stderr",
     "output_type": "stream",
     "text": [
      "Sensirion :  25%|██▌       | 13/52 [00:08<00:14,  2.66it/s]"
     ]
    },
    {
     "name": "stdout",
     "output_type": "stream",
     "text": [
      "0\n",
      "0\n",
      "0\n",
      "2022-10-22 00:00:00 Sensirion\n"
     ]
    },
    {
     "name": "stderr",
     "output_type": "stream",
     "text": [
      "Sensirion :  27%|██▋       | 14/52 [00:09<00:12,  3.09it/s]"
     ]
    },
    {
     "name": "stdout",
     "output_type": "stream",
     "text": [
      "0\n",
      "0\n",
      "0\n",
      "2022-10-23 00:00:00 Sensirion\n",
      "86400\n",
      "1\n",
      "1\n"
     ]
    },
    {
     "name": "stderr",
     "output_type": "stream",
     "text": [
      "Sensirion :  29%|██▉       | 15/52 [00:10<00:20,  1.80it/s]"
     ]
    },
    {
     "name": "stdout",
     "output_type": "stream",
     "text": [
      "2022-10-24 00:00:00 Sensirion\n",
      "68662\n",
      "8\n",
      "5\n"
     ]
    },
    {
     "name": "stderr",
     "output_type": "stream",
     "text": [
      "Sensirion :  31%|███       | 16/52 [00:11<00:24,  1.49it/s]"
     ]
    },
    {
     "name": "stdout",
     "output_type": "stream",
     "text": [
      "2022-10-25 00:00:00 Sensirion\n",
      "78825\n",
      "12\n",
      "3\n"
     ]
    },
    {
     "name": "stderr",
     "output_type": "stream",
     "text": [
      "Sensirion :  33%|███▎      | 17/52 [00:12<00:26,  1.32it/s]"
     ]
    },
    {
     "name": "stdout",
     "output_type": "stream",
     "text": [
      "2022-10-26 00:00:00 Sensirion\n",
      "79704\n",
      "10\n",
      "3\n"
     ]
    },
    {
     "name": "stderr",
     "output_type": "stream",
     "text": [
      "Sensirion :  35%|███▍      | 18/52 [00:12<00:26,  1.26it/s]"
     ]
    },
    {
     "name": "stdout",
     "output_type": "stream",
     "text": [
      "2022-10-27 00:00:00 Sensirion\n",
      "80340\n",
      "12\n",
      "3\n"
     ]
    },
    {
     "name": "stderr",
     "output_type": "stream",
     "text": [
      "Sensirion :  37%|███▋      | 19/52 [00:13<00:27,  1.21it/s]"
     ]
    },
    {
     "name": "stdout",
     "output_type": "stream",
     "text": [
      "2022-10-28 00:00:00 Sensirion\n",
      "80707\n",
      "22\n",
      "3\n"
     ]
    },
    {
     "name": "stderr",
     "output_type": "stream",
     "text": [
      "Sensirion :  38%|███▊      | 20/52 [00:14<00:27,  1.15it/s]"
     ]
    },
    {
     "name": "stdout",
     "output_type": "stream",
     "text": [
      "2022-10-29 00:00:00 Sensirion\n",
      "82261\n",
      "7\n",
      "3\n"
     ]
    },
    {
     "name": "stderr",
     "output_type": "stream",
     "text": [
      "Sensirion :  40%|████      | 21/52 [00:15<00:27,  1.15it/s]"
     ]
    },
    {
     "name": "stdout",
     "output_type": "stream",
     "text": [
      "2022-10-30 00:00:00 Sensirion\n",
      "86400\n",
      "7\n",
      "1\n"
     ]
    },
    {
     "name": "stderr",
     "output_type": "stream",
     "text": [
      "Sensirion :  42%|████▏     | 22/52 [00:16<00:25,  1.19it/s]"
     ]
    },
    {
     "name": "stdout",
     "output_type": "stream",
     "text": [
      "2022-10-31 00:00:00 Sensirion\n",
      "83365\n",
      "13\n",
      "5\n"
     ]
    },
    {
     "name": "stderr",
     "output_type": "stream",
     "text": [
      "Sensirion :  44%|████▍     | 23/52 [00:17<00:24,  1.17it/s]"
     ]
    },
    {
     "name": "stdout",
     "output_type": "stream",
     "text": [
      "2022-11-01 00:00:00 Sensirion\n",
      "84214\n",
      "7\n",
      "3\n"
     ]
    },
    {
     "name": "stderr",
     "output_type": "stream",
     "text": [
      "Sensirion :  46%|████▌     | 24/52 [00:18<00:23,  1.18it/s]"
     ]
    },
    {
     "name": "stdout",
     "output_type": "stream",
     "text": [
      "2022-11-02 00:00:00 Sensirion\n",
      "82522\n",
      "5\n",
      "3\n"
     ]
    },
    {
     "name": "stderr",
     "output_type": "stream",
     "text": [
      "Sensirion :  48%|████▊     | 25/52 [00:18<00:22,  1.19it/s]"
     ]
    },
    {
     "name": "stdout",
     "output_type": "stream",
     "text": [
      "2022-11-03 00:00:00 Sensirion\n",
      "83144\n",
      "5\n",
      "3\n"
     ]
    },
    {
     "name": "stderr",
     "output_type": "stream",
     "text": [
      "Sensirion :  50%|█████     | 26/52 [00:19<00:21,  1.21it/s]"
     ]
    },
    {
     "name": "stdout",
     "output_type": "stream",
     "text": [
      "2022-11-04 00:00:00 Sensirion\n",
      "81477\n",
      "5\n",
      "3\n"
     ]
    },
    {
     "name": "stderr",
     "output_type": "stream",
     "text": [
      "Sensirion :  52%|█████▏    | 27/52 [00:20<00:21,  1.19it/s]"
     ]
    },
    {
     "name": "stdout",
     "output_type": "stream",
     "text": [
      "2022-11-05 00:00:00 Sensirion\n",
      "86400\n",
      "1\n",
      "1\n"
     ]
    },
    {
     "name": "stderr",
     "output_type": "stream",
     "text": [
      "Sensirion :  54%|█████▍    | 28/52 [00:21<00:22,  1.09it/s]"
     ]
    },
    {
     "name": "stdout",
     "output_type": "stream",
     "text": [
      "2022-11-06 00:00:00 Sensirion\n",
      "86400\n",
      "1\n",
      "1\n"
     ]
    },
    {
     "name": "stderr",
     "output_type": "stream",
     "text": [
      "Sensirion :  56%|█████▌    | 29/52 [00:23<00:27,  1.19s/it]"
     ]
    },
    {
     "name": "stdout",
     "output_type": "stream",
     "text": [
      "2022-11-07 00:00:00 Sensirion\n",
      "81056\n",
      "11\n",
      "5\n"
     ]
    },
    {
     "name": "stderr",
     "output_type": "stream",
     "text": [
      "Sensirion :  58%|█████▊    | 30/52 [00:24<00:24,  1.10s/it]"
     ]
    },
    {
     "name": "stdout",
     "output_type": "stream",
     "text": [
      "2022-11-08 00:00:00 Sensirion\n",
      "85100\n",
      "6\n",
      "4\n"
     ]
    },
    {
     "name": "stderr",
     "output_type": "stream",
     "text": [
      "Sensirion :  60%|█████▉    | 31/52 [00:25<00:21,  1.04s/it]"
     ]
    },
    {
     "name": "stdout",
     "output_type": "stream",
     "text": [
      "2022-11-09 00:00:00 Sensirion\n",
      "86400\n",
      "1\n",
      "2\n"
     ]
    },
    {
     "name": "stderr",
     "output_type": "stream",
     "text": [
      "Sensirion :  62%|██████▏   | 32/52 [00:26<00:21,  1.06s/it]"
     ]
    },
    {
     "name": "stdout",
     "output_type": "stream",
     "text": [
      "2022-11-10 00:00:00 Sensirion\n",
      "83504\n",
      "13\n",
      "3\n"
     ]
    },
    {
     "name": "stderr",
     "output_type": "stream",
     "text": [
      "Sensirion :  63%|██████▎   | 33/52 [00:27<00:19,  1.00s/it]"
     ]
    },
    {
     "name": "stdout",
     "output_type": "stream",
     "text": [
      "2022-11-11 00:00:00 Sensirion\n",
      "84094\n",
      "15\n",
      "3\n"
     ]
    },
    {
     "name": "stderr",
     "output_type": "stream",
     "text": [
      "Sensirion :  65%|██████▌   | 34/52 [00:28<00:17,  1.03it/s]"
     ]
    },
    {
     "name": "stdout",
     "output_type": "stream",
     "text": [
      "2022-11-12 00:00:00 Sensirion\n",
      "86400\n",
      "1\n",
      "1\n"
     ]
    },
    {
     "name": "stderr",
     "output_type": "stream",
     "text": [
      "Sensirion :  67%|██████▋   | 35/52 [00:29<00:17,  1.01s/it]"
     ]
    },
    {
     "name": "stdout",
     "output_type": "stream",
     "text": [
      "2022-11-13 00:00:00 Sensirion\n",
      "86400\n",
      "1\n",
      "1\n"
     ]
    },
    {
     "name": "stderr",
     "output_type": "stream",
     "text": [
      "Sensirion :  69%|██████▉   | 36/52 [00:30<00:16,  1.04s/it]"
     ]
    },
    {
     "name": "stdout",
     "output_type": "stream",
     "text": [
      "2022-11-14 00:00:00 Sensirion\n",
      "84715\n",
      "19\n",
      "3\n"
     ]
    },
    {
     "name": "stderr",
     "output_type": "stream",
     "text": [
      "Sensirion :  71%|███████   | 37/52 [00:31<00:14,  1.01it/s]"
     ]
    },
    {
     "name": "stdout",
     "output_type": "stream",
     "text": [
      "2022-11-15 00:00:00 Sensirion\n",
      "85719\n",
      "9\n",
      "3\n"
     ]
    },
    {
     "name": "stderr",
     "output_type": "stream",
     "text": [
      "Sensirion :  73%|███████▎  | 38/52 [00:32<00:13,  1.04it/s]"
     ]
    },
    {
     "name": "stdout",
     "output_type": "stream",
     "text": [
      "2022-11-16 00:00:00 Sensirion\n",
      "86335\n",
      "12\n",
      "3\n"
     ]
    },
    {
     "name": "stderr",
     "output_type": "stream",
     "text": [
      "Sensirion :  75%|███████▌  | 39/52 [00:33<00:12,  1.08it/s]"
     ]
    },
    {
     "name": "stdout",
     "output_type": "stream",
     "text": [
      "2022-11-17 00:00:00 Sensirion\n",
      "86239\n",
      "9\n",
      "1\n"
     ]
    },
    {
     "name": "stderr",
     "output_type": "stream",
     "text": [
      "Sensirion :  77%|███████▋  | 40/52 [00:33<00:10,  1.10it/s]"
     ]
    },
    {
     "name": "stdout",
     "output_type": "stream",
     "text": [
      "2022-11-18 00:00:00 Sensirion\n",
      "86089\n",
      "5\n",
      "3\n"
     ]
    },
    {
     "name": "stderr",
     "output_type": "stream",
     "text": [
      "Sensirion :  79%|███████▉  | 41/52 [00:34<00:09,  1.12it/s]"
     ]
    },
    {
     "name": "stdout",
     "output_type": "stream",
     "text": [
      "2022-11-19 00:00:00 Sensirion\n",
      "86400\n",
      "1\n",
      "1\n"
     ]
    },
    {
     "name": "stderr",
     "output_type": "stream",
     "text": [
      "Sensirion :  81%|████████  | 42/52 [00:35<00:09,  1.05it/s]"
     ]
    },
    {
     "name": "stdout",
     "output_type": "stream",
     "text": [
      "2022-11-20 00:00:00 Sensirion\n",
      "86400\n",
      "1\n",
      "1\n"
     ]
    },
    {
     "name": "stderr",
     "output_type": "stream",
     "text": [
      "Sensirion :  83%|████████▎ | 43/52 [00:36<00:08,  1.01it/s]"
     ]
    },
    {
     "name": "stdout",
     "output_type": "stream",
     "text": [
      "2022-11-21 00:00:00 Sensirion\n",
      "84563\n",
      "15\n",
      "3\n"
     ]
    },
    {
     "name": "stderr",
     "output_type": "stream",
     "text": [
      "Sensirion :  85%|████████▍ | 44/52 [00:37<00:07,  1.02it/s]"
     ]
    },
    {
     "name": "stdout",
     "output_type": "stream",
     "text": [
      "2022-11-22 00:00:00 Sensirion\n",
      "86052\n",
      "14\n",
      "3\n"
     ]
    },
    {
     "name": "stderr",
     "output_type": "stream",
     "text": [
      "Sensirion :  87%|████████▋ | 45/52 [00:38<00:06,  1.05it/s]"
     ]
    },
    {
     "name": "stdout",
     "output_type": "stream",
     "text": [
      "2022-11-23 00:00:00 Sensirion\n",
      "85385\n",
      "13\n",
      "3\n"
     ]
    },
    {
     "name": "stderr",
     "output_type": "stream",
     "text": [
      "Sensirion :  88%|████████▊ | 46/52 [00:39<00:05,  1.07it/s]"
     ]
    },
    {
     "name": "stdout",
     "output_type": "stream",
     "text": [
      "2022-11-24 00:00:00 Sensirion\n",
      "86400\n",
      "1\n",
      "1\n"
     ]
    },
    {
     "name": "stderr",
     "output_type": "stream",
     "text": [
      "Sensirion :  90%|█████████ | 47/52 [00:40<00:04,  1.02it/s]"
     ]
    },
    {
     "name": "stdout",
     "output_type": "stream",
     "text": [
      "2022-11-25 00:00:00 Sensirion\n",
      "86400\n",
      "1\n",
      "1\n"
     ]
    },
    {
     "name": "stderr",
     "output_type": "stream",
     "text": [
      "Sensirion :  92%|█████████▏| 48/52 [00:41<00:04,  1.02s/it]"
     ]
    },
    {
     "name": "stdout",
     "output_type": "stream",
     "text": [
      "2022-11-26 00:00:00 Sensirion\n",
      "86400\n",
      "1\n",
      "1\n"
     ]
    },
    {
     "name": "stderr",
     "output_type": "stream",
     "text": [
      "Sensirion :  94%|█████████▍| 49/52 [00:42<00:03,  1.04s/it]"
     ]
    },
    {
     "name": "stdout",
     "output_type": "stream",
     "text": [
      "2022-11-27 00:00:00 Sensirion\n",
      "86400\n",
      "1\n",
      "1\n"
     ]
    },
    {
     "name": "stderr",
     "output_type": "stream",
     "text": [
      "Sensirion :  96%|█████████▌| 50/52 [00:44<00:02,  1.06s/it]"
     ]
    },
    {
     "name": "stdout",
     "output_type": "stream",
     "text": [
      "2022-11-28 00:00:00 Sensirion\n",
      "86058\n",
      "10\n",
      "3\n"
     ]
    },
    {
     "name": "stderr",
     "output_type": "stream",
     "text": [
      "Sensirion :  98%|█████████▊| 51/52 [00:44<00:01,  1.00s/it]"
     ]
    },
    {
     "name": "stdout",
     "output_type": "stream",
     "text": [
      "2022-11-29 00:00:00 Sensirion\n",
      "86161\n",
      "6\n",
      "3\n"
     ]
    },
    {
     "name": "stderr",
     "output_type": "stream",
     "text": [
      "Sensirion : 100%|██████████| 52/52 [00:46<00:00,  1.17s/it]"
     ]
    },
    {
     "name": "stdout",
     "output_type": "stream",
     "text": [
      "2022-11-30 00:00:00 Sensirion\n",
      "67441\n",
      "3\n",
      "3\n"
     ]
    },
    {
     "name": "stderr",
     "output_type": "stream",
     "text": [
      "Sensirion : 100%|██████████| 52/52 [00:47<00:00,  1.10it/s]\n"
     ]
    }
   ],
   "source": [
    "plt.rc('font', size=20)\n",
    "\n",
    "\n",
    "def plot_comparison_figuires(true_event_dfs, report_event_dfs, time_event_dfs, plot_sensors, save_dir):\n",
    "    \"\"\"\n",
    "    Rendering a comparative visualization,\n",
    "    Parameters:\n",
    "        true_event_dfs: Actual events\n",
    "        report_event_dfs: Reported events\n",
    "        time_event_dfs: Time-based events\n",
    "        plot_sensors: Sensor names\n",
    "        save_dir: Save directory\n",
    "    \"\"\"\n",
    "\n",
    "    for sensor_name in plot_sensors:\n",
    "        true_event_df = true_event_dfs[sensor_name]\n",
    "        report_event_df = report_event_dfs[sensor_name]        \n",
    "        true_event_df = true_event_df.sort_values(by=\"EventStart\")\n",
    "        report_event_df = report_event_df.sort_values(by=\"EventStart\")\n",
    "        time_event_df = time_event_dfs[sensor_name]\n",
    "\n",
    "        # load the true events\n",
    "        true_event_df[\"is_P\"] = np.nan\n",
    "        true_event_df.loc[true_event_df[\"EventClass\"] == \"P\", \"is_P\"] = 1\n",
    "        true_event_df.loc[true_event_df[\"EventClass\"] == \"N\", \"is_P\"] = 0\n",
    "        true_event_df[\"EventStart\"] = true_event_df[\"EventStart\"].apply(lambda x: pd.to_datetime(x))\n",
    "        true_event_df[\"EventEnd\"] = true_event_df[\"EventEnd\"].apply(lambda x: pd.to_datetime(x))\n",
    "        true_event_df[\"EventDate\"] = \"\"\n",
    "        true_event_df[\"EventDate\"] = true_event_df[\"EventStart\"].apply(lambda x: x.date())\n",
    "\n",
    "        # load the report events\n",
    "        report_event_df[\"is_P\"] = np.nan\n",
    "        report_event_df.loc[report_event_df[\"EventClass\"] == \"P\", \"is_P\"] = 1\n",
    "        report_event_df.loc[report_event_df[\"EventClass\"] == \"N\", \"is_P\"] = 0\n",
    "        report_event_df[\"EventStart\"] = report_event_df[\"EventStart\"].apply(lambda x: pd.to_datetime(x))\n",
    "        report_event_df[\"EventEnd\"] = report_event_df[\"EventEnd\"].apply(lambda x: pd.to_datetime(x))\n",
    "        report_event_df[\"EventDate\"] = \"\"\n",
    "        report_event_df[\"EventDate\"] = report_event_df[\"EventStart\"].apply(lambda x: x.date())\n",
    "\n",
    "\n",
    "        # from 2022-10-10 to 2022-11-30, find the true events and report events of each day\n",
    "        start_date = pd.to_datetime(\"2022-10-10\")\n",
    "        end_date = pd.to_datetime(\"2022-11-30\")\n",
    "        date_range = pd.date_range(start_date, end_date, freq=\"D\")\n",
    "        \n",
    "        # save the plot\n",
    "        plot_save_dir = PurePath(save_dir, sensor_name)\n",
    "        if not os.path.exists(plot_save_dir):\n",
    "            os.makedirs(plot_save_dir)\n",
    "\n",
    "        with tqdm(total=len(date_range)) as pbar:\n",
    "            for date in date_range:\n",
    "                print(date, sensor_name)\n",
    "                date = pd.to_datetime(date)\n",
    "                pbar.set_description(f\"{sensor_name:<10}\")\n",
    "                pbar.update(1)\n",
    "                tmp_true_event_df = true_event_df[true_event_df[\"EventDate\"] == date.date()].copy().reset_index(drop=True)\n",
    "                tmp_report_event_df = report_event_df[report_event_df[\"EventDate\"] == date.date()].copy().reset_index(drop=True)\n",
    "                tmp_time_event_df = time_event_df[time_event_df[\"EmissionDate\"] == date.date()].copy().reset_index(drop=True)\n",
    "                print((tmp_time_event_df[\"norm_class\"] != \"NA\").sum())\n",
    "                print(tmp_true_event_df.shape[0])\n",
    "                print(tmp_report_event_df.shape[0])\n",
    "\n",
    "\n",
    "                if tmp_true_event_df.shape[0] == 0 or tmp_report_event_df.shape[0] == 0:\n",
    "                    continue\n",
    "\n",
    "                # extract the start and end time of the true events and report events, mainly for fine-tuning the x-axis\n",
    "                # the start and end time is the minimum and maximum time of the true events which are labeled as \"P\"\n",
    "                if tmp_true_event_df.shape[0] == 1:\n",
    "                    true_start = tmp_true_event_df[\"EventStart\"].values[0]\n",
    "                    true_end = tmp_true_event_df[\"EventEnd\"].values[0]\n",
    "                else:\n",
    "                    true_start = tmp_true_event_df[\"EventEnd\"].values[0]\n",
    "                    true_end = tmp_true_event_df[\"EventStart\"].values[-1]\n",
    "\n",
    "                # the start and end time is the minimum and maximum time of the report events which are labeled as \"P\"\n",
    "                if report_event_df.shape[0] == 1:\n",
    "                    report_start = tmp_report_event_df[\"EventStart\"].values[0]\n",
    "                    report_end = tmp_report_event_df[\"EventEnd\"].values[0]\n",
    "                else:\n",
    "                    report_start = tmp_report_event_df[\"EventEnd\"].values[0]\n",
    "                    report_end = tmp_report_event_df[\"EventStart\"].values[-1]\n",
    "\n",
    "                # set the start(end) time to the minimum(maximum) time of the true start(end) time and report start(end) time\n",
    "                origin_start = min(true_start, report_start)\n",
    "                origin_end = max(true_end, report_end)\n",
    "\n",
    "                # shift the start and end time to make the plot more beautiful\n",
    "                shift_time = (origin_end - origin_start) / pd.Timedelta(seconds=1)\n",
    "                end = min(origin_end + pd.Timedelta(seconds=shift_time * 0.1), date + pd.Timedelta(days=1) - pd.Timedelta(seconds=1))\n",
    "                start = max(origin_start - pd.Timedelta(seconds=shift_time * 0.1), date)\n",
    "                # start = pd.to_datetime(date)\n",
    "                # end = start + pd.Timedelta(days=1) - pd.Timedelta(seconds=1)\n",
    "\n",
    "                # compute the continuous true events and report events\n",
    "                continuous_true_event_df = pd.DataFrame(columns=[\"DateTime (UTC)\", \"is_P\"])\n",
    "                continuous_report_event_df = pd.DataFrame(columns=[\"DateTime (UTC)\", \"is_P\"])\n",
    "\n",
    "                # process the true events\n",
    "                continuous_true_event_df[\"DateTime (UTC)\"] = pd.date_range(start, end, freq=\"S\").map(lambda x: pd.to_datetime(x))\n",
    "                continuous_true_event_df[\"is_P\"] = np.nan\n",
    "                for i in range(tmp_true_event_df.shape[0]):\n",
    "                    cur_event_start = tmp_true_event_df[\"EventStart\"].values[i]\n",
    "                    cur_event_end = tmp_true_event_df[\"EventEnd\"].values[i]\n",
    "                    label = tmp_true_event_df[\"EventClass\"].values[i]\n",
    "\n",
    "                    if label == \"P\":\n",
    "                        continuous_true_event_df.loc[continuous_true_event_df[\"DateTime (UTC)\"].between(cur_event_start - pd.Timedelta(seconds=1), cur_event_end+pd.Timedelta(seconds=1), inclusive=\"both\"), \"is_P\"] = 1\n",
    "                    elif label == \"N\":\n",
    "                        continuous_true_event_df.loc[continuous_true_event_df[\"DateTime (UTC)\"].between(cur_event_start - pd.Timedelta(seconds=1), cur_event_end+pd.Timedelta(seconds=1), inclusive=\"both\"), \"is_P\"] = 0\n",
    "                \n",
    "                # process the report events, make the report events continuous, and the value of \"is_P\" is 1 if the report event is labeled as \"P\", otherwise 0\n",
    "                continuous_report_event_df[\"DateTime (UTC)\"] = pd.date_range(start, end, freq=\"S\").map(lambda x: pd.to_datetime(x))\n",
    "                continuous_report_event_df[\"is_P\"] = np.nan\n",
    "                for i in range(tmp_report_event_df.shape[0]):\n",
    "                    cur_event_start = tmp_report_event_df[\"EventStart\"].values[i]\n",
    "                    cur_event_end = tmp_report_event_df[\"EventEnd\"].values[i]\n",
    "                    label = tmp_report_event_df[\"EventClass\"].values[i]\n",
    "                    if label == \"P\":\n",
    "                        continuous_report_event_df.loc[continuous_report_event_df[\"DateTime (UTC)\"].between(cur_event_start - pd.Timedelta(seconds=1), cur_event_end + pd.Timedelta(seconds=1), inclusive=\"both\"), \"is_P\"] = 1\n",
    "                    elif label == \"N\":\n",
    "                        continuous_report_event_df.loc[continuous_report_event_df[\"DateTime (UTC)\"].between(cur_event_start - pd.Timedelta(seconds=1), cur_event_end + pd.Timedelta(seconds=1), inclusive=\"both\"), \"is_P\"] = 0\n",
    "                \n",
    "                # plot the figure\n",
    "                figure = plt.figure(figsize=(20, 10))\n",
    "                \n",
    "                plot_delta = int((end - start) / pd.Timedelta(seconds=1))\n",
    "                shift_time = int(plot_delta * 0.05)\n",
    "\n",
    "                # split the figure into 3 parts, the first part is true events, which contains 2 subplots, \n",
    "                # the second part is report events, which contains 2 subplots,\n",
    "                # the third part is the classification result, which contains 1 subplot  \n",
    "\n",
    "                # plot the true events              \n",
    "                grid = plt.GridSpec(5, 10, hspace=0.2, wspace=0.2)\n",
    "                ax1 = plt.subplot(grid[0:2, :])\n",
    "                plt.plot(continuous_true_event_df[\"DateTime (UTC)\"], continuous_true_event_df[\"is_P\"], label=\"Stanford-defined\", color=\"black\")\n",
    "                plt.xlim(start - pd.Timedelta(seconds=shift_time) , end + pd.Timedelta(seconds=shift_time))\n",
    "                plt.setp(ax1.get_xticklabels(), visible=False)\n",
    "\n",
    "                plt.yticks([0, 1])\n",
    "                plt.ylabel(\"Released\", fontsize=20, verticalalignment=\"center_baseline\")\n",
    "                plt.legend(loc=(0.9, 0.8))\n",
    "                # plt.xlim(start - pd.Timedelta(shift_time, \"s\"), end + pd.Timedelta(shift_time, \"s\"))\n",
    "                plt.title(f\"Classification of {sensor_name} at \" + datetime.datetime.strftime(date, \"%Y-%m-%d\"))\n",
    "\n",
    "                # plot the report events\n",
    "                ax2 = plt.subplot(grid[2:4, :])\n",
    "                plt.plot(continuous_report_event_df[\"DateTime (UTC)\"], continuous_report_event_df[\"is_P\"], label=\"Team-defined\", color=\"blue\")\n",
    "                plt.xlim(start - pd.Timedelta(seconds=shift_time) , end + pd.Timedelta(seconds=shift_time))\n",
    "                plt.setp(ax2.get_xticklabels(), visible=False)\n",
    "                plt.yticks([0, 1])\n",
    "                # plt.xlim(start - pd.Timedelta(shift_time, \"s\"), end + pd.Timedelta(shift_time, \"s\"))\n",
    "\n",
    "\n",
    "                plt.ylabel(\"Reported\", fontsize=20, verticalalignment=\"center_baseline\")\n",
    "                plt.legend(loc=(0.9, 0.8))\n",
    "\n",
    "                # plot the classification result\n",
    "                # set the color map for the classification result\n",
    "\n",
    "                colors = {\n",
    "                        \"TP\": \"#4daf4a\",\n",
    "                        \"FP\": \"#e41a1c\",\n",
    "                        \"FN\": \"#ff7f00\",\n",
    "                        \"TN\": \"#377eb8\", \n",
    "                        \"NA\": \"#984ea3\"\n",
    "                    }\n",
    "\n",
    "                # control the legend of the classification result\n",
    "                nums = {\n",
    "                        \"TP\": 0,\n",
    "                        \"FP\": 0,\n",
    "                        \"FN\": 0,\n",
    "                        \"TN\": 0,\n",
    "                        \"NA\": 0\n",
    "                    }\n",
    "                \n",
    "                # set the label position for the classification result\n",
    "                label_pos = {\n",
    "                    \"Stanford-defined\": 2,\n",
    "                    \"Team-defined\": 0,\n",
    "                    \"Time-based\": -2\n",
    "                }\n",
    "\n",
    "                axes = plt.subplot(grid[4, :])\n",
    "\n",
    "                # plot the Team-defined classification result\n",
    "                if sensor_name != \"Soofie\":\n",
    "                    for i in range(tmp_report_event_df.shape[0]):\n",
    "                        cur_plot_start = max(tmp_report_event_df[\"EventStart\"].values[i], start)\n",
    "                        cur_plot_end = min(tmp_report_event_df[\"EventEnd\"].values[i], end)\n",
    "                        label = tmp_report_event_df[\"label\"].values[i]\n",
    "\n",
    "                        # if the classification result is the first one, then plot the label, which is the beautiful legend of the figure\n",
    "                        if (label == \"TP\" and nums[\"TP\"] == 0) or \\\n",
    "                            (label == \"FP\" and nums[\"FP\"] == 0) or \\\n",
    "                                (label == \"FN\" and nums[\"FN\"] == 0) or \\\n",
    "                                    (label == \"TN\" and nums[\"TN\"] == 0) or \\\n",
    "                                        (label == str(\"NA\") and nums[\"NA\"] == 0):\n",
    "                            plt.plot(\n",
    "                                [cur_plot_start, cur_plot_end],\n",
    "                                [label_pos[\"Team-defined\"], label_pos[\"Team-defined\"]],\n",
    "                                lw = 15,\n",
    "                                color = colors[label],\n",
    "                                label = str(\"NA\") if label == str(\"NA\") else label\n",
    "                            )\n",
    "                            nums[label] += 1\n",
    "                        else:\n",
    "                            plt.plot(\n",
    "                                [cur_plot_start, cur_plot_end],\n",
    "                                [label_pos[\"Team-defined\"], label_pos[\"Team-defined\"]],\n",
    "                                lw = 15,\n",
    "                                color = colors[label]\n",
    "                            )\n",
    "                    \n",
    "\n",
    "                # plot the Stanford-defined classification result\n",
    "                if sensor_name != \"Soofie\":\n",
    "                    for i in range(tmp_true_event_df.shape[0]):\n",
    "                        cur_plot_start = max(tmp_true_event_df[\"EventStart\"].values[i], start)\n",
    "                        cur_plot_end = min(tmp_true_event_df[\"EventEnd\"].values[i], end)\n",
    "                        label = tmp_true_event_df[\"label\"].values[i]\n",
    "\n",
    "                        if (label == \"TP\" and nums[\"TP\"] == 0) or\\\n",
    "                            (label == \"FP\" and nums[\"FP\"] == 0) or\\\n",
    "                                (label == \"FN\" and nums[\"FN\"] == 0) or\\\n",
    "                                    (label == \"TN\" and nums[\"TN\"] == 0) or\\\n",
    "                                        (label == str(\"NA\") and nums[\"NA\"] == 0):\n",
    "            \n",
    "                            plt.plot(\n",
    "                                [cur_plot_start, cur_plot_end],\n",
    "                                [label_pos[\"Stanford-defined\"], label_pos[\"Stanford-defined\"]],\n",
    "                                lw = 15,\n",
    "                                color = colors[label],\n",
    "                                label = str(\"NA\") if label == str(\"NA\") else label\n",
    "                            )\n",
    "                            nums[label] += 1\n",
    "                        else:\n",
    "                            plt.plot(\n",
    "                                [cur_plot_start, cur_plot_end],\n",
    "                                [label_pos[\"Stanford-defined\"], label_pos[\"Stanford-defined\"]],\n",
    "                                lw = 15,\n",
    "                                color = colors[label]\n",
    "                            )\n",
    "\n",
    "                # plot the Time-based classification result\n",
    "                tmp_time_event_df = time_event_df[(time_event_df[\"Datetime (UTC)\"] >= start) & (time_event_df[\"Datetime (UTC)\"] <= end)].reset_index(drop=True)\n",
    "\n",
    "                # find a segment which contains the same label and plot it\n",
    "\n",
    "                time_start_idx = 0\n",
    "                time_end_idx = 0\n",
    "                while time_end_idx < tmp_time_event_df.shape[0]:\n",
    "\n",
    "                    if tmp_time_event_df[\"norm_class\"].values[time_start_idx] == tmp_time_event_df[\"norm_class\"].values[time_end_idx]:\n",
    "                        time_end_idx += 1\n",
    "                        continue\n",
    "                    else:\n",
    "                        label = tmp_time_event_df[\"norm_class\"].values[time_start_idx]\n",
    "                        if label in colors.keys():\n",
    "                            if (label == \"TP\" and nums[\"TP\"] == 0) or\\\n",
    "                                  (label == \"FP\" and nums[\"FP\"] == 0) or\\\n",
    "                                      (label == \"FN\" and nums[\"FN\"] == 0) or\\\n",
    "                                          (label == \"TN\" and nums[\"TN\"] == 0) or\\\n",
    "                                            (label == str(\"NA\") and nums[\"NA\"] == 0):\n",
    "                                plt.plot(\n",
    "                                    [tmp_time_event_df[\"Datetime (UTC)\"].values[time_start_idx], tmp_time_event_df[\"Datetime (UTC)\"].values[time_end_idx - 1]],\n",
    "                                    [label_pos[\"Time-based\"], label_pos[\"Time-based\"]],\n",
    "                                    lw = 15,\n",
    "                                    color = colors[label],\n",
    "                                    label = str(\"NA\") if label == str(\"NA\") else label\n",
    "                                )\n",
    "                                nums[label] += 1\n",
    "                            else:\n",
    "                                plt.plot(\n",
    "                                    [tmp_time_event_df[\"Datetime (UTC)\"].values[time_start_idx], tmp_time_event_df[\"Datetime (UTC)\"].values[time_end_idx - 1]],\n",
    "                                    [label_pos[\"Time-based\"], label_pos[\"Time-based\"]],\n",
    "                                    lw = 15,\n",
    "                                    color = colors[label]\n",
    "                                )\n",
    "\n",
    "                        else:\n",
    "                            continue\n",
    "                        time_start_idx = time_end_idx\n",
    "                        time_end_idx += 1\n",
    "                if time_start_idx < tmp_time_event_df.shape[0]:\n",
    "                    label = tmp_time_event_df[\"norm_class\"].values[time_start_idx]\n",
    "                    if label in colors.keys():\n",
    "                        if (label == \"TP\" and nums[\"TP\"] == 0) or\\\n",
    "                                (label == \"FP\" and nums[\"FP\"] == 0) or\\\n",
    "                                    (label == \"FN\" and nums[\"FN\"] == 0) or\\\n",
    "                                        (label == \"TN\" and nums[\"TN\"] == 0) or\\\n",
    "                                            (label == str(\"NA\") and nums[\"NA\"] == 0):\n",
    "                                plt.plot(\n",
    "                                    [tmp_time_event_df[\"Datetime (UTC)\"].values[time_start_idx], tmp_time_event_df[\"Datetime (UTC)\"].values[time_end_idx - 1]],\n",
    "                                    [label_pos[\"Time-based\"], label_pos[\"Time-based\"]],\n",
    "                                    lw = 15,\n",
    "                                    color = colors[tmp_time_event_df[\"norm_class\"].values[time_start_idx]],\n",
    "                                    label = str(\"NA\") if label == str(\"NA\") else label\n",
    "                                )\n",
    "                                nums[label] += 1\n",
    "                        else:\n",
    "                            plt.plot(\n",
    "                                [tmp_time_event_df[\"Datetime (UTC)\"].values[time_start_idx], tmp_time_event_df[\"Datetime (UTC)\"].values[time_end_idx - 1]],\n",
    "                                [label_pos[\"Time-based\"], label_pos[\"Time-based\"]],\n",
    "                                lw = 15,\n",
    "                                color = colors[tmp_time_event_df[\"norm_class\"].values[time_start_idx]]\n",
    "                            )\n",
    "                    else:\n",
    "                        continue\n",
    "\n",
    "                axes.xaxis.set_major_formatter(mdates.DateFormatter('%H:%M')) \n",
    "                plt.setp(axes.get_yticklabels(), visible=False)\n",
    "                plt.xlabel(\"Time (UTC)\")\n",
    "                l1 = \"Stanford-defined\"\n",
    "                l2 = \"     Team-defined\"\n",
    "                l3 = \"        Time-based\"\n",
    "                l_len = max(len(l1), len(l2), len(l3))\n",
    "                title = f\"{l1}\"  + \"\\n\" + f\"{l2}\" + \"\\n\" + f\"{l3}\"\n",
    "                plt.ylabel(title, rotation=\"horizontal\", labelpad=90, verticalalignment=\"center_baseline\")\n",
    "                plt.ylim(-5, 5)\n",
    "                plt.xlim(start - pd.Timedelta(seconds=shift_time), end + pd.Timedelta(seconds=shift_time))\n",
    "                plt.legend(loc=(1, 0))\n",
    "                plt.savefig(PurePath(plot_save_dir, datetime.datetime.strftime(date, \"%Y-%m-%d\") + \".jpg\"), dpi=300)\n",
    "                plt.close()\n",
    "\n",
    "\n",
    "plot_sensors = sensor_names\n",
    "save_dir = PurePath(\"../../results/03_DetectionAnalysis/Test-case Matching Data/Matching Figures Per Day/\")\n",
    "prev_str = \"\"\n",
    "if short_stack:\n",
    "    prev_str += \"ss_\"\n",
    "save_dir = PurePath(save_dir, prev_str + \"{}xradius_{}xseconds/\".format(threshold, ignore_duration))\n",
    "if not os.path.exists(save_dir):\n",
    "    os.makedirs(save_dir)\n",
    "# plot_sensors = [\"Andium\"]\n",
    "print(\"Plotting compariso figures...\")\n",
    "plot_comparison_figuires(stanford_events_dict, team_events_dict, time_events_dict, plot_sensors, save_dir)"
   ]
  }
 ],
 "metadata": {
  "kernelspec": {
   "display_name": "base",
   "language": "python",
   "name": "python3"
  },
  "language_info": {
   "codemirror_mode": {
    "name": "ipython",
    "version": 3
   },
   "file_extension": ".py",
   "mimetype": "text/x-python",
   "name": "python",
   "nbconvert_exporter": "python",
   "pygments_lexer": "ipython3",
   "version": "3.8.5"
  },
  "orig_nbformat": 4
 },
 "nbformat": 4,
 "nbformat_minor": 2
}
