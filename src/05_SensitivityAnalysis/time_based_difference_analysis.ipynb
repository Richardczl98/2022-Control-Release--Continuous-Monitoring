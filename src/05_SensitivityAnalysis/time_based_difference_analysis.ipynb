{
 "cells": [
  {
   "cell_type": "markdown",
   "metadata": {},
   "source": [
    "# Import necessary packages"
   ]
  },
  {
   "cell_type": "code",
   "execution_count": 1,
   "metadata": {},
   "outputs": [],
   "source": [
    "import os\n",
    "import sys\n",
    "import math\n",
    "import numpy as np\n",
    "import pandas as pd\n",
    "from tqdm import tqdm\n",
    "import datetime\n",
    "from pprint import pprint\n",
    "import matplotlib.pyplot as plt\n",
    "import matplotlib.dates as mdates\n",
    "from pathlib import PurePath\n",
    "import warnings\n",
    "warnings.filterwarnings(\"ignore\")"
   ]
  },
  {
   "cell_type": "markdown",
   "metadata": {},
   "source": [
    "# Defining the parameter space\n",
    "\n",
    "- threshold: [1, 2, 4] (representing 1/2/4 times the experimental area radius for wind transpose model)\n",
    "- ignore_duration: [30, 60, 120] (indicating event lengths below 30/60/120 seconds to be ignored)\n",
    "- short_stack: [0, 1] (0 for analyzing all experimental dates, 1 for analyzing only the short stack scenario)"
   ]
  },
  {
   "cell_type": "code",
   "execution_count": 2,
   "metadata": {},
   "outputs": [
    {
     "name": "stdout",
     "output_type": "stream",
     "text": [
      "Input Parameters:\n",
      "Threshold            Ignore Duration      Short Stack         \n",
      "1                    60                   0                   \n",
      "2                    60                   0                   \n",
      "4                    60                   0                   \n"
     ]
    }
   ],
   "source": [
    "threshold = [1, 2, 4]\n",
    "ignore_duration = [30, 60, 120]\n",
    "short_stack = [0, 1]\n",
    "\n",
    "inputs = [\n",
    "    [1, 60, 0],\n",
    "    [2, 60, 0],\n",
    "    [4, 60, 0]\n",
    "]\n",
    "\n",
    "print(\"Input Parameters:\")\n",
    "print(\"{:<20} {:<20} {:<20}\".format('Threshold', 'Ignore Duration', 'Short Stack'))\n",
    "for i in inputs:\n",
    "    print(\"{:<20} {:<20} {:<20}\".format(i[0], i[1], i[2]))"
   ]
  },
  {
   "cell_type": "markdown",
   "metadata": {},
   "source": [
    "# Load Confusion Matrix for Reliability metrics\n",
    "\n",
    "For bellow inputs, load the data for the Event-based Confusion Matrix for metrics \n",
    "    \"TP(%)\",\n",
    "    \"FP(%)\",\n",
    "    \"FN(%)\",\n",
    "    \"TN(%)\",\n",
    "    \"sample_size\",\n",
    "    \"FPR(%)\",\n",
    "    \"TPR(%)\",\n",
    "    \"TNR(%)\",\n",
    "    \"FNR(%)\",\n",
    "    \"Accuracy(%)\",\n",
    "    \"Precision(%)\"\n",
    "| threshold | ignore_duration | short_stack |\n",
    "| :-: | :-: | :-: |\n",
    "| 1 | 60 | 0 | \n",
    "| 2 | 60 | 0 |\n",
    "| 4 | 60 | 0 |\n"
   ]
  },
  {
   "cell_type": "code",
   "execution_count": 3,
   "metadata": {},
   "outputs": [
    {
     "name": "stdout",
     "output_type": "stream",
     "text": [
      "Get the time-based difference of the confusion matrix.\n",
      "Threshold: 1, Ignore Duration: 60, Short Stack: 0\n",
      "\t Sensor: Andium\n",
      "\t Sensor: Canary\n",
      "\t Sensor: Ecoteco\n",
      "\t Sensor: Kuva\n",
      "\t Sensor: Oiler\n",
      "\t Sensor: Qube\n",
      "\t Sensor: Sensirion\n",
      "\t Sensor: Soofie\n",
      "Threshold: 2, Ignore Duration: 60, Short Stack: 0\n",
      "\t Sensor: Andium\n",
      "\t Sensor: Canary\n",
      "\t Sensor: Ecoteco\n",
      "\t Sensor: Kuva\n",
      "\t Sensor: Oiler\n",
      "\t Sensor: Qube\n",
      "\t Sensor: Sensirion\n",
      "\t Sensor: Soofie\n",
      "Threshold: 4, Ignore Duration: 60, Short Stack: 0\n",
      "\t Sensor: Andium\n",
      "\t Sensor: Canary\n",
      "\t Sensor: Ecoteco\n",
      "\t Sensor: Kuva\n",
      "\t Sensor: Oiler\n",
      "\t Sensor: Qube\n",
      "\t Sensor: Sensirion\n",
      "\t Sensor: Soofie\n",
      "Done.\n"
     ]
    }
   ],
   "source": [
    "data_dir = PurePath(\"../../results/03_DetectionAnalysis\", \"Time-based ConfusionMatrix\")\n",
    "path_pattern = \"threshold={}xradius_duration={}xseconds.csv\"\n",
    "\n",
    "sensor_names = [\"Andium\", \"Canary\", \"Ecoteco\", \"Kuva\", \"Oiler\", \"Qube\", \"Sensirion\", \"Soofie\"]\n",
    "\n",
    "def get_time_based_difference(data_dir, path_pattern_inputs, sensor_names):\n",
    "    \"\"\"\n",
    "    Get the time-based difference of the confusion matrix.\n",
    "    Args:\n",
    "        data_dir: The directory of the confusion matrix.\n",
    "        path_pattern_inputs: The input parameters of the confusion matrix.\n",
    "        sensor_names: The sensor names.\n",
    "    Returns:\n",
    "        The time-based difference of the confusion matrix.\n",
    "    \"\"\"\n",
    "    difference_dict = {}\n",
    "    for sensor_name in sensor_names:\n",
    "        difference_dict[sensor_name] = pd.DataFrame(\n",
    "            columns=[\"threshold\", \"samples\", \"TP(%)\", \"FP(%)\", \"FN(%)\", \"TN(%)\", \n",
    "                     \"TPR(%)\", \"FPR(%)\", \"FNR(%)\", \"TNR(%)\", \"Accuracy(%)\", \"Precision(%)\" ]\n",
    "                     )\n",
    "    for input in inputs:\n",
    "        threshold = input[0]\n",
    "        ignore_duration = input[1]\n",
    "        short_stack = input[2]\n",
    "\n",
    "        print(\"Threshold: {}, Ignore Duration: {}, Short Stack: {}\".format(threshold, ignore_duration, short_stack))\n",
    "\n",
    "        if short_stack == 0:\n",
    "            pre_str = \"\"\n",
    "        else:\n",
    "            pre_str = \"ss\"\n",
    "\n",
    "        df_time_based = pd.read_csv(os.path.join(data_dir, path_pattern.format(threshold, ignore_duration, pre_str)))\n",
    "        for sensor_name in sensor_names:\n",
    "            print(\"\\t Sensor: {}\".format(sensor_name))\n",
    "            samples = df_time_based[df_time_based[\"Sensor\"] == sensor_name][\"sample_size\"].values[0]\n",
    "            TP = df_time_based[df_time_based[\"Sensor\"] == sensor_name][\"TP(%)\"].values[0]\n",
    "            FP = df_time_based[df_time_based[\"Sensor\"] == sensor_name][\"FP(%)\"].values[0]\n",
    "            FN = df_time_based[df_time_based[\"Sensor\"] == sensor_name][\"FN(%)\"].values[0]\n",
    "            TN = df_time_based[df_time_based[\"Sensor\"] == sensor_name][\"TN(%)\"].values[0]\n",
    "\n",
    "            TPR = df_time_based[df_time_based[\"Sensor\"] == sensor_name][\"TPR(%)\"].values[0]\n",
    "            FPR = df_time_based[df_time_based[\"Sensor\"] == sensor_name][\"FPR(%)\"].values[0]\n",
    "            FNR = df_time_based[df_time_based[\"Sensor\"] == sensor_name][\"FNR(%)\"].values[0]\n",
    "            TNR = df_time_based[df_time_based[\"Sensor\"] == sensor_name][\"TNR(%)\"].values[0]\n",
    "\n",
    "            Accuracy = df_time_based[df_time_based[\"Sensor\"] == sensor_name][\"Accuracy(%)\"].values[0]\n",
    "            Precision = df_time_based[df_time_based[\"Sensor\"] == sensor_name][\"Precision(%)\"].values[0]\n",
    "\n",
    "\n",
    "            difference_dict[sensor_name] = difference_dict[sensor_name].append(\n",
    "                {\n",
    "                    \"threshold\": threshold,\n",
    "                    \"samples\": samples,\n",
    "                    \"TP(%)\": TP,\n",
    "                    \"FP(%)\": FP,\n",
    "                    \"FN(%)\": FN,\n",
    "                    \"TN(%)\": TN,\n",
    "                    \"TPR(%)\": TPR,\n",
    "                    \"FPR(%)\": FPR,\n",
    "                    \"FNR(%)\": FNR,\n",
    "                    \"TNR(%)\": TNR,\n",
    "                    \"Accuracy(%)\": Accuracy,\n",
    "                    \"Precision(%)\": Precision\n",
    "                }, ignore_index=True\n",
    "            )\n",
    "        for sensor_name in sensor_names:\n",
    "            difference_dict[sensor_name][\"threshold\"] = difference_dict[sensor_name][\"threshold\"].astype(int)\n",
    "            difference_dict[sensor_name][\"samples\"] = difference_dict[sensor_name][\"samples\"].astype(int)\n",
    "            \n",
    "    return difference_dict\n",
    "\n",
    "print(\"Get the time-based difference of the confusion matrix.\")\n",
    "difference_dict = get_time_based_difference(data_dir, path_pattern, sensor_names)\n",
    "print(\"Done.\")\n",
    "        "
   ]
  },
  {
   "cell_type": "markdown",
   "metadata": {},
   "source": [
    "# Save results\n"
   ]
  },
  {
   "cell_type": "code",
   "execution_count": 4,
   "metadata": {},
   "outputs": [],
   "source": [
    "save_path = PurePath(\"../../results/05_SensitivityAnalysis/\", \"Time-based Difference\")\n",
    "if not os.path.exists(save_path):\n",
    "    os.makedirs(save_path)\n",
    "\n",
    "save_pattern = \"{}_difference.csv\"\n",
    "filename = \"time_based_results.csv\"\n",
    "\n",
    "\n",
    "save_df = pd.DataFrame(\n",
    "    columns=[\"sensor\", \"threshold\", \"samples\", \"TP(%)\", \"FP(%)\", \"FN(%)\", \"TN(%)\", \n",
    "             \"TPR(%)\", \"FPR(%)\", \"FNR(%)\", \"TNR(%)\", \"Accuracy(%)\", \"Precision(%)\" ]\n",
    ")\n",
    "n = 0\n",
    "for sensor_name in sensor_names:\n",
    "    cur_df = difference_dict[sensor_name]\n",
    "    for i in range(len(cur_df)):\n",
    "        save_df.loc[n] = [sensor_name] + list(cur_df.iloc[i])\n",
    "        n += 1\n",
    "save_df.to_csv(PurePath(save_path, filename), index=False)"
   ]
  }
 ],
 "metadata": {
  "kernelspec": {
   "display_name": "base",
   "language": "python",
   "name": "python3"
  },
  "language_info": {
   "codemirror_mode": {
    "name": "ipython",
    "version": 3
   },
   "file_extension": ".py",
   "mimetype": "text/x-python",
   "name": "python",
   "nbconvert_exporter": "python",
   "pygments_lexer": "ipython3",
   "version": "3.8.5"
  }
 },
 "nbformat": 4,
 "nbformat_minor": 2
}
