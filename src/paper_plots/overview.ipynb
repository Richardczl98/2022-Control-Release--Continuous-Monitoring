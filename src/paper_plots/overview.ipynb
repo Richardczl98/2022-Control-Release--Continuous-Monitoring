{
 "cells": [
  {
   "cell_type": "markdown",
   "metadata": {},
   "source": [
    "## Summarize Release time\n",
    "\n",
    "compute emission duration, non-emission duration, total duration"
   ]
  },
  {
   "cell_type": "code",
   "execution_count": 1,
   "metadata": {},
   "outputs": [
    {
     "name": "stdout",
     "output_type": "stream",
     "text": [
      "\n",
      "Over the course of 46 days, we conducted 1060 hours of testing. Known periods of zero emissions are included in the testing \n",
      "period, encompassing overnight periods and weekends (some gas releases were conducted on weekends). In total, gas was \n",
      "being released 9.39\\% of the total testing time, or 99.00 hours.\n",
      "\n"
     ]
    }
   ],
   "source": [
    "from help_functions import load_release_time_summary\n",
    "\n",
    "number_of_date, number_of_comp_hours, number_of_release_hours, percentage_of_release_hours = load_release_time_summary()\n",
    "print(\n",
    "\"\"\"\n",
    "Over the course of {} days, we conducted {} hours of testing. Known periods of zero emissions are included in the testing \n",
    "period, encompassing overnight periods and weekends (some gas releases were conducted on weekends). In total, gas was \n",
    "being released {:.2f}\\% of the total testing time, or {:.2f} hours.\n",
    "\"\"\".format(int(number_of_date) - 6, int(number_of_comp_hours), percentage_of_release_hours * 100, int(number_of_release_hours))\n",
    ")"
   ]
  },
  {
   "cell_type": "markdown",
   "metadata": {},
   "source": [
    "## Summarize distribution of True Events\n",
    "\n",
    "minumum, average, and maximum release rate, duration of emission or non-emission events"
   ]
  },
  {
   "cell_type": "code",
   "execution_count": 1,
   "metadata": {},
   "outputs": [
    {
     "name": "stdout",
     "output_type": "stream",
     "text": [
      "Before wind transpose model:\n",
      "\n",
      "1. the lowest instantaneous release rate was 0.037 kg CH4/hr and the highest was 2830.211 kg CH4/hr. \n",
      "2. there were a total of 237 Stanford defined releases.\n",
      "3. Non-release periods between events ranged in length from 1.00 to 1439.98 minutes.\n",
      "4. The longest periods of non-emissions were extended periods before and alter testing, typically 114.23 hours in duration.\n",
      "5. The event with the smallest range of releases was 1.00 minutes long, with releases ranging from nan CH4/hr to nan CH4/hr. \n",
      "    Incontrast, the event with the largest range of releases was 213.95 minutes long, with releases ranging from 3.782 CH4/hr to 236.545 CH4/hr. \n",
      "\n",
      "After wind transpose model:\n",
      "\n",
      "1. the lowest instantaneous release rate was 0.037 kg CH4/hr and the highest was 2830.211 kg CH4/hr. \n",
      "2. there were a total of 107 Stanford defined releases.\n",
      "3. Non-release periods between events ranged in length from 1.02 to 1439.98 minutes.\n",
      "4. The longest periods of non-emissions were extended periods before and alter testing, typically 114.23 hours in duration.\n",
      "5. The event with the smallest range of releases was 1.12 minutes long, with releases ranging from 0.776 CH4/hr to 4.949 CH4/hr. \n",
      "    Incontrast, the event with the largest range of releases was 248.17 minutes long, with releases ranging from 0.952 CH4/hr to 1716.910 CH4/hr. \n",
      "\n"
     ]
    }
   ],
   "source": [
    "from help_functions import load_true_events_summary\n",
    "\n",
    "results = load_true_events_summary()\n",
    "\n",
    "string_format = \"\"\"\n",
    "1. the lowest instantaneous release rate was {:.3f} kg CH4/hr and the highest was {:.3f} kg CH4/hr. \n",
    "2. there were a total of {} Stanford defined releases.\n",
    "3. Non-release periods between events ranged in length from {:.2f} to {:.2f} minutes.\n",
    "4. The longest periods of non-emissions were extended periods before and alter testing, typically {:.2f} hours in duration.\n",
    "5. The event with the smallest range of releases was {:.2f} minutes long, with releases ranging from {:.3f} CH4/hr to {:.3f} CH4/hr. \n",
    "    Incontrast, the event with the largest range of releases was {:.2f} minutes long, with releases ranging from {:.3f} CH4/hr to {:.3f} CH4/hr. \n",
    "\"\"\"\n",
    "\n",
    "print(\"Before wind transpose model:\")\n",
    "before_data = [\n",
    "    results[\"before\"][\"min_release_rate_of_P_events\"],\n",
    "    results[\"before\"][\"max_release_rate_of_P_events\"],\n",
    "    results[\"before\"][\"number_of_P_events\"],\n",
    "    results[\"before\"][\"min_duration_of_N_events\"],\n",
    "    results[\"before\"][\"max_duration_of_N_events\"],\n",
    "    results[\"before\"][\"N_max_duration\"],\n",
    "    results[\"before\"][\"minP_duration\"],\n",
    "    results[\"before\"][\"minP_min_rate\"],\n",
    "    results[\"before\"][\"minP_max_rate\"],\n",
    "    results[\"before\"][\"maxP_duration\"],\n",
    "    results[\"before\"][\"maxP_min_rate\"],\n",
    "    results[\"before\"][\"maxP_max_rate\"]\n",
    "]\n",
    "print(string_format.format(*before_data))\n",
    "\n",
    "print(\"After wind transpose model:\")\n",
    "after_data = [\n",
    "    results[\"after\"][\"min_release_rate_of_P_events\"],\n",
    "    results[\"after\"][\"max_release_rate_of_P_events\"],\n",
    "    results[\"after\"][\"number_of_P_events\"],\n",
    "    results[\"after\"][\"min_duration_of_N_events\"],\n",
    "    results[\"after\"][\"max_duration_of_N_events\"],\n",
    "    results[\"after\"][\"N_max_duration\"],\n",
    "    results[\"after\"][\"minP_duration\"],\n",
    "    results[\"after\"][\"minP_min_rate\"],\n",
    "    results[\"after\"][\"minP_max_rate\"],\n",
    "    results[\"after\"][\"maxP_duration\"],\n",
    "    results[\"after\"][\"maxP_min_rate\"],\n",
    "    results[\"after\"][\"maxP_max_rate\"]\n",
    "]\n",
    "print(string_format.format(*after_data))"
   ]
  },
  {
   "cell_type": "markdown",
   "metadata": {},
   "source": [
    "# The longest periods of non-emissions"
   ]
  },
  {
   "cell_type": "code",
   "execution_count": 3,
   "metadata": {},
   "outputs": [
    {
     "name": "stdout",
     "output_type": "stream",
     "text": [
      "The longest periods of non-emissions were extended periods before and alter testing, typically 114.23222222222222 hours in duration, from 2022-11-23 22:10:22 to 2022-11-28 16:24:18.\n"
     ]
    }
   ],
   "source": [
    "from help_functions import get_longest_non_emission\n",
    "max_duration, start_time, end_time = get_longest_non_emission()\n",
    "\n",
    "print(\"The longest periods of non-emissions were extended periods before and alter testing, typically {} hours in duration, from {} to {}.\".format(\n",
    "    max_duration, start_time, end_time))"
   ]
  },
  {
   "cell_type": "markdown",
   "metadata": {},
   "source": [
    "## The greatest variability of mean release rate of all events"
   ]
  },
  {
   "cell_type": "code",
   "execution_count": 4,
   "metadata": {},
   "outputs": [
    {
     "name": "stdout",
     "output_type": "stream",
     "text": [
      "min release event:  2022-11-22 21:27:13 2022-11-22 22:18:25\n",
      "max release event:  2022-11-18 17:48:58 2022-11-18 18:30:49\n",
      "The greatest variability, minimum average and maximum average of events is: 1443.62, 0.81 and 1444.43 \n"
     ]
    }
   ],
   "source": [
    "from help_functions import load_greatest_variability_rate_of_true_events\n",
    "\n",
    "max_variability_rate, min_mean_release, max_mean_release = load_greatest_variability_rate_of_true_events()\n",
    "print(\"The greatest variability, minimum average and maximum average of events is: {:.2f}, {:.2f} and {:.2f} \".format(max_variability_rate, min_mean_release, max_mean_release))"
   ]
  },
  {
   "cell_type": "markdown",
   "metadata": {},
   "source": [
    "## Summarize Time-based Sample size"
   ]
  },
  {
   "cell_type": "code",
   "execution_count": 5,
   "metadata": {},
   "outputs": [
    {
     "name": "stderr",
     "output_type": "stream",
     "text": [
      "/Users/zhl/opt/miniconda3/lib/python3.8/site-packages/IPython/core/interactiveshell.py:3338: DtypeWarning: Columns (1,2,3) have mixed types.Specify dtype option on import or set low_memory=False.\n",
      "  if (await self.run_code(code, result,  async_=asy)):\n"
     ]
    },
    {
     "name": "stdout",
     "output_type": "stream",
     "text": [
      "Sample size for sensors:\n",
      "Andium: 3128980\n",
      "Canary: 1354747\n",
      "Ecoteco: 2639159\n",
      "Kuva: 914142\n",
      "Oiler: 1081843\n",
      "Minimum sample size: 914142\n",
      "Maximum sample size: 3128980\n",
      "Sample size in the time-based detection varies from 914142 to 3128980 measurements.\n"
     ]
    }
   ],
   "source": [
    "from help_functions import load_time_based_samples_summary\n",
    "\n",
    "sample_size = load_time_based_samples_summary()[\"samples\"]\n",
    "print(\"Sample size for sensors:\")\n",
    "for sensor, size in sample_size.items():\n",
    "    print(f\"{sensor}: {size}\")\n",
    "\n",
    "min_samples = min(sample_size.values())\n",
    "print(f\"Minimum sample size: {min_samples}\")\n",
    "max_samples = max(sample_size.values())\n",
    "print(f\"Maximum sample size: {max_samples}\")\n",
    "print(\"Sample size in the time-based detection varies from {} to {} measurements.\".format(min_samples, max_samples))"
   ]
  },
  {
   "cell_type": "markdown",
   "metadata": {},
   "source": [
    "## Plot end points of non-zero release period\n",
    "\n",
    "Generating a plot illustrating the end point of methane gas drift during non-zero release periods post-application of the wind transport model"
   ]
  },
  {
   "cell_type": "code",
   "execution_count": 6,
   "metadata": {},
   "outputs": [
    {
     "name": "stderr",
     "output_type": "stream",
     "text": [
      "/Users/zhl/Documents/个人项目/曙光北京2/气体释放/github/Continuous-Monitoring-_-V2/src/paper_plots/help_functions.py:442: SettingWithCopyWarning: \n",
      "A value is trying to be set on a copy of a slice from a DataFrame.\n",
      "Try using .loc[row_indexer,col_indexer] = value instead\n",
      "\n",
      "See the caveats in the documentation: https://pandas.pydata.org/pandas-docs/stable/user_guide/indexing.html#returning-a-view-versus-a-copy\n",
      "  internal_df_windspeed[\"sum_u_east\"] = internal_df_windspeed[\"u_east\"].cumsum()\n",
      "/Users/zhl/Documents/个人项目/曙光北京2/气体释放/github/Continuous-Monitoring-_-V2/src/paper_plots/help_functions.py:443: SettingWithCopyWarning: \n",
      "A value is trying to be set on a copy of a slice from a DataFrame.\n",
      "Try using .loc[row_indexer,col_indexer] = value instead\n",
      "\n",
      "See the caveats in the documentation: https://pandas.pydata.org/pandas-docs/stable/user_guide/indexing.html#returning-a-view-versus-a-copy\n",
      "  internal_df_windspeed[\"sum_u_north\"] = internal_df_windspeed[\"u_north\"].cumsum()\n"
     ]
    },
    {
     "data": {
      "image/png": "[encoded data removed]",
      "text/plain": [
       "<Figure size 864x864 with 1 Axes>"
      ]
     },
     "metadata": {
      "needs_background": "light"
     },
     "output_type": "display_data"
    }
   ],
   "source": [
    "from help_functions import plot_end_points\n",
    "import matplotlib.pyplot as plot\n",
    "\n",
    "non_zero_release_start = \"2022-10-25 17:17:38\"\n",
    "non_zero_release_end = \"2022-10-25 17:23:50\"\n",
    "\n",
    "next_non_zero_release_start = \"2022-10-25 17:23:55\"\n",
    "\n",
    "plot_end_points(non_zero_release_start, non_zero_release_end, next_non_zero_release_start)\n",
    "plot.show()"
   ]
  },
  {
   "cell_type": "code",
   "execution_count": 7,
   "metadata": {},
   "outputs": [
    {
     "data": {
      "image/png": "[encoded data removed]",
      "text/plain": [
       "<Figure size 864x864 with 1 Axes>"
      ]
     },
     "metadata": {
      "needs_background": "light"
     },
     "output_type": "display_data"
    }
   ],
   "source": [
    "from help_functions import plot_end_points\n",
    "import matplotlib.pyplot as plot\n",
    "\n",
    "non_zero_release_start = \"2022-10-25 18:12:41\"\n",
    "non_zero_release_end = \"2022-10-25 18:19:01\"\n",
    "\n",
    "next_non_zero_release_start = \"2022-10-25 18:31:11\"\n",
    "\n",
    "plot_end_points(non_zero_release_start, non_zero_release_end, next_non_zero_release_start)\n",
    "plot.show()"
   ]
  },
  {
   "cell_type": "markdown",
   "metadata": {},
   "source": [
    "# Statistical data for error bars"
   ]
  },
  {
   "cell_type": "code",
   "execution_count": 8,
   "metadata": {},
   "outputs": [
    {
     "data": {
      "text/html": [
       "<div>\n",
       "<style scoped>\n",
       "    .dataframe tbody tr th:only-of-type {\n",
       "        vertical-align: middle;\n",
       "    }\n",
       "\n",
       "    .dataframe tbody tr th {\n",
       "        vertical-align: top;\n",
       "    }\n",
       "\n",
       "    .dataframe thead th {\n",
       "        text-align: right;\n",
       "    }\n",
       "</style>\n",
       "<table border=\"1\" class=\"dataframe\">\n",
       "  <thead>\n",
       "    <tr style=\"text-align: right;\">\n",
       "      <th></th>\n",
       "      <th>sensor</th>\n",
       "      <th>type</th>\n",
       "      <th>count</th>\n",
       "      <th>min</th>\n",
       "      <th>max</th>\n",
       "      <th>mean</th>\n",
       "      <th>std</th>\n",
       "    </tr>\n",
       "  </thead>\n",
       "  <tbody>\n",
       "    <tr>\n",
       "      <th>0</th>\n",
       "      <td>Canary</td>\n",
       "      <td>Uncertainty of Release</td>\n",
       "      <td>10</td>\n",
       "      <td>0.0515276</td>\n",
       "      <td>24.3549</td>\n",
       "      <td>5.02877</td>\n",
       "      <td>7.46942</td>\n",
       "    </tr>\n",
       "    <tr>\n",
       "      <th>1</th>\n",
       "      <td>Canary</td>\n",
       "      <td>Uncertainty of Report</td>\n",
       "      <td>10</td>\n",
       "      <td>0</td>\n",
       "      <td>0</td>\n",
       "      <td>0</td>\n",
       "      <td>0</td>\n",
       "    </tr>\n",
       "    <tr>\n",
       "      <th>2</th>\n",
       "      <td>Oiler</td>\n",
       "      <td>Uncertainty of Release</td>\n",
       "      <td>13</td>\n",
       "      <td>0.130227</td>\n",
       "      <td>25.839</td>\n",
       "      <td>4.65423</td>\n",
       "      <td>6.88117</td>\n",
       "    </tr>\n",
       "    <tr>\n",
       "      <th>3</th>\n",
       "      <td>Oiler</td>\n",
       "      <td>Uncertainty of Report</td>\n",
       "      <td>13</td>\n",
       "      <td>0.0459906</td>\n",
       "      <td>0.769492</td>\n",
       "      <td>0.29745</td>\n",
       "      <td>0.227182</td>\n",
       "    </tr>\n",
       "    <tr>\n",
       "      <th>4</th>\n",
       "      <td>Qube</td>\n",
       "      <td>Uncertainty of Release</td>\n",
       "      <td>27</td>\n",
       "      <td>0.0515276</td>\n",
       "      <td>25.839</td>\n",
       "      <td>3.67218</td>\n",
       "      <td>5.27148</td>\n",
       "    </tr>\n",
       "    <tr>\n",
       "      <th>5</th>\n",
       "      <td>Qube</td>\n",
       "      <td>Uncertainty of Report</td>\n",
       "      <td>27</td>\n",
       "      <td>0</td>\n",
       "      <td>17.9635</td>\n",
       "      <td>2.07862</td>\n",
       "      <td>4.47882</td>\n",
       "    </tr>\n",
       "    <tr>\n",
       "      <th>6</th>\n",
       "      <td>Sensirion</td>\n",
       "      <td>Uncertainty of Release</td>\n",
       "      <td>21</td>\n",
       "      <td>0.0540853</td>\n",
       "      <td>25.839</td>\n",
       "      <td>5.40484</td>\n",
       "      <td>7.47016</td>\n",
       "    </tr>\n",
       "    <tr>\n",
       "      <th>7</th>\n",
       "      <td>Sensirion</td>\n",
       "      <td>Uncertainty of Report</td>\n",
       "      <td>21</td>\n",
       "      <td>0.15</td>\n",
       "      <td>65.8</td>\n",
       "      <td>21.5289</td>\n",
       "      <td>21.9926</td>\n",
       "    </tr>\n",
       "    <tr>\n",
       "      <th>8</th>\n",
       "      <td>Soofie</td>\n",
       "      <td>Uncertainty of Release</td>\n",
       "      <td>26</td>\n",
       "      <td>0.0623409</td>\n",
       "      <td>25.839</td>\n",
       "      <td>4.28494</td>\n",
       "      <td>6.35168</td>\n",
       "    </tr>\n",
       "    <tr>\n",
       "      <th>9</th>\n",
       "      <td>Soofie</td>\n",
       "      <td>Uncertainty of Report</td>\n",
       "      <td>26</td>\n",
       "      <td>0</td>\n",
       "      <td>0</td>\n",
       "      <td>0</td>\n",
       "      <td>0</td>\n",
       "    </tr>\n",
       "  </tbody>\n",
       "</table>\n",
       "</div>"
      ],
      "text/plain": [
       "      sensor                    type count        min       max     mean  \\\n",
       "0     Canary  Uncertainty of Release    10  0.0515276   24.3549  5.02877   \n",
       "1     Canary   Uncertainty of Report    10          0         0        0   \n",
       "2      Oiler  Uncertainty of Release    13   0.130227    25.839  4.65423   \n",
       "3      Oiler   Uncertainty of Report    13  0.0459906  0.769492  0.29745   \n",
       "4       Qube  Uncertainty of Release    27  0.0515276    25.839  3.67218   \n",
       "5       Qube   Uncertainty of Report    27          0   17.9635  2.07862   \n",
       "6  Sensirion  Uncertainty of Release    21  0.0540853    25.839  5.40484   \n",
       "7  Sensirion   Uncertainty of Report    21       0.15      65.8  21.5289   \n",
       "8     Soofie  Uncertainty of Release    26  0.0623409    25.839  4.28494   \n",
       "9     Soofie   Uncertainty of Report    26          0         0        0   \n",
       "\n",
       "        std  \n",
       "0   7.46942  \n",
       "1         0  \n",
       "2   6.88117  \n",
       "3  0.227182  \n",
       "4   5.27148  \n",
       "5   4.47882  \n",
       "6   7.47016  \n",
       "7   21.9926  \n",
       "8   6.35168  \n",
       "9         0  "
      ]
     },
     "execution_count": 8,
     "metadata": {},
     "output_type": "execute_result"
    }
   ],
   "source": [
    "from help_functions import load_statistical_data_of_error_bars\n",
    "statistical_df = load_statistical_data_of_error_bars()\n",
    "statistical_df"
   ]
  }
 ],
 "metadata": {
  "kernelspec": {
   "display_name": "base",
   "language": "python",
   "name": "python3"
  },
  "language_info": {
   "codemirror_mode": {
    "name": "ipython",
    "version": 3
   },
   "file_extension": ".py",
   "mimetype": "text/x-python",
   "name": "python",
   "nbconvert_exporter": "python",
   "pygments_lexer": "ipython3",
   "version": "3.8.5"
  },
  "orig_nbformat": 4
 },
 "nbformat": 4,
 "nbformat_minor": 2
}
